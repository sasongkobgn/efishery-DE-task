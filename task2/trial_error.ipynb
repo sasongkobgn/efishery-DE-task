{
 "metadata": {
  "language_info": {
   "codemirror_mode": {
    "name": "ipython",
    "version": 3
   },
   "file_extension": ".py",
   "mimetype": "text/x-python",
   "name": "python",
   "nbconvert_exporter": "python",
   "pygments_lexer": "ipython3",
   "version": "3.8.5"
  },
  "orig_nbformat": 2,
  "kernelspec": {
   "name": "python385jvsc74a57bd0a90308b81cfff866ed9d307b18741afebc1b293002c7a70c3e1001eb2056af19",
   "display_name": "Python 3.8.5 64-bit ('base': conda)"
  }
 },
 "nbformat": 4,
 "nbformat_minor": 2,
 "cells": [
  {
   "cell_type": "code",
   "execution_count": 17,
   "metadata": {},
   "outputs": [],
   "source": [
    "# \n",
    "import numpy as np\n",
    "from itertools import chain\n",
    "\n",
    "import pandas as pd\n"
   ]
  },
  {
   "cell_type": "code",
   "execution_count": 18,
   "metadata": {},
   "outputs": [],
   "source": [
    "import pandas as pd\n",
    "df = pd.DataFrame({\"order_id\":[1,3,7],\"order_date\":[\"20/5/2018\",\"22/5/2018\",\"23/5/2018\"], \"package\":[\"p1,p2,p3\",\"p4\",\"p5,p6\"],\"package_code\":[\"#111,#222,#333\",\"#444\",\"#555,#666\"]})\n"
   ]
  },
  {
   "cell_type": "code",
   "execution_count": 19,
   "metadata": {},
   "outputs": [
    {
     "output_type": "execute_result",
     "data": {
      "text/plain": [
       "   order_id order_date   package    package_code\n",
       "0         1  20/5/2018  p1,p2,p3  #111,#222,#333\n",
       "1         3  22/5/2018        p4            #444\n",
       "2         7  23/5/2018     p5,p6       #555,#666"
      ],
      "text/html": "<div>\n<style scoped>\n    .dataframe tbody tr th:only-of-type {\n        vertical-align: middle;\n    }\n\n    .dataframe tbody tr th {\n        vertical-align: top;\n    }\n\n    .dataframe thead th {\n        text-align: right;\n    }\n</style>\n<table border=\"1\" class=\"dataframe\">\n  <thead>\n    <tr style=\"text-align: right;\">\n      <th></th>\n      <th>order_id</th>\n      <th>order_date</th>\n      <th>package</th>\n      <th>package_code</th>\n    </tr>\n  </thead>\n  <tbody>\n    <tr>\n      <th>0</th>\n      <td>1</td>\n      <td>20/5/2018</td>\n      <td>p1,p2,p3</td>\n      <td>#111,#222,#333</td>\n    </tr>\n    <tr>\n      <th>1</th>\n      <td>3</td>\n      <td>22/5/2018</td>\n      <td>p4</td>\n      <td>#444</td>\n    </tr>\n    <tr>\n      <th>2</th>\n      <td>7</td>\n      <td>23/5/2018</td>\n      <td>p5,p6</td>\n      <td>#555,#666</td>\n    </tr>\n  </tbody>\n</table>\n</div>"
     },
     "metadata": {},
     "execution_count": 19
    }
   ],
   "source": [
    "df.head()"
   ]
  },
  {
   "cell_type": "code",
   "execution_count": 20,
   "metadata": {},
   "outputs": [],
   "source": [
    "# return list from series of comma-separated strings\n",
    "def chainer(s):\n",
    "    return list(chain.from_iterable(s.str.split(',')))\n",
    "\n",
    "# calculate lengths of splits\n",
    "lens = df['package'].str.split(',').map(len)"
   ]
  },
  {
   "cell_type": "code",
   "execution_count": 23,
   "metadata": {},
   "outputs": [
    {
     "output_type": "stream",
     "name": "stdout",
     "text": [
      "0    3\n1    1\n2    2\nName: package, dtype: int64\n"
     ]
    }
   ],
   "source": [
    "# print lens\n",
    "print(lens)"
   ]
  },
  {
   "cell_type": "code",
   "execution_count": 21,
   "metadata": {},
   "outputs": [],
   "source": [
    "# create new dataframe, repeating or chaining as appropriate\n",
    "res = pd.DataFrame({'order_id': np.repeat(df['order_id'], lens),\n",
    "                    'order_date': np.repeat(df['order_date'], lens),\n",
    "                    'package': chainer(df['package']),\n",
    "                    'package_code': chainer(df['package_code'])})"
   ]
  },
  {
   "cell_type": "code",
   "execution_count": 16,
   "metadata": {},
   "outputs": [
    {
     "output_type": "execute_result",
     "data": {
      "text/plain": [
       "   order_id order_date package package_code\n",
       "0         1  20/5/2018      p1         #111\n",
       "0         1  20/5/2018      p2         #222\n",
       "0         1  20/5/2018      p3         #333\n",
       "1         3  22/5/2018      p4         #444\n",
       "2         7  23/5/2018      p5         #555\n",
       "2         7  23/5/2018      p6         #666"
      ],
      "text/html": "<div>\n<style scoped>\n    .dataframe tbody tr th:only-of-type {\n        vertical-align: middle;\n    }\n\n    .dataframe tbody tr th {\n        vertical-align: top;\n    }\n\n    .dataframe thead th {\n        text-align: right;\n    }\n</style>\n<table border=\"1\" class=\"dataframe\">\n  <thead>\n    <tr style=\"text-align: right;\">\n      <th></th>\n      <th>order_id</th>\n      <th>order_date</th>\n      <th>package</th>\n      <th>package_code</th>\n    </tr>\n  </thead>\n  <tbody>\n    <tr>\n      <th>0</th>\n      <td>1</td>\n      <td>20/5/2018</td>\n      <td>p1</td>\n      <td>#111</td>\n    </tr>\n    <tr>\n      <th>0</th>\n      <td>1</td>\n      <td>20/5/2018</td>\n      <td>p2</td>\n      <td>#222</td>\n    </tr>\n    <tr>\n      <th>0</th>\n      <td>1</td>\n      <td>20/5/2018</td>\n      <td>p3</td>\n      <td>#333</td>\n    </tr>\n    <tr>\n      <th>1</th>\n      <td>3</td>\n      <td>22/5/2018</td>\n      <td>p4</td>\n      <td>#444</td>\n    </tr>\n    <tr>\n      <th>2</th>\n      <td>7</td>\n      <td>23/5/2018</td>\n      <td>p5</td>\n      <td>#555</td>\n    </tr>\n    <tr>\n      <th>2</th>\n      <td>7</td>\n      <td>23/5/2018</td>\n      <td>p6</td>\n      <td>#666</td>\n    </tr>\n  </tbody>\n</table>\n</div>"
     },
     "metadata": {},
     "execution_count": 16
    }
   ],
   "source": []
  },
  {
   "cell_type": "code",
   "execution_count": null,
   "metadata": {},
   "outputs": [],
   "source": []
  },
  {
   "cell_type": "code",
   "execution_count": null,
   "metadata": {},
   "outputs": [],
   "source": []
  },
  {
   "cell_type": "code",
   "execution_count": null,
   "metadata": {},
   "outputs": [],
   "source": []
  },
  {
   "cell_type": "code",
   "execution_count": null,
   "metadata": {},
   "outputs": [],
   "source": []
  },
  {
   "cell_type": "code",
   "execution_count": null,
   "metadata": {},
   "outputs": [],
   "source": []
  },
  {
   "cell_type": "code",
   "execution_count": null,
   "metadata": {},
   "outputs": [],
   "source": []
  },
  {
   "cell_type": "code",
   "execution_count": null,
   "metadata": {},
   "outputs": [],
   "source": []
  },
  {
   "source": [
    "# separate with commas, using iterrows"
   ],
   "cell_type": "markdown",
   "metadata": {}
  },
  {
   "cell_type": "code",
   "execution_count": 2,
   "metadata": {},
   "outputs": [],
   "source": [
    "# import pandas package as pd\n",
    "import pandas as pd\n",
    "\n",
    "# Define a dictionary containing students data\n",
    "data = {'Name': ['Ankit', 'Amit', 'Aishwarya', 'Priyanka'],\n",
    "\t\t\t\t'Age': [21, 19, 20, 18],\n",
    "\t\t\t\t'Stream': ['Math', 'Commerce', 'Arts', 'Biology'],\n",
    "\t\t\t\t'Percentage': [88, 92, 95, 70]}\n"
   ]
  },
  {
   "cell_type": "code",
   "execution_count": 7,
   "metadata": {},
   "outputs": [
    {
     "output_type": "execute_result",
     "data": {
      "text/plain": [
       "dict"
      ]
     },
     "metadata": {},
     "execution_count": 7
    }
   ],
   "source": [
    "# still dic, not pandas.df\n",
    "type(data) "
   ]
  },
  {
   "cell_type": "code",
   "execution_count": 8,
   "metadata": {},
   "outputs": [],
   "source": [
    "# Convert the dictionary into DataFrame\n",
    "df = pd.DataFrame(data, columns = ['Name', 'Age', 'Stream', 'Percentage'])\n"
   ]
  },
  {
   "cell_type": "code",
   "execution_count": 9,
   "metadata": {},
   "outputs": [
    {
     "output_type": "execute_result",
     "data": {
      "text/plain": [
       "        Name  Age    Stream  Percentage\n",
       "0      Ankit   21      Math          88\n",
       "1       Amit   19  Commerce          92\n",
       "2  Aishwarya   20      Arts          95\n",
       "3   Priyanka   18   Biology          70"
      ],
      "text/html": "<div>\n<style scoped>\n    .dataframe tbody tr th:only-of-type {\n        vertical-align: middle;\n    }\n\n    .dataframe tbody tr th {\n        vertical-align: top;\n    }\n\n    .dataframe thead th {\n        text-align: right;\n    }\n</style>\n<table border=\"1\" class=\"dataframe\">\n  <thead>\n    <tr style=\"text-align: right;\">\n      <th></th>\n      <th>Name</th>\n      <th>Age</th>\n      <th>Stream</th>\n      <th>Percentage</th>\n    </tr>\n  </thead>\n  <tbody>\n    <tr>\n      <th>0</th>\n      <td>Ankit</td>\n      <td>21</td>\n      <td>Math</td>\n      <td>88</td>\n    </tr>\n    <tr>\n      <th>1</th>\n      <td>Amit</td>\n      <td>19</td>\n      <td>Commerce</td>\n      <td>92</td>\n    </tr>\n    <tr>\n      <th>2</th>\n      <td>Aishwarya</td>\n      <td>20</td>\n      <td>Arts</td>\n      <td>95</td>\n    </tr>\n    <tr>\n      <th>3</th>\n      <td>Priyanka</td>\n      <td>18</td>\n      <td>Biology</td>\n      <td>70</td>\n    </tr>\n  </tbody>\n</table>\n</div>"
     },
     "metadata": {},
     "execution_count": 9
    }
   ],
   "source": [
    "df"
   ]
  },
  {
   "cell_type": "code",
   "execution_count": 11,
   "metadata": {},
   "outputs": [
    {
     "output_type": "stream",
     "name": "stdout",
     "text": [
      "Given Dataframe :\n         Name  Age    Stream  Percentage\n0      Ankit   21      Math          88\n1       Amit   19  Commerce          92\n2  Aishwarya   20      Arts          95\n3   Priyanka   18   Biology          70\n\nIterating over rows using index attribute :\n\n"
     ]
    }
   ],
   "source": [
    "print(\"Given Dataframe :\\n\", df)\n",
    "\n",
    "print(\"\\nIterating over rows using index attribute :\\n\")\n"
   ]
  },
  {
   "cell_type": "code",
   "execution_count": 12,
   "metadata": {},
   "outputs": [
    {
     "output_type": "stream",
     "name": "stdout",
     "text": [
      "Ankit Math\nAmit Commerce\nAishwarya Arts\nPriyanka Biology\n"
     ]
    }
   ],
   "source": [
    "# iterate through each row and select\n",
    "# 'Name' and 'Stream' column respectively.\n",
    "for ind in df.index:\n",
    "\tprint(df['Name'][ind], df['Stream'][ind])"
   ]
  },
  {
   "cell_type": "code",
   "execution_count": null,
   "metadata": {},
   "outputs": [],
   "source": []
  }
 ]
}