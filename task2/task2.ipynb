{
 "cells": [
  {
   "cell_type": "code",
   "execution_count": 1,
   "metadata": {},
   "outputs": [
    {
     "name": "stdout",
     "output_type": "stream",
     "text": [
      "       komoditas berat\n",
      "count       1054  1054\n",
      "unique       437   400\n",
      "top         lele   3kg\n",
      "freq         192    64\n"
     ]
    }
   ],
   "source": [
    "# Load pandas, numpy\n",
    "import pandas as pd\n",
    "import numpy as np \n",
    "import matplotlib.pyplot as plt\n",
    "\n",
    "\n",
    "# Load the daily report to a data frame\n",
    "df = pd.read_json('soal-2.json')\n",
    "\n",
    "# view the describe dataframe\n",
    "print(df.describe())"
   ]
  },
  {
   "cell_type": "code",
   "execution_count": 3,
   "metadata": {},
   "outputs": [],
   "source": [
    "# delete unnecessary data\n",
    "lens_berat = df['berat'].str.split(',').map(len)\n",
    "\n",
    "lens_komoditas = df['komoditas'].str.split(',').map(len)"
   ]
  },
  {
   "cell_type": "code",
   "execution_count": null,
   "metadata": {},
   "outputs": [],
   "source": [
    "if lens_berat == lens_komoditas:\n",
    "    return df.drop"
   ]
  }
 ],
 "metadata": {
  "kernelspec": {
   "display_name": "Python 3",
   "language": "python",
   "name": "python3"
  },
  "language_info": {
   "codemirror_mode": {
    "name": "ipython",
    "version": 3
   },
   "file_extension": ".py",
   "mimetype": "text/x-python",
   "name": "python",
   "nbconvert_exporter": "python",
   "pygments_lexer": "ipython3",
   "version": "3.8.5"
  }
 },
 "nbformat": 4,
 "nbformat_minor": 4
}
