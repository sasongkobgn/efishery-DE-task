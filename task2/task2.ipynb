{
 "metadata": {
  "language_info": {
   "codemirror_mode": {
    "name": "ipython",
    "version": 3
   },
   "file_extension": ".py",
   "mimetype": "text/x-python",
   "name": "python",
   "nbconvert_exporter": "python",
   "pygments_lexer": "ipython3",
   "version": "3.8.5"
  },
  "orig_nbformat": 2,
  "kernelspec": {
   "name": "python385jvsc74a57bd0a90308b81cfff866ed9d307b18741afebc1b293002c7a70c3e1001eb2056af19",
   "display_name": "Python 3.8.5 64-bit ('base': conda)"
  }
 },
 "nbformat": 4,
 "nbformat_minor": 2,
 "cells": [
  {
   "cell_type": "code",
   "execution_count": 23,
   "metadata": {},
   "outputs": [
    {
     "output_type": "stream",
     "name": "stdout",
     "text": [
      "       komoditas berat\ncount       1054  1054\nunique       437   400\ntop         lele   3kg\nfreq         192    64\n"
     ]
    }
   ],
   "source": [
    "# Load pandas, numpy, regex\n",
    "import pandas as pd\n",
    "import numpy as np \n",
    "import re\n",
    "import matplotlib.pyplot as plt\n",
    "\n",
    "\n",
    "# Load the daily report to a data frame\n",
    "df = pd.read_json('soal-2.json')\n",
    "\n",
    "# view the describe dataframe\n",
    "print(df.describe())"
   ]
  },
  {
   "source": [
    "# remove unnecessary string"
   ],
   "cell_type": "markdown",
   "metadata": {}
  },
  {
   "cell_type": "code",
   "execution_count": 24,
   "metadata": {},
   "outputs": [],
   "source": [
    "df2 = df.apply(lambda x: x.str.replace(', ', ' '))"
   ]
  },
  {
   "cell_type": "code",
   "execution_count": 25,
   "metadata": {},
   "outputs": [],
   "source": [
    "# replace comma with whitespace again\n",
    "df2 = df2.apply(lambda x: x.str.replace(',', ' '))"
   ]
  },
  {
   "cell_type": "code",
   "execution_count": 26,
   "metadata": {},
   "outputs": [],
   "source": [
    "df2 = df2.apply(lambda x: x.str.replace('kg', ' '))"
   ]
  },
  {
   "cell_type": "code",
   "execution_count": 27,
   "metadata": {},
   "outputs": [],
   "source": [
    "# list that will remove on this df\n",
    "To_remove_lst = [\"lele\", \"bawal\", \"tongkol\", \"salem\", \"rata2\", \"kembung\", \"kecuali\", \"kakap\", \"nila\"]"
   ]
  },
  {
   "cell_type": "code",
   "execution_count": 28,
   "metadata": {},
   "outputs": [],
   "source": [
    "# remove list using regex (regular expression)\n",
    "df2['berat'] = df2['berat'].str.replace('|'.join(map(re.escape, To_remove_lst)), '')"
   ]
  },
  {
   "cell_type": "code",
   "execution_count": 30,
   "metadata": {},
   "outputs": [],
   "source": [
    "# delete ikan string replace with white space\n",
    "df2 = df2.apply(lambda x: x.str.replace('ikan', ''))"
   ]
  },
  {
   "cell_type": "code",
   "execution_count": 31,
   "metadata": {},
   "outputs": [],
   "source": [
    "df2['berat'] = df2['berat'].str.split()"
   ]
  },
  {
   "cell_type": "code",
   "execution_count": 32,
   "metadata": {},
   "outputs": [],
   "source": [
    "df2['komoditas'] = df2['komoditas'].str.split()"
   ]
  },
  {
   "cell_type": "code",
   "execution_count": 33,
   "metadata": {},
   "outputs": [
    {
     "output_type": "execute_result",
     "data": {
      "text/plain": [
       "                                          komoditas            berat\n",
       "0                               [lele, bawal, nila]        [6, 1, 1]\n",
       "1            [kakap, lele, kembung, tongkol, salem]  [2, 1, 1, 1, 1]\n",
       "2        [nila, kakap, lele, bawal, kembung, salam]           [1, 2]\n",
       "3             [nila, kembung, tongkol, lele, bawal]  [1, 2, 5, 2, 3]\n",
       "4     [lele, kerapu, mas, pindang, tongkol, gurame]              [1]\n",
       "...                                             ...              ...\n",
       "1049                                         [lele]              [3]\n",
       "1050                                  [mas, mujaer]           [5, 5]\n",
       "1051                     [mas, lele, bawal, mujair]              [5]\n",
       "1052                                [tongkol, nila]           [4, 5]\n",
       "1053                           [mas, lele, tongkol]              [4]\n",
       "\n",
       "[1054 rows x 2 columns]"
      ],
      "text/html": "<div>\n<style scoped>\n    .dataframe tbody tr th:only-of-type {\n        vertical-align: middle;\n    }\n\n    .dataframe tbody tr th {\n        vertical-align: top;\n    }\n\n    .dataframe thead th {\n        text-align: right;\n    }\n</style>\n<table border=\"1\" class=\"dataframe\">\n  <thead>\n    <tr style=\"text-align: right;\">\n      <th></th>\n      <th>komoditas</th>\n      <th>berat</th>\n    </tr>\n  </thead>\n  <tbody>\n    <tr>\n      <th>0</th>\n      <td>[lele, bawal, nila]</td>\n      <td>[6, 1, 1]</td>\n    </tr>\n    <tr>\n      <th>1</th>\n      <td>[kakap, lele, kembung, tongkol, salem]</td>\n      <td>[2, 1, 1, 1, 1]</td>\n    </tr>\n    <tr>\n      <th>2</th>\n      <td>[nila, kakap, lele, bawal, kembung, salam]</td>\n      <td>[1, 2]</td>\n    </tr>\n    <tr>\n      <th>3</th>\n      <td>[nila, kembung, tongkol, lele, bawal]</td>\n      <td>[1, 2, 5, 2, 3]</td>\n    </tr>\n    <tr>\n      <th>4</th>\n      <td>[lele, kerapu, mas, pindang, tongkol, gurame]</td>\n      <td>[1]</td>\n    </tr>\n    <tr>\n      <th>...</th>\n      <td>...</td>\n      <td>...</td>\n    </tr>\n    <tr>\n      <th>1049</th>\n      <td>[lele]</td>\n      <td>[3]</td>\n    </tr>\n    <tr>\n      <th>1050</th>\n      <td>[mas, mujaer]</td>\n      <td>[5, 5]</td>\n    </tr>\n    <tr>\n      <th>1051</th>\n      <td>[mas, lele, bawal, mujair]</td>\n      <td>[5]</td>\n    </tr>\n    <tr>\n      <th>1052</th>\n      <td>[tongkol, nila]</td>\n      <td>[4, 5]</td>\n    </tr>\n    <tr>\n      <th>1053</th>\n      <td>[mas, lele, tongkol]</td>\n      <td>[4]</td>\n    </tr>\n  </tbody>\n</table>\n<p>1054 rows × 2 columns</p>\n</div>"
     },
     "metadata": {},
     "execution_count": 33
    }
   ],
   "source": [
    "df2"
   ]
  },
  {
   "source": [
    "note: \n",
    "\n",
    "1. jika datanya dalam bentuk range, disini tidak diangaap atau tidak valid, karena kita tidak bisa menentukan, atau kita ambil pertengahan, 1-5 = 3kg\n",
    "2. data yang tertukar di-cleansing\n",
    "3. "
   ],
   "cell_type": "markdown",
   "metadata": {}
  },
  {
   "cell_type": "code",
   "execution_count": 35,
   "metadata": {},
   "outputs": [
    {
     "output_type": "stream",
     "name": "stdout",
     "text": [
      "hello\n"
     ]
    }
   ],
   "source": [
    "print(\"hello\")"
   ]
  },
  {
   "cell_type": "code",
   "execution_count": null,
   "metadata": {},
   "outputs": [],
   "source": []
  }
 ]
}