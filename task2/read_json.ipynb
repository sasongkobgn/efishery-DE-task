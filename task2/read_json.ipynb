{
 "metadata": {
  "language_info": {
   "codemirror_mode": {
    "name": "ipython",
    "version": 3
   },
   "file_extension": ".py",
   "mimetype": "text/x-python",
   "name": "python",
   "nbconvert_exporter": "python",
   "pygments_lexer": "ipython3",
   "version": "3.8.5"
  },
  "orig_nbformat": 2,
  "kernelspec": {
   "name": "python385jvsc74a57bd0a90308b81cfff866ed9d307b18741afebc1b293002c7a70c3e1001eb2056af19",
   "display_name": "Python 3.8.5 64-bit ('base': conda)"
  }
 },
 "nbformat": 4,
 "nbformat_minor": 2,
 "cells": [
  {
   "cell_type": "code",
   "execution_count": 15,
   "metadata": {},
   "outputs": [
    {
     "output_type": "stream",
     "name": "stdout",
     "text": [
      "       komoditas berat\ncount       1054  1054\nunique       437   400\ntop         lele   3kg\nfreq         192    64\n"
     ]
    }
   ],
   "source": [
    "# Load pandas, numpy\n",
    "import pandas as pd\n",
    "import numpy as np \n",
    "import missingno as msno\n",
    "import matplotlib.pyplot as plt\n",
    "\n",
    "\n",
    "\n",
    "# Load the daily report to a data frame\n",
    "df = pd.read_json('soal-2.json')\n",
    "\n",
    "# View summary stats about pop_in_shelters\n",
    "print(df.describe())"
   ]
  },
  {
   "cell_type": "code",
   "execution_count": 16,
   "metadata": {},
   "outputs": [
    {
     "output_type": "execute_result",
     "data": {
      "text/plain": [
       "                                         komoditas  \\\n",
       "0                                lele, bawal, nila   \n",
       "1                 kakap lele kembung tongkol salem   \n",
       "2    ikan nila, kakap, lele, bawal, kembung, salam   \n",
       "3                  nila kembung tongkol lele bawal   \n",
       "4  lele, kerapu, ikan mas, pindang tongkol, gurame   \n",
       "\n",
       "                                               berat  \n",
       "0                      lele 6kg, bawal 1kg, nila 1kg  \n",
       "1  kakap 2kg lele 1kg kembung 1kg tongkol 1kg sal...  \n",
       "2                      rata2 1kg kecuali kembung 2kg  \n",
       "3  nila 1kg bawal 2kg kembung 5kg lele 2kg tongko...  \n",
       "4                                          rata2 1kg  "
      ],
      "text/html": "<div>\n<style scoped>\n    .dataframe tbody tr th:only-of-type {\n        vertical-align: middle;\n    }\n\n    .dataframe tbody tr th {\n        vertical-align: top;\n    }\n\n    .dataframe thead th {\n        text-align: right;\n    }\n</style>\n<table border=\"1\" class=\"dataframe\">\n  <thead>\n    <tr style=\"text-align: right;\">\n      <th></th>\n      <th>komoditas</th>\n      <th>berat</th>\n    </tr>\n  </thead>\n  <tbody>\n    <tr>\n      <th>0</th>\n      <td>lele, bawal, nila</td>\n      <td>lele 6kg, bawal 1kg, nila 1kg</td>\n    </tr>\n    <tr>\n      <th>1</th>\n      <td>kakap lele kembung tongkol salem</td>\n      <td>kakap 2kg lele 1kg kembung 1kg tongkol 1kg sal...</td>\n    </tr>\n    <tr>\n      <th>2</th>\n      <td>ikan nila, kakap, lele, bawal, kembung, salam</td>\n      <td>rata2 1kg kecuali kembung 2kg</td>\n    </tr>\n    <tr>\n      <th>3</th>\n      <td>nila kembung tongkol lele bawal</td>\n      <td>nila 1kg bawal 2kg kembung 5kg lele 2kg tongko...</td>\n    </tr>\n    <tr>\n      <th>4</th>\n      <td>lele, kerapu, ikan mas, pindang tongkol, gurame</td>\n      <td>rata2 1kg</td>\n    </tr>\n  </tbody>\n</table>\n</div>"
     },
     "metadata": {},
     "execution_count": 16
    }
   ],
   "source": [
    "df.head()"
   ]
  },
  {
   "source": [
    "`Note`: \n",
    "this data separate with whitespace and commas, so you have to make separate function and run twice each"
   ],
   "cell_type": "markdown",
   "metadata": {}
  },
  {
   "cell_type": "code",
   "execution_count": 17,
   "metadata": {},
   "outputs": [
    {
     "output_type": "execute_result",
     "data": {
      "text/plain": [
       "                                            komoditas  \\\n",
       "0                                   lele, bawal, nila   \n",
       "1                    kakap lele kembung tongkol salem   \n",
       "2       ikan nila, kakap, lele, bawal, kembung, salam   \n",
       "3                     nila kembung tongkol lele bawal   \n",
       "4     lele, kerapu, ikan mas, pindang tongkol, gurame   \n",
       "...                                               ...   \n",
       "1049                                        ikan lele   \n",
       "1050                                      mas, mujaer   \n",
       "1051                    ikan mas, lele, bawal, mujair   \n",
       "1052                                    tongkol, nila   \n",
       "1053                           ikan mas, lele,tongkol   \n",
       "\n",
       "                                                  berat  \n",
       "0                         lele 6kg, bawal 1kg, nila 1kg  \n",
       "1     kakap 2kg lele 1kg kembung 1kg tongkol 1kg sal...  \n",
       "2                         rata2 1kg kecuali kembung 2kg  \n",
       "3     nila 1kg bawal 2kg kembung 5kg lele 2kg tongko...  \n",
       "4                                             rata2 1kg  \n",
       "...                                                 ...  \n",
       "1049                                                3kg  \n",
       "1050                                                5,5  \n",
       "1051                                                  5  \n",
       "1052                                                4,5  \n",
       "1053                                                4kg  \n",
       "\n",
       "[1054 rows x 2 columns]"
      ],
      "text/html": "<div>\n<style scoped>\n    .dataframe tbody tr th:only-of-type {\n        vertical-align: middle;\n    }\n\n    .dataframe tbody tr th {\n        vertical-align: top;\n    }\n\n    .dataframe thead th {\n        text-align: right;\n    }\n</style>\n<table border=\"1\" class=\"dataframe\">\n  <thead>\n    <tr style=\"text-align: right;\">\n      <th></th>\n      <th>komoditas</th>\n      <th>berat</th>\n    </tr>\n  </thead>\n  <tbody>\n    <tr>\n      <th>0</th>\n      <td>lele, bawal, nila</td>\n      <td>lele 6kg, bawal 1kg, nila 1kg</td>\n    </tr>\n    <tr>\n      <th>1</th>\n      <td>kakap lele kembung tongkol salem</td>\n      <td>kakap 2kg lele 1kg kembung 1kg tongkol 1kg sal...</td>\n    </tr>\n    <tr>\n      <th>2</th>\n      <td>ikan nila, kakap, lele, bawal, kembung, salam</td>\n      <td>rata2 1kg kecuali kembung 2kg</td>\n    </tr>\n    <tr>\n      <th>3</th>\n      <td>nila kembung tongkol lele bawal</td>\n      <td>nila 1kg bawal 2kg kembung 5kg lele 2kg tongko...</td>\n    </tr>\n    <tr>\n      <th>4</th>\n      <td>lele, kerapu, ikan mas, pindang tongkol, gurame</td>\n      <td>rata2 1kg</td>\n    </tr>\n    <tr>\n      <th>...</th>\n      <td>...</td>\n      <td>...</td>\n    </tr>\n    <tr>\n      <th>1049</th>\n      <td>ikan lele</td>\n      <td>3kg</td>\n    </tr>\n    <tr>\n      <th>1050</th>\n      <td>mas, mujaer</td>\n      <td>5,5</td>\n    </tr>\n    <tr>\n      <th>1051</th>\n      <td>ikan mas, lele, bawal, mujair</td>\n      <td>5</td>\n    </tr>\n    <tr>\n      <th>1052</th>\n      <td>tongkol, nila</td>\n      <td>4,5</td>\n    </tr>\n    <tr>\n      <th>1053</th>\n      <td>ikan mas, lele,tongkol</td>\n      <td>4kg</td>\n    </tr>\n  </tbody>\n</table>\n<p>1054 rows × 2 columns</p>\n</div>"
     },
     "metadata": {},
     "execution_count": 17
    }
   ],
   "source": [
    "df"
   ]
  },
  {
   "cell_type": "code",
   "execution_count": 4,
   "metadata": {},
   "outputs": [
    {
     "output_type": "execute_result",
     "data": {
      "text/plain": [
       "<pandas.core.groupby.generic.DataFrameGroupBy object at 0x11e18aa60>"
      ]
     },
     "metadata": {},
     "execution_count": 4
    }
   ],
   "source": []
  },
  {
   "cell_type": "code",
   "execution_count": 18,
   "metadata": {},
   "outputs": [
    {
     "output_type": "stream",
     "name": "stdout",
     "text": [
      "                                         komoditas  \\\n0                                lele, bawal, nila   \n1                 kakap lele kembung tongkol salem   \n2    ikan nila, kakap, lele, bawal, kembung, salam   \n3                  nila kembung tongkol lele bawal   \n4  lele, kerapu, ikan mas, pindang tongkol, gurame   \n\n                                               berat  \n0                      lele 6kg, bawal 1kg, nila 1kg  \n1  kakap 2kg lele 1kg kembung 1kg tongkol 1kg sal...  \n2                      rata2 1kg kecuali kembung 2kg  \n3  nila 1kg bawal 2kg kembung 5kg lele 2kg tongko...  \n4                                          rata2 1kg  \n"
     ]
    }
   ],
   "source": [
    "print(df.head())"
   ]
  },
  {
   "cell_type": "code",
   "execution_count": 10,
   "metadata": {},
   "outputs": [
    {
     "output_type": "execute_result",
     "data": {
      "text/plain": [
       "0                           lele 6kg, bawal 1kg, nila 1kg\n",
       "1       kakap 2kg lele 1kg kembung 1kg tongkol 1kg sal...\n",
       "2                           rata2 1kg kecuali kembung 2kg\n",
       "3       nila 1kg bawal 2kg kembung 5kg lele 2kg tongko...\n",
       "4                                               rata2 1kg\n",
       "                              ...                        \n",
       "1049                                                  3kg\n",
       "1050                                                  5,5\n",
       "1051                                                    5\n",
       "1052                                                  4,5\n",
       "1053                                                  4kg\n",
       "Name: berat, Length: 1054, dtype: object"
      ]
     },
     "metadata": {},
     "execution_count": 10
    }
   ],
   "source": []
  },
  {
   "cell_type": "code",
   "execution_count": 19,
   "metadata": {},
   "outputs": [],
   "source": [
    "import missingno as msno"
   ]
  },
  {
   "cell_type": "code",
   "execution_count": 20,
   "metadata": {},
   "outputs": [
    {
     "output_type": "execute_result",
     "data": {
      "text/plain": [
       "<AxesSubplot:>"
      ]
     },
     "metadata": {},
     "execution_count": 20
    },
    {
     "output_type": "display_data",
     "data": {
      "text/plain": "<Figure size 1800x720 with 2 Axes>",
      "image/svg+xml": "<?xml version=\"1.0\" encoding=\"utf-8\" standalone=\"no\"?>\n<!DOCTYPE svg PUBLIC \"-//W3C//DTD SVG 1.1//EN\"\n  \"http://www.w3.org/Graphics/SVG/1.1/DTD/svg11.dtd\">\n<!-- Created with matplotlib (https://matplotlib.org/) -->\n<svg height=\"645.214564pt\" version=\"1.1\" viewBox=\"0 0 1463.4825 645.214564\" width=\"1463.4825pt\" xmlns=\"http://www.w3.org/2000/svg\" xmlns:xlink=\"http://www.w3.org/1999/xlink\">\n <metadata>\n  <rdf:RDF xmlns:cc=\"http://creativecommons.org/ns#\" xmlns:dc=\"http://purl.org/dc/elements/1.1/\" xmlns:rdf=\"http://www.w3.org/1999/02/22-rdf-syntax-ns#\">\n   <cc:Work>\n    <dc:type rdf:resource=\"http://purl.org/dc/dcmitype/StillImage\"/>\n    <dc:date>2021-04-29T01:07:40.048484</dc:date>\n    <dc:format>image/svg+xml</dc:format>\n    <dc:creator>\n     <cc:Agent>\n      <dc:title>Matplotlib v3.3.2, https://matplotlib.org/</dc:title>\n     </cc:Agent>\n    </dc:creator>\n   </cc:Work>\n  </rdf:RDF>\n </metadata>\n <defs>\n  <style type=\"text/css\">*{stroke-linecap:butt;stroke-linejoin:round;}</style>\n </defs>\n <g id=\"figure_1\">\n  <g id=\"patch_1\">\n   <path d=\"M 0 645.214564 \nL 1463.4825 645.214564 \nL 1463.4825 0 \nL 0 0 \nz\n\" style=\"fill:none;\"/>\n  </g>\n  <g id=\"axes_1\">\n   <g id=\"patch_2\">\n    <path d=\"M 1363.540865 627.343952 \nL 1447.375 627.343952 \nL 1447.375 83.743952 \nL 1363.540865 83.743952 \nz\n\" style=\"fill:#ffffff;\"/>\n   </g>\n   <g id=\"matplotlib.axis_1\"/>\n   <g id=\"matplotlib.axis_2\"/>\n   <g id=\"line2d_1\">\n    <path clip-path=\"url(#pb5976836e8)\" d=\"M 1405.457933 627.343952 \nL 1405.457933 83.743952 \nL 1405.457933 83.743952 \n\" style=\"fill:none;stroke:#404040;stroke-linecap:square;stroke-width:1.5;\"/>\n   </g>\n   <g id=\"line2d_2\">\n    <defs>\n     <path d=\"M 0 2.5 \nC 0.663008 2.5 1.29895 2.236584 1.767767 1.767767 \nC 2.236584 1.29895 2.5 0.663008 2.5 0 \nC 2.5 -0.663008 2.236584 -1.29895 1.767767 -1.767767 \nC 1.29895 -2.236584 0.663008 -2.5 0 -2.5 \nC -0.663008 -2.5 -1.29895 -2.236584 -1.767767 -1.767767 \nC -2.236584 -1.29895 -2.5 -0.663008 -2.5 0 \nC -2.5 0.663008 -2.236584 1.29895 -1.767767 1.767767 \nC -1.29895 2.236584 -0.663008 2.5 0 2.5 \nz\n\" id=\"me8e747f1e2\" style=\"stroke:#404040;\"/>\n    </defs>\n    <g clip-path=\"url(#pb5976836e8)\">\n     <use style=\"fill:#404040;stroke:#404040;\" x=\"1405.457933\" xlink:href=\"#me8e747f1e2\" y=\"627.343952\"/>\n    </g>\n   </g>\n   <g id=\"line2d_3\">\n    <g clip-path=\"url(#pb5976836e8)\">\n     <use style=\"fill:#404040;stroke:#404040;\" x=\"1405.457933\" xlink:href=\"#me8e747f1e2\" y=\"627.343952\"/>\n    </g>\n   </g>\n   <g id=\"text_1\">\n    <!-- 2 -->\n    <g transform=\"translate(1447.375 631.207077)scale(0.14 -0.14)\">\n     <defs>\n      <path d=\"M 19.1875 8.296875 \nL 53.609375 8.296875 \nL 53.609375 0 \nL 7.328125 0 \nL 7.328125 8.296875 \nQ 12.9375 14.109375 22.625 23.890625 \nQ 32.328125 33.6875 34.8125 36.53125 \nQ 39.546875 41.84375 41.421875 45.53125 \nQ 43.3125 49.21875 43.3125 52.78125 \nQ 43.3125 58.59375 39.234375 62.25 \nQ 35.15625 65.921875 28.609375 65.921875 \nQ 23.96875 65.921875 18.8125 64.3125 \nQ 13.671875 62.703125 7.8125 59.421875 \nL 7.8125 69.390625 \nQ 13.765625 71.78125 18.9375 73 \nQ 24.125 74.21875 28.421875 74.21875 \nQ 39.75 74.21875 46.484375 68.546875 \nQ 53.21875 62.890625 53.21875 53.421875 \nQ 53.21875 48.921875 51.53125 44.890625 \nQ 49.859375 40.875 45.40625 35.40625 \nQ 44.1875 33.984375 37.640625 27.21875 \nQ 31.109375 20.453125 19.1875 8.296875 \nz\n\" id=\"DejaVuSans-50\"/>\n     </defs>\n     <use xlink:href=\"#DejaVuSans-50\"/>\n    </g>\n   </g>\n   <g id=\"text_2\">\n    <!-- 2 -->\n    <g transform=\"translate(1354.633365 631.207077)scale(0.14 -0.14)\">\n     <use xlink:href=\"#DejaVuSans-50\"/>\n    </g>\n   </g>\n  </g>\n  <g id=\"axes_2\">\n   <g id=\"patch_3\">\n    <path d=\"M 52.375 627.343952 \nL 1309.887019 627.343952 \nL 1309.887019 83.743952 \nL 52.375 83.743952 \nz\n\" style=\"fill:#ffffff;\"/>\n   </g>\n   <g clip-path=\"url(#p37840c170a)\">\n    <image height=\"250\" id=\"imagee732b86aa3\" style=\"image-rendering:crisp-edges;image-rendering:pixelated\" transform=\"matrix(629 0 0 2.176 52.375 83.343952)\" width=\"2\" xlink:href=\"data:image/png;base64,\niVBORw0KGgoAAAANSUhEUgAAAAIAAAD6CAYAAACLd5ZQAAAAJUlEQVR4nO3GMQ0AAAgEsQNj718VLJgguU6tJAPQHGOMMcaYL1nYSQOwUfnY9gAAAABJRU5ErkJggg==\"/>\n   </g>\n   <g id=\"matplotlib.axis_3\">\n    <g id=\"xtick_1\">\n     <g id=\"text_3\">\n      <!-- komoditas -->\n      <g transform=\"translate(375.349655 74.391054)rotate(-45)scale(0.16 -0.16)\">\n       <defs>\n        <path d=\"M 9.078125 75.984375 \nL 18.109375 75.984375 \nL 18.109375 31.109375 \nL 44.921875 54.6875 \nL 56.390625 54.6875 \nL 27.390625 29.109375 \nL 57.625 0 \nL 45.90625 0 \nL 18.109375 26.703125 \nL 18.109375 0 \nL 9.078125 0 \nz\n\" id=\"DejaVuSans-107\"/>\n        <path d=\"M 30.609375 48.390625 \nQ 23.390625 48.390625 19.1875 42.75 \nQ 14.984375 37.109375 14.984375 27.296875 \nQ 14.984375 17.484375 19.15625 11.84375 \nQ 23.34375 6.203125 30.609375 6.203125 \nQ 37.796875 6.203125 41.984375 11.859375 \nQ 46.1875 17.53125 46.1875 27.296875 \nQ 46.1875 37.015625 41.984375 42.703125 \nQ 37.796875 48.390625 30.609375 48.390625 \nz\nM 30.609375 56 \nQ 42.328125 56 49.015625 48.375 \nQ 55.71875 40.765625 55.71875 27.296875 \nQ 55.71875 13.875 49.015625 6.21875 \nQ 42.328125 -1.421875 30.609375 -1.421875 \nQ 18.84375 -1.421875 12.171875 6.21875 \nQ 5.515625 13.875 5.515625 27.296875 \nQ 5.515625 40.765625 12.171875 48.375 \nQ 18.84375 56 30.609375 56 \nz\n\" id=\"DejaVuSans-111\"/>\n        <path d=\"M 52 44.1875 \nQ 55.375 50.25 60.0625 53.125 \nQ 64.75 56 71.09375 56 \nQ 79.640625 56 84.28125 50.015625 \nQ 88.921875 44.046875 88.921875 33.015625 \nL 88.921875 0 \nL 79.890625 0 \nL 79.890625 32.71875 \nQ 79.890625 40.578125 77.09375 44.375 \nQ 74.3125 48.1875 68.609375 48.1875 \nQ 61.625 48.1875 57.5625 43.546875 \nQ 53.515625 38.921875 53.515625 30.90625 \nL 53.515625 0 \nL 44.484375 0 \nL 44.484375 32.71875 \nQ 44.484375 40.625 41.703125 44.40625 \nQ 38.921875 48.1875 33.109375 48.1875 \nQ 26.21875 48.1875 22.15625 43.53125 \nQ 18.109375 38.875 18.109375 30.90625 \nL 18.109375 0 \nL 9.078125 0 \nL 9.078125 54.6875 \nL 18.109375 54.6875 \nL 18.109375 46.1875 \nQ 21.1875 51.21875 25.484375 53.609375 \nQ 29.78125 56 35.6875 56 \nQ 41.65625 56 45.828125 52.96875 \nQ 50 49.953125 52 44.1875 \nz\n\" id=\"DejaVuSans-109\"/>\n        <path d=\"M 45.40625 46.390625 \nL 45.40625 75.984375 \nL 54.390625 75.984375 \nL 54.390625 0 \nL 45.40625 0 \nL 45.40625 8.203125 \nQ 42.578125 3.328125 38.25 0.953125 \nQ 33.9375 -1.421875 27.875 -1.421875 \nQ 17.96875 -1.421875 11.734375 6.484375 \nQ 5.515625 14.40625 5.515625 27.296875 \nQ 5.515625 40.1875 11.734375 48.09375 \nQ 17.96875 56 27.875 56 \nQ 33.9375 56 38.25 53.625 \nQ 42.578125 51.265625 45.40625 46.390625 \nz\nM 14.796875 27.296875 \nQ 14.796875 17.390625 18.875 11.75 \nQ 22.953125 6.109375 30.078125 6.109375 \nQ 37.203125 6.109375 41.296875 11.75 \nQ 45.40625 17.390625 45.40625 27.296875 \nQ 45.40625 37.203125 41.296875 42.84375 \nQ 37.203125 48.484375 30.078125 48.484375 \nQ 22.953125 48.484375 18.875 42.84375 \nQ 14.796875 37.203125 14.796875 27.296875 \nz\n\" id=\"DejaVuSans-100\"/>\n        <path d=\"M 9.421875 54.6875 \nL 18.40625 54.6875 \nL 18.40625 0 \nL 9.421875 0 \nz\nM 9.421875 75.984375 \nL 18.40625 75.984375 \nL 18.40625 64.59375 \nL 9.421875 64.59375 \nz\n\" id=\"DejaVuSans-105\"/>\n        <path d=\"M 18.3125 70.21875 \nL 18.3125 54.6875 \nL 36.8125 54.6875 \nL 36.8125 47.703125 \nL 18.3125 47.703125 \nL 18.3125 18.015625 \nQ 18.3125 11.328125 20.140625 9.421875 \nQ 21.96875 7.515625 27.59375 7.515625 \nL 36.8125 7.515625 \nL 36.8125 0 \nL 27.59375 0 \nQ 17.1875 0 13.234375 3.875 \nQ 9.28125 7.765625 9.28125 18.015625 \nL 9.28125 47.703125 \nL 2.6875 47.703125 \nL 2.6875 54.6875 \nL 9.28125 54.6875 \nL 9.28125 70.21875 \nz\n\" id=\"DejaVuSans-116\"/>\n        <path d=\"M 34.28125 27.484375 \nQ 23.390625 27.484375 19.1875 25 \nQ 14.984375 22.515625 14.984375 16.5 \nQ 14.984375 11.71875 18.140625 8.90625 \nQ 21.296875 6.109375 26.703125 6.109375 \nQ 34.1875 6.109375 38.703125 11.40625 \nQ 43.21875 16.703125 43.21875 25.484375 \nL 43.21875 27.484375 \nz\nM 52.203125 31.203125 \nL 52.203125 0 \nL 43.21875 0 \nL 43.21875 8.296875 \nQ 40.140625 3.328125 35.546875 0.953125 \nQ 30.953125 -1.421875 24.3125 -1.421875 \nQ 15.921875 -1.421875 10.953125 3.296875 \nQ 6 8.015625 6 15.921875 \nQ 6 25.140625 12.171875 29.828125 \nQ 18.359375 34.515625 30.609375 34.515625 \nL 43.21875 34.515625 \nL 43.21875 35.40625 \nQ 43.21875 41.609375 39.140625 45 \nQ 35.0625 48.390625 27.6875 48.390625 \nQ 23 48.390625 18.546875 47.265625 \nQ 14.109375 46.140625 10.015625 43.890625 \nL 10.015625 52.203125 \nQ 14.9375 54.109375 19.578125 55.046875 \nQ 24.21875 56 28.609375 56 \nQ 40.484375 56 46.34375 49.84375 \nQ 52.203125 43.703125 52.203125 31.203125 \nz\n\" id=\"DejaVuSans-97\"/>\n        <path d=\"M 44.28125 53.078125 \nL 44.28125 44.578125 \nQ 40.484375 46.53125 36.375 47.5 \nQ 32.28125 48.484375 27.875 48.484375 \nQ 21.1875 48.484375 17.84375 46.4375 \nQ 14.5 44.390625 14.5 40.28125 \nQ 14.5 37.15625 16.890625 35.375 \nQ 19.28125 33.59375 26.515625 31.984375 \nL 29.59375 31.296875 \nQ 39.15625 29.25 43.1875 25.515625 \nQ 47.21875 21.78125 47.21875 15.09375 \nQ 47.21875 7.46875 41.1875 3.015625 \nQ 35.15625 -1.421875 24.609375 -1.421875 \nQ 20.21875 -1.421875 15.453125 -0.5625 \nQ 10.6875 0.296875 5.421875 2 \nL 5.421875 11.28125 \nQ 10.40625 8.6875 15.234375 7.390625 \nQ 20.0625 6.109375 24.8125 6.109375 \nQ 31.15625 6.109375 34.5625 8.28125 \nQ 37.984375 10.453125 37.984375 14.40625 \nQ 37.984375 18.0625 35.515625 20.015625 \nQ 33.0625 21.96875 24.703125 23.78125 \nL 21.578125 24.515625 \nQ 13.234375 26.265625 9.515625 29.90625 \nQ 5.8125 33.546875 5.8125 39.890625 \nQ 5.8125 47.609375 11.28125 51.796875 \nQ 16.75 56 26.8125 56 \nQ 31.78125 56 36.171875 55.265625 \nQ 40.578125 54.546875 44.28125 53.078125 \nz\n\" id=\"DejaVuSans-115\"/>\n       </defs>\n       <use xlink:href=\"#DejaVuSans-107\"/>\n       <use x=\"54.285156\" xlink:href=\"#DejaVuSans-111\"/>\n       <use x=\"115.466797\" xlink:href=\"#DejaVuSans-109\"/>\n       <use x=\"212.878906\" xlink:href=\"#DejaVuSans-111\"/>\n       <use x=\"274.060547\" xlink:href=\"#DejaVuSans-100\"/>\n       <use x=\"337.537109\" xlink:href=\"#DejaVuSans-105\"/>\n       <use x=\"365.320312\" xlink:href=\"#DejaVuSans-116\"/>\n       <use x=\"404.529297\" xlink:href=\"#DejaVuSans-97\"/>\n       <use x=\"465.808594\" xlink:href=\"#DejaVuSans-115\"/>\n      </g>\n     </g>\n    </g>\n    <g id=\"xtick_2\">\n     <g id=\"text_4\">\n      <!-- berat -->\n      <g transform=\"translate(1004.105665 74.391054)rotate(-45)scale(0.16 -0.16)\">\n       <defs>\n        <path d=\"M 48.6875 27.296875 \nQ 48.6875 37.203125 44.609375 42.84375 \nQ 40.53125 48.484375 33.40625 48.484375 \nQ 26.265625 48.484375 22.1875 42.84375 \nQ 18.109375 37.203125 18.109375 27.296875 \nQ 18.109375 17.390625 22.1875 11.75 \nQ 26.265625 6.109375 33.40625 6.109375 \nQ 40.53125 6.109375 44.609375 11.75 \nQ 48.6875 17.390625 48.6875 27.296875 \nz\nM 18.109375 46.390625 \nQ 20.953125 51.265625 25.265625 53.625 \nQ 29.59375 56 35.59375 56 \nQ 45.5625 56 51.78125 48.09375 \nQ 58.015625 40.1875 58.015625 27.296875 \nQ 58.015625 14.40625 51.78125 6.484375 \nQ 45.5625 -1.421875 35.59375 -1.421875 \nQ 29.59375 -1.421875 25.265625 0.953125 \nQ 20.953125 3.328125 18.109375 8.203125 \nL 18.109375 0 \nL 9.078125 0 \nL 9.078125 75.984375 \nL 18.109375 75.984375 \nz\n\" id=\"DejaVuSans-98\"/>\n        <path d=\"M 56.203125 29.59375 \nL 56.203125 25.203125 \nL 14.890625 25.203125 \nQ 15.484375 15.921875 20.484375 11.0625 \nQ 25.484375 6.203125 34.421875 6.203125 \nQ 39.59375 6.203125 44.453125 7.46875 \nQ 49.3125 8.734375 54.109375 11.28125 \nL 54.109375 2.78125 \nQ 49.265625 0.734375 44.1875 -0.34375 \nQ 39.109375 -1.421875 33.890625 -1.421875 \nQ 20.796875 -1.421875 13.15625 6.1875 \nQ 5.515625 13.8125 5.515625 26.8125 \nQ 5.515625 40.234375 12.765625 48.109375 \nQ 20.015625 56 32.328125 56 \nQ 43.359375 56 49.78125 48.890625 \nQ 56.203125 41.796875 56.203125 29.59375 \nz\nM 47.21875 32.234375 \nQ 47.125 39.59375 43.09375 43.984375 \nQ 39.0625 48.390625 32.421875 48.390625 \nQ 24.90625 48.390625 20.390625 44.140625 \nQ 15.875 39.890625 15.1875 32.171875 \nz\n\" id=\"DejaVuSans-101\"/>\n        <path d=\"M 41.109375 46.296875 \nQ 39.59375 47.171875 37.8125 47.578125 \nQ 36.03125 48 33.890625 48 \nQ 26.265625 48 22.1875 43.046875 \nQ 18.109375 38.09375 18.109375 28.8125 \nL 18.109375 0 \nL 9.078125 0 \nL 9.078125 54.6875 \nL 18.109375 54.6875 \nL 18.109375 46.1875 \nQ 20.953125 51.171875 25.484375 53.578125 \nQ 30.03125 56 36.53125 56 \nQ 37.453125 56 38.578125 55.875 \nQ 39.703125 55.765625 41.0625 55.515625 \nz\n\" id=\"DejaVuSans-114\"/>\n       </defs>\n       <use xlink:href=\"#DejaVuSans-98\"/>\n       <use x=\"63.476562\" xlink:href=\"#DejaVuSans-101\"/>\n       <use x=\"125\" xlink:href=\"#DejaVuSans-114\"/>\n       <use x=\"166.113281\" xlink:href=\"#DejaVuSans-97\"/>\n       <use x=\"227.392578\" xlink:href=\"#DejaVuSans-116\"/>\n      </g>\n     </g>\n    </g>\n   </g>\n   <g id=\"matplotlib.axis_4\">\n    <g id=\"ytick_1\">\n     <g id=\"text_5\">\n      <!-- 1 -->\n      <g transform=\"translate(32.65 92.429589)scale(0.2 -0.2)\">\n       <defs>\n        <path d=\"M 12.40625 8.296875 \nL 28.515625 8.296875 \nL 28.515625 63.921875 \nL 10.984375 60.40625 \nL 10.984375 69.390625 \nL 28.421875 72.90625 \nL 38.28125 72.90625 \nL 38.28125 8.296875 \nL 54.390625 8.296875 \nL 54.390625 0 \nL 12.40625 0 \nz\n\" id=\"DejaVuSans-49\"/>\n       </defs>\n       <use xlink:href=\"#DejaVuSans-49\"/>\n      </g>\n     </g>\n    </g>\n    <g id=\"ytick_2\">\n     <g id=\"text_6\">\n      <!-- 250 -->\n      <g transform=\"translate(7.2 633.855189)scale(0.2 -0.2)\">\n       <defs>\n        <path d=\"M 10.796875 72.90625 \nL 49.515625 72.90625 \nL 49.515625 64.59375 \nL 19.828125 64.59375 \nL 19.828125 46.734375 \nQ 21.96875 47.46875 24.109375 47.828125 \nQ 26.265625 48.1875 28.421875 48.1875 \nQ 40.625 48.1875 47.75 41.5 \nQ 54.890625 34.8125 54.890625 23.390625 \nQ 54.890625 11.625 47.5625 5.09375 \nQ 40.234375 -1.421875 26.90625 -1.421875 \nQ 22.3125 -1.421875 17.546875 -0.640625 \nQ 12.796875 0.140625 7.71875 1.703125 \nL 7.71875 11.625 \nQ 12.109375 9.234375 16.796875 8.0625 \nQ 21.484375 6.890625 26.703125 6.890625 \nQ 35.15625 6.890625 40.078125 11.328125 \nQ 45.015625 15.765625 45.015625 23.390625 \nQ 45.015625 31 40.078125 35.4375 \nQ 35.15625 39.890625 26.703125 39.890625 \nQ 22.75 39.890625 18.8125 39.015625 \nQ 14.890625 38.140625 10.796875 36.28125 \nz\n\" id=\"DejaVuSans-53\"/>\n        <path d=\"M 31.78125 66.40625 \nQ 24.171875 66.40625 20.328125 58.90625 \nQ 16.5 51.421875 16.5 36.375 \nQ 16.5 21.390625 20.328125 13.890625 \nQ 24.171875 6.390625 31.78125 6.390625 \nQ 39.453125 6.390625 43.28125 13.890625 \nQ 47.125 21.390625 47.125 36.375 \nQ 47.125 51.421875 43.28125 58.90625 \nQ 39.453125 66.40625 31.78125 66.40625 \nz\nM 31.78125 74.21875 \nQ 44.046875 74.21875 50.515625 64.515625 \nQ 56.984375 54.828125 56.984375 36.375 \nQ 56.984375 17.96875 50.515625 8.265625 \nQ 44.046875 -1.421875 31.78125 -1.421875 \nQ 19.53125 -1.421875 13.0625 8.265625 \nQ 6.59375 17.96875 6.59375 36.375 \nQ 6.59375 54.828125 13.0625 64.515625 \nQ 19.53125 74.21875 31.78125 74.21875 \nz\n\" id=\"DejaVuSans-48\"/>\n       </defs>\n       <use xlink:href=\"#DejaVuSans-50\"/>\n       <use x=\"63.623047\" xlink:href=\"#DejaVuSans-53\"/>\n       <use x=\"127.246094\" xlink:href=\"#DejaVuSans-48\"/>\n      </g>\n     </g>\n    </g>\n   </g>\n   <g id=\"line2d_4\">\n    <path clip-path=\"url(#p37840c170a)\" d=\"M 681.13101 627.343952 \nL 681.13101 83.743952 \n\" style=\"fill:none;stroke:#ffffff;stroke-linecap:square;stroke-width:1.5;\"/>\n   </g>\n  </g>\n </g>\n <defs>\n  <clipPath id=\"pb5976836e8\">\n   <rect height=\"543.6\" width=\"83.834135\" x=\"1363.540865\" y=\"83.743952\"/>\n  </clipPath>\n  <clipPath id=\"p37840c170a\">\n   <rect height=\"543.6\" width=\"1257.512019\" x=\"52.375\" y=\"83.743952\"/>\n  </clipPath>\n </defs>\n</svg>\n",
      "image/png": "[encoded data removed]"
     },
     "metadata": {
      "needs_background": "light"
     }
    }
   ],
   "source": [
    "msno.matrix(df.sample(250))"
   ]
  },
  {
   "cell_type": "code",
   "execution_count": 21,
   "metadata": {},
   "outputs": [
    {
     "output_type": "execute_result",
     "data": {
      "text/plain": [
       "                                         komoditas  \\\n",
       "0                                lele, bawal, nila   \n",
       "1                 kakap lele kembung tongkol salem   \n",
       "2    ikan nila, kakap, lele, bawal, kembung, salam   \n",
       "3                  nila kembung tongkol lele bawal   \n",
       "4  lele, kerapu, ikan mas, pindang tongkol, gurame   \n",
       "\n",
       "                                               berat  \n",
       "0                      lele 6kg, bawal 1kg, nila 1kg  \n",
       "1  kakap 2kg lele 1kg kembung 1kg tongkol 1kg sal...  \n",
       "2                      rata2 1kg kecuali kembung 2kg  \n",
       "3  nila 1kg bawal 2kg kembung 5kg lele 2kg tongko...  \n",
       "4                                          rata2 1kg  "
      ],
      "text/html": "<div>\n<style scoped>\n    .dataframe tbody tr th:only-of-type {\n        vertical-align: middle;\n    }\n\n    .dataframe tbody tr th {\n        vertical-align: top;\n    }\n\n    .dataframe thead th {\n        text-align: right;\n    }\n</style>\n<table border=\"1\" class=\"dataframe\">\n  <thead>\n    <tr style=\"text-align: right;\">\n      <th></th>\n      <th>komoditas</th>\n      <th>berat</th>\n    </tr>\n  </thead>\n  <tbody>\n    <tr>\n      <th>0</th>\n      <td>lele, bawal, nila</td>\n      <td>lele 6kg, bawal 1kg, nila 1kg</td>\n    </tr>\n    <tr>\n      <th>1</th>\n      <td>kakap lele kembung tongkol salem</td>\n      <td>kakap 2kg lele 1kg kembung 1kg tongkol 1kg sal...</td>\n    </tr>\n    <tr>\n      <th>2</th>\n      <td>ikan nila, kakap, lele, bawal, kembung, salam</td>\n      <td>rata2 1kg kecuali kembung 2kg</td>\n    </tr>\n    <tr>\n      <th>3</th>\n      <td>nila kembung tongkol lele bawal</td>\n      <td>nila 1kg bawal 2kg kembung 5kg lele 2kg tongko...</td>\n    </tr>\n    <tr>\n      <th>4</th>\n      <td>lele, kerapu, ikan mas, pindang tongkol, gurame</td>\n      <td>rata2 1kg</td>\n    </tr>\n  </tbody>\n</table>\n</div>"
     },
     "metadata": {},
     "execution_count": 21
    }
   ],
   "source": [
    "df.head()"
   ]
  },
  {
   "cell_type": "code",
   "execution_count": 22,
   "metadata": {},
   "outputs": [],
   "source": [
    "# improt chain from itertools\n",
    "import numpy as np\n",
    "from itertools import chain"
   ]
  },
  {
   "cell_type": "code",
   "execution_count": 23,
   "metadata": {},
   "outputs": [],
   "source": [
    "# print the length of splits\n",
    "lens = df['komoditas'].str.split(',').map(len)"
   ]
  },
  {
   "cell_type": "code",
   "execution_count": 24,
   "metadata": {},
   "outputs": [
    {
     "output_type": "stream",
     "name": "stdout",
     "text": [
      "0       3\n1       1\n2       6\n3       1\n4       5\n       ..\n1049    1\n1050    2\n1051    4\n1052    2\n1053    3\nName: komoditas, Length: 1054, dtype: int64\n"
     ]
    }
   ],
   "source": [
    "print(lens)"
   ]
  },
  {
   "cell_type": "code",
   "execution_count": 25,
   "metadata": {},
   "outputs": [],
   "source": [
    "# make the fuction to chain the iterable split of the rows\n",
    "def chainer(s): \n",
    "    return list(chain.from_iterable(s.str.split(',')))"
   ]
  },
  {
   "cell_type": "code",
   "execution_count": 47,
   "metadata": {},
   "outputs": [
    {
     "output_type": "error",
     "ename": "SyntaxError",
     "evalue": "unexpected EOF while parsing (<ipython-input-47-8676b1690812>, line 2)",
     "traceback": [
      "\u001b[0;36m  File \u001b[0;32m\"<ipython-input-47-8676b1690812>\"\u001b[0;36m, line \u001b[0;32m2\u001b[0m\n\u001b[0;31m    res = pd.DataFrame({'komoditas': chainer(df['komoditas'])\u001b[0m\n\u001b[0m                                                             ^\u001b[0m\n\u001b[0;31mSyntaxError\u001b[0m\u001b[0;31m:\u001b[0m unexpected EOF while parsing\n"
     ]
    }
   ],
   "source": [
    "# creating the new dataframe, and repneating or chaining as appropriate"
   ]
  },
  {
   "cell_type": "code",
   "execution_count": 16,
   "metadata": {},
   "outputs": [
    {
     "output_type": "stream",
     "name": "stdout",
     "text": [
      "<class 'pandas.core.frame.DataFrame'>\nRangeIndex: 1054 entries, 0 to 1053\nData columns (total 2 columns):\n #   Column     Non-Null Count  Dtype \n---  ------     --------------  ----- \n 0   komoditas  1054 non-null   object\n 1   berat      1054 non-null   object\ndtypes: object(2)\nmemory usage: 16.6+ KB\n"
     ]
    }
   ],
   "source": [
    "df.info()"
   ]
  },
  {
   "cell_type": "code",
   "execution_count": 46,
   "metadata": {},
   "outputs": [],
   "source": [
    "# convert to excel to see the whole data describtive\n",
    "df.to_excel(\"output_efishery_task2.xlsx\")"
   ]
  },
  {
   "source": [
    "# delete unnecessary data\n",
    "if the content not the same lengt > delete"
   ],
   "cell_type": "markdown",
   "metadata": {}
  },
  {
   "cell_type": "code",
   "execution_count": 19,
   "metadata": {},
   "outputs": [],
   "source": [
    "# function to delete the unnecessary data\n",
    "\n",
    "def remove_data(s): \n",
    "    if df.komoditas = df.berat:\n",
    "        # drop the rows\n",
    "        return df.drop\n",
    "\n"
   ]
  },
  {
   "cell_type": "code",
   "execution_count": 27,
   "metadata": {},
   "outputs": [],
   "source": [
    "lens_berat = df['berat'].str.split(',').map(len)\n",
    "\n",
    "lens_komoditas = df['komoditas'].str.split(',').map(len)"
   ]
  },
  {
   "cell_type": "code",
   "execution_count": 29,
   "metadata": {},
   "outputs": [
    {
     "output_type": "execute_result",
     "data": {
      "text/plain": [
       "0       3\n",
       "1       1\n",
       "2       1\n",
       "3       1\n",
       "4       1\n",
       "       ..\n",
       "1049    1\n",
       "1050    2\n",
       "1051    1\n",
       "1052    2\n",
       "1053    1\n",
       "Name: berat, Length: 1054, dtype: int64"
      ]
     },
     "metadata": {},
     "execution_count": 29
    }
   ],
   "source": [
    "lens_berat"
   ]
  },
  {
   "cell_type": "code",
   "execution_count": 31,
   "metadata": {},
   "outputs": [
    {
     "output_type": "execute_result",
     "data": {
      "text/plain": [
       "0       3\n",
       "1       1\n",
       "2       6\n",
       "3       1\n",
       "4       5\n",
       "       ..\n",
       "1049    1\n",
       "1050    2\n",
       "1051    4\n",
       "1052    2\n",
       "1053    3\n",
       "Name: komoditas, Length: 1054, dtype: int64"
      ]
     },
     "metadata": {},
     "execution_count": 31
    }
   ],
   "source": [
    "lens_komoditas"
   ]
  },
  {
   "source": [
    "if the program doesnt meet the require conditions, so delete it"
   ],
   "cell_type": "markdown",
   "metadata": {}
  },
  {
   "cell_type": "code",
   "execution_count": 45,
   "metadata": {},
   "outputs": [
    {
     "output_type": "execute_result",
     "data": {
      "text/plain": [
       "                                            komoditas  \\\n",
       "0                                   lele, bawal, nila   \n",
       "1                    kakap lele kembung tongkol salem   \n",
       "2       ikan nila, kakap, lele, bawal, kembung, salam   \n",
       "3                     nila kembung tongkol lele bawal   \n",
       "4     lele, kerapu, ikan mas, pindang tongkol, gurame   \n",
       "...                                               ...   \n",
       "1049                                        ikan lele   \n",
       "1050                                      mas, mujaer   \n",
       "1051                    ikan mas, lele, bawal, mujair   \n",
       "1052                                    tongkol, nila   \n",
       "1053                           ikan mas, lele,tongkol   \n",
       "\n",
       "                                                  berat  \n",
       "0                         lele 6kg, bawal 1kg, nila 1kg  \n",
       "1     kakap 2kg lele 1kg kembung 1kg tongkol 1kg sal...  \n",
       "2                         rata2 1kg kecuali kembung 2kg  \n",
       "3     nila 1kg bawal 2kg kembung 5kg lele 2kg tongko...  \n",
       "4                                             rata2 1kg  \n",
       "...                                                 ...  \n",
       "1049                                                3kg  \n",
       "1050                                                5,5  \n",
       "1051                                                  5  \n",
       "1052                                                4,5  \n",
       "1053                                                4kg  \n",
       "\n",
       "[1054 rows x 2 columns]"
      ],
      "text/html": "<div>\n<style scoped>\n    .dataframe tbody tr th:only-of-type {\n        vertical-align: middle;\n    }\n\n    .dataframe tbody tr th {\n        vertical-align: top;\n    }\n\n    .dataframe thead th {\n        text-align: right;\n    }\n</style>\n<table border=\"1\" class=\"dataframe\">\n  <thead>\n    <tr style=\"text-align: right;\">\n      <th></th>\n      <th>komoditas</th>\n      <th>berat</th>\n    </tr>\n  </thead>\n  <tbody>\n    <tr>\n      <th>0</th>\n      <td>lele, bawal, nila</td>\n      <td>lele 6kg, bawal 1kg, nila 1kg</td>\n    </tr>\n    <tr>\n      <th>1</th>\n      <td>kakap lele kembung tongkol salem</td>\n      <td>kakap 2kg lele 1kg kembung 1kg tongkol 1kg sal...</td>\n    </tr>\n    <tr>\n      <th>2</th>\n      <td>ikan nila, kakap, lele, bawal, kembung, salam</td>\n      <td>rata2 1kg kecuali kembung 2kg</td>\n    </tr>\n    <tr>\n      <th>3</th>\n      <td>nila kembung tongkol lele bawal</td>\n      <td>nila 1kg bawal 2kg kembung 5kg lele 2kg tongko...</td>\n    </tr>\n    <tr>\n      <th>4</th>\n      <td>lele, kerapu, ikan mas, pindang tongkol, gurame</td>\n      <td>rata2 1kg</td>\n    </tr>\n    <tr>\n      <th>...</th>\n      <td>...</td>\n      <td>...</td>\n    </tr>\n    <tr>\n      <th>1049</th>\n      <td>ikan lele</td>\n      <td>3kg</td>\n    </tr>\n    <tr>\n      <th>1050</th>\n      <td>mas, mujaer</td>\n      <td>5,5</td>\n    </tr>\n    <tr>\n      <th>1051</th>\n      <td>ikan mas, lele, bawal, mujair</td>\n      <td>5</td>\n    </tr>\n    <tr>\n      <th>1052</th>\n      <td>tongkol, nila</td>\n      <td>4,5</td>\n    </tr>\n    <tr>\n      <th>1053</th>\n      <td>ikan mas, lele,tongkol</td>\n      <td>4kg</td>\n    </tr>\n  </tbody>\n</table>\n<p>1054 rows × 2 columns</p>\n</div>"
     },
     "metadata": {},
     "execution_count": 45
    }
   ],
   "source": []
  },
  {
   "cell_type": "code",
   "execution_count": 37,
   "metadata": {},
   "outputs": [
    {
     "output_type": "execute_result",
     "data": {
      "text/plain": [
       "0                                  lele, bawal, nila\n",
       "1                   kakap lele kembung tongkol salem\n",
       "2      ikan nila, kakap, lele, bawal, kembung, salam\n",
       "3                    nila kembung tongkol lele bawal\n",
       "4    lele, kerapu, ikan mas, pindang tongkol, gurame\n",
       "Name: komoditas, dtype: object"
      ]
     },
     "metadata": {},
     "execution_count": 37
    }
   ],
   "source": [
    "df.komoditas.head()"
   ]
  },
  {
   "cell_type": "code",
   "execution_count": 43,
   "metadata": {},
   "outputs": [
    {
     "output_type": "execute_result",
     "data": {
      "text/plain": [
       "'1.1.3'"
      ]
     },
     "metadata": {},
     "execution_count": 43
    }
   ],
   "source": [
    "pd.__version__"
   ]
  },
  {
   "cell_type": "code",
   "execution_count": 50,
   "metadata": {
    "tags": []
   },
   "outputs": [],
   "source": [
    "# iterate the function on the rows\n",
    "\n",
    "df['komoditas'].str.split('_')"
   ]
  },
  {
   "cell_type": "code",
   "execution_count": null,
   "metadata": {},
   "outputs": [],
   "source": [
    "pritn "
   ]
  }
 ]
}