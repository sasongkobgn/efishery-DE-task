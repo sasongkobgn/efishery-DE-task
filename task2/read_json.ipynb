{
 "metadata": {
  "language_info": {
   "codemirror_mode": {
    "name": "ipython",
    "version": 3
   },
   "file_extension": ".py",
   "mimetype": "text/x-python",
   "name": "python",
   "nbconvert_exporter": "python",
   "pygments_lexer": "ipython3",
   "version": "3.8.5"
  },
  "orig_nbformat": 2,
  "kernelspec": {
   "name": "python385jvsc74a57bd0a90308b81cfff866ed9d307b18741afebc1b293002c7a70c3e1001eb2056af19",
   "display_name": "Python 3.8.5 64-bit ('base': conda)"
  }
 },
 "nbformat": 4,
 "nbformat_minor": 2,
 "cells": [
  {
   "cell_type": "code",
   "execution_count": 3,
   "metadata": {},
   "outputs": [
    {
     "output_type": "stream",
     "name": "stdout",
     "text": [
      "       komoditas berat\ncount       1054  1054\nunique       437   400\ntop         lele   3kg\nfreq         192    64\n"
     ]
    }
   ],
   "source": [
    "# Load pandas, numpy\n",
    "import pandas as pd\n",
    "import numpy as np \n",
    "import missingno as msno\n",
    "import matplotlib.pyplot as plt\n",
    "\n",
    "\n",
    "\n",
    "# Load the daily report to a data frame\n",
    "df = pd.read_json('soal-2.json')\n",
    "\n",
    "# View summary stats about pop_in_shelters\n",
    "print(df.describe())"
   ]
  },
  {
   "cell_type": "code",
   "execution_count": 4,
   "metadata": {},
   "outputs": [
    {
     "output_type": "execute_result",
     "data": {
      "text/plain": [
       "                                         komoditas  \\\n",
       "0                                lele, bawal, nila   \n",
       "1                 kakap lele kembung tongkol salem   \n",
       "2    ikan nila, kakap, lele, bawal, kembung, salam   \n",
       "3                  nila kembung tongkol lele bawal   \n",
       "4  lele, kerapu, ikan mas, pindang tongkol, gurame   \n",
       "\n",
       "                                               berat  \n",
       "0                      lele 6kg, bawal 1kg, nila 1kg  \n",
       "1  kakap 2kg lele 1kg kembung 1kg tongkol 1kg sal...  \n",
       "2                      rata2 1kg kecuali kembung 2kg  \n",
       "3  nila 1kg bawal 2kg kembung 5kg lele 2kg tongko...  \n",
       "4                                          rata2 1kg  "
      ],
      "text/html": "<div>\n<style scoped>\n    .dataframe tbody tr th:only-of-type {\n        vertical-align: middle;\n    }\n\n    .dataframe tbody tr th {\n        vertical-align: top;\n    }\n\n    .dataframe thead th {\n        text-align: right;\n    }\n</style>\n<table border=\"1\" class=\"dataframe\">\n  <thead>\n    <tr style=\"text-align: right;\">\n      <th></th>\n      <th>komoditas</th>\n      <th>berat</th>\n    </tr>\n  </thead>\n  <tbody>\n    <tr>\n      <th>0</th>\n      <td>lele, bawal, nila</td>\n      <td>lele 6kg, bawal 1kg, nila 1kg</td>\n    </tr>\n    <tr>\n      <th>1</th>\n      <td>kakap lele kembung tongkol salem</td>\n      <td>kakap 2kg lele 1kg kembung 1kg tongkol 1kg sal...</td>\n    </tr>\n    <tr>\n      <th>2</th>\n      <td>ikan nila, kakap, lele, bawal, kembung, salam</td>\n      <td>rata2 1kg kecuali kembung 2kg</td>\n    </tr>\n    <tr>\n      <th>3</th>\n      <td>nila kembung tongkol lele bawal</td>\n      <td>nila 1kg bawal 2kg kembung 5kg lele 2kg tongko...</td>\n    </tr>\n    <tr>\n      <th>4</th>\n      <td>lele, kerapu, ikan mas, pindang tongkol, gurame</td>\n      <td>rata2 1kg</td>\n    </tr>\n  </tbody>\n</table>\n</div>"
     },
     "metadata": {},
     "execution_count": 4
    }
   ],
   "source": [
    "df.head()"
   ]
  },
  {
   "source": [
    "`Note`: \n",
    "this data separate with whitespace and commas, so you have to make separate function and run twice each"
   ],
   "cell_type": "markdown",
   "metadata": {}
  },
  {
   "cell_type": "code",
   "execution_count": 5,
   "metadata": {},
   "outputs": [
    {
     "output_type": "execute_result",
     "data": {
      "text/plain": [
       "                                            komoditas  \\\n",
       "0                                   lele, bawal, nila   \n",
       "1                    kakap lele kembung tongkol salem   \n",
       "2       ikan nila, kakap, lele, bawal, kembung, salam   \n",
       "3                     nila kembung tongkol lele bawal   \n",
       "4     lele, kerapu, ikan mas, pindang tongkol, gurame   \n",
       "...                                               ...   \n",
       "1049                                        ikan lele   \n",
       "1050                                      mas, mujaer   \n",
       "1051                    ikan mas, lele, bawal, mujair   \n",
       "1052                                    tongkol, nila   \n",
       "1053                           ikan mas, lele,tongkol   \n",
       "\n",
       "                                                  berat  \n",
       "0                         lele 6kg, bawal 1kg, nila 1kg  \n",
       "1     kakap 2kg lele 1kg kembung 1kg tongkol 1kg sal...  \n",
       "2                         rata2 1kg kecuali kembung 2kg  \n",
       "3     nila 1kg bawal 2kg kembung 5kg lele 2kg tongko...  \n",
       "4                                             rata2 1kg  \n",
       "...                                                 ...  \n",
       "1049                                                3kg  \n",
       "1050                                                5,5  \n",
       "1051                                                  5  \n",
       "1052                                                4,5  \n",
       "1053                                                4kg  \n",
       "\n",
       "[1054 rows x 2 columns]"
      ],
      "text/html": "<div>\n<style scoped>\n    .dataframe tbody tr th:only-of-type {\n        vertical-align: middle;\n    }\n\n    .dataframe tbody tr th {\n        vertical-align: top;\n    }\n\n    .dataframe thead th {\n        text-align: right;\n    }\n</style>\n<table border=\"1\" class=\"dataframe\">\n  <thead>\n    <tr style=\"text-align: right;\">\n      <th></th>\n      <th>komoditas</th>\n      <th>berat</th>\n    </tr>\n  </thead>\n  <tbody>\n    <tr>\n      <th>0</th>\n      <td>lele, bawal, nila</td>\n      <td>lele 6kg, bawal 1kg, nila 1kg</td>\n    </tr>\n    <tr>\n      <th>1</th>\n      <td>kakap lele kembung tongkol salem</td>\n      <td>kakap 2kg lele 1kg kembung 1kg tongkol 1kg sal...</td>\n    </tr>\n    <tr>\n      <th>2</th>\n      <td>ikan nila, kakap, lele, bawal, kembung, salam</td>\n      <td>rata2 1kg kecuali kembung 2kg</td>\n    </tr>\n    <tr>\n      <th>3</th>\n      <td>nila kembung tongkol lele bawal</td>\n      <td>nila 1kg bawal 2kg kembung 5kg lele 2kg tongko...</td>\n    </tr>\n    <tr>\n      <th>4</th>\n      <td>lele, kerapu, ikan mas, pindang tongkol, gurame</td>\n      <td>rata2 1kg</td>\n    </tr>\n    <tr>\n      <th>...</th>\n      <td>...</td>\n      <td>...</td>\n    </tr>\n    <tr>\n      <th>1049</th>\n      <td>ikan lele</td>\n      <td>3kg</td>\n    </tr>\n    <tr>\n      <th>1050</th>\n      <td>mas, mujaer</td>\n      <td>5,5</td>\n    </tr>\n    <tr>\n      <th>1051</th>\n      <td>ikan mas, lele, bawal, mujair</td>\n      <td>5</td>\n    </tr>\n    <tr>\n      <th>1052</th>\n      <td>tongkol, nila</td>\n      <td>4,5</td>\n    </tr>\n    <tr>\n      <th>1053</th>\n      <td>ikan mas, lele,tongkol</td>\n      <td>4kg</td>\n    </tr>\n  </tbody>\n</table>\n<p>1054 rows × 2 columns</p>\n</div>"
     },
     "metadata": {},
     "execution_count": 5
    }
   ],
   "source": [
    "df"
   ]
  },
  {
   "cell_type": "code",
   "execution_count": 4,
   "metadata": {},
   "outputs": [
    {
     "output_type": "execute_result",
     "data": {
      "text/plain": [
       "<pandas.core.groupby.generic.DataFrameGroupBy object at 0x11e18aa60>"
      ]
     },
     "metadata": {},
     "execution_count": 4
    }
   ],
   "source": []
  },
  {
   "cell_type": "code",
   "execution_count": 6,
   "metadata": {},
   "outputs": [
    {
     "output_type": "stream",
     "name": "stdout",
     "text": [
      "                                         komoditas  \\\n",
      "0                                lele, bawal, nila   \n",
      "1                 kakap lele kembung tongkol salem   \n",
      "2    ikan nila, kakap, lele, bawal, kembung, salam   \n",
      "3                  nila kembung tongkol lele bawal   \n",
      "4  lele, kerapu, ikan mas, pindang tongkol, gurame   \n",
      "\n",
      "                                               berat  \n",
      "0                      lele 6kg, bawal 1kg, nila 1kg  \n",
      "1  kakap 2kg lele 1kg kembung 1kg tongkol 1kg sal...  \n",
      "2                      rata2 1kg kecuali kembung 2kg  \n",
      "3  nila 1kg bawal 2kg kembung 5kg lele 2kg tongko...  \n",
      "4                                          rata2 1kg  \n"
     ]
    }
   ],
   "source": [
    "print(df.head())"
   ]
  },
  {
   "cell_type": "code",
   "execution_count": 10,
   "metadata": {},
   "outputs": [
    {
     "output_type": "execute_result",
     "data": {
      "text/plain": [
       "0                           lele 6kg, bawal 1kg, nila 1kg\n",
       "1       kakap 2kg lele 1kg kembung 1kg tongkol 1kg sal...\n",
       "2                           rata2 1kg kecuali kembung 2kg\n",
       "3       nila 1kg bawal 2kg kembung 5kg lele 2kg tongko...\n",
       "4                                               rata2 1kg\n",
       "                              ...                        \n",
       "1049                                                  3kg\n",
       "1050                                                  5,5\n",
       "1051                                                    5\n",
       "1052                                                  4,5\n",
       "1053                                                  4kg\n",
       "Name: berat, Length: 1054, dtype: object"
      ]
     },
     "metadata": {},
     "execution_count": 10
    }
   ],
   "source": []
  },
  {
   "cell_type": "code",
   "execution_count": 7,
   "metadata": {},
   "outputs": [
    {
     "output_type": "execute_result",
     "data": {
      "text/plain": [
       "                                         komoditas  \\\n",
       "0                                lele, bawal, nila   \n",
       "1                 kakap lele kembung tongkol salem   \n",
       "2    ikan nila, kakap, lele, bawal, kembung, salam   \n",
       "3                  nila kembung tongkol lele bawal   \n",
       "4  lele, kerapu, ikan mas, pindang tongkol, gurame   \n",
       "\n",
       "                                               berat  \n",
       "0                      lele 6kg, bawal 1kg, nila 1kg  \n",
       "1  kakap 2kg lele 1kg kembung 1kg tongkol 1kg sal...  \n",
       "2                      rata2 1kg kecuali kembung 2kg  \n",
       "3  nila 1kg bawal 2kg kembung 5kg lele 2kg tongko...  \n",
       "4                                          rata2 1kg  "
      ],
      "text/html": "<div>\n<style scoped>\n    .dataframe tbody tr th:only-of-type {\n        vertical-align: middle;\n    }\n\n    .dataframe tbody tr th {\n        vertical-align: top;\n    }\n\n    .dataframe thead th {\n        text-align: right;\n    }\n</style>\n<table border=\"1\" class=\"dataframe\">\n  <thead>\n    <tr style=\"text-align: right;\">\n      <th></th>\n      <th>komoditas</th>\n      <th>berat</th>\n    </tr>\n  </thead>\n  <tbody>\n    <tr>\n      <th>0</th>\n      <td>lele, bawal, nila</td>\n      <td>lele 6kg, bawal 1kg, nila 1kg</td>\n    </tr>\n    <tr>\n      <th>1</th>\n      <td>kakap lele kembung tongkol salem</td>\n      <td>kakap 2kg lele 1kg kembung 1kg tongkol 1kg sal...</td>\n    </tr>\n    <tr>\n      <th>2</th>\n      <td>ikan nila, kakap, lele, bawal, kembung, salam</td>\n      <td>rata2 1kg kecuali kembung 2kg</td>\n    </tr>\n    <tr>\n      <th>3</th>\n      <td>nila kembung tongkol lele bawal</td>\n      <td>nila 1kg bawal 2kg kembung 5kg lele 2kg tongko...</td>\n    </tr>\n    <tr>\n      <th>4</th>\n      <td>lele, kerapu, ikan mas, pindang tongkol, gurame</td>\n      <td>rata2 1kg</td>\n    </tr>\n  </tbody>\n</table>\n</div>"
     },
     "metadata": {},
     "execution_count": 7
    }
   ],
   "source": [
    "df.head()"
   ]
  },
  {
   "cell_type": "code",
   "execution_count": 8,
   "metadata": {},
   "outputs": [],
   "source": [
    "# improt chain from itertools\n",
    "import numpy as np\n",
    "from itertools import chain"
   ]
  },
  {
   "cell_type": "code",
   "execution_count": 9,
   "metadata": {},
   "outputs": [],
   "source": [
    "# print the length of splits\n",
    "lens = df['komoditas'].str.split(',').map(len)"
   ]
  },
  {
   "cell_type": "code",
   "execution_count": 10,
   "metadata": {},
   "outputs": [
    {
     "output_type": "stream",
     "name": "stdout",
     "text": [
      "0       3\n1       1\n2       6\n3       1\n4       5\n       ..\n1049    1\n1050    2\n1051    4\n1052    2\n1053    3\nName: komoditas, Length: 1054, dtype: int64\n"
     ]
    }
   ],
   "source": [
    "print(lens)"
   ]
  },
  {
   "cell_type": "code",
   "execution_count": 11,
   "metadata": {},
   "outputs": [],
   "source": [
    "# make the fuction to chain the iterable split of the rows\n",
    "def chainer(s): \n",
    "    return list(chain.from_iterable(s.str.split(',')))"
   ]
  },
  {
   "cell_type": "code",
   "execution_count": 12,
   "metadata": {},
   "outputs": [],
   "source": [
    "# creating the new dataframe, and repneating or chaining as appropriate"
   ]
  },
  {
   "cell_type": "code",
   "execution_count": 13,
   "metadata": {},
   "outputs": [
    {
     "output_type": "stream",
     "name": "stdout",
     "text": [
      "<class 'pandas.core.frame.DataFrame'>\nRangeIndex: 1054 entries, 0 to 1053\nData columns (total 2 columns):\n #   Column     Non-Null Count  Dtype \n---  ------     --------------  ----- \n 0   komoditas  1054 non-null   object\n 1   berat      1054 non-null   object\ndtypes: object(2)\nmemory usage: 16.6+ KB\n"
     ]
    }
   ],
   "source": [
    "df.info()"
   ]
  },
  {
   "cell_type": "code",
   "execution_count": 14,
   "metadata": {},
   "outputs": [],
   "source": [
    "# convert to excel to see the whole data describtive\n",
    "df.to_excel(\"output_efishery_task2.xlsx\")"
   ]
  },
  {
   "source": [
    "# delete unnecessary data\n",
    "if the content not the same lengt > delete"
   ],
   "cell_type": "markdown",
   "metadata": {}
  },
  {
   "cell_type": "code",
   "execution_count": 15,
   "metadata": {},
   "outputs": [],
   "source": [
    "lens_berat = df['berat'].str.split(',').map(len)\n",
    "\n",
    "lens_komoditas = df['komoditas'].str.split(',').map(len)"
   ]
  },
  {
   "cell_type": "code",
   "execution_count": 16,
   "metadata": {},
   "outputs": [
    {
     "output_type": "execute_result",
     "data": {
      "text/plain": [
       "0       3\n",
       "1       1\n",
       "2       1\n",
       "3       1\n",
       "4       1\n",
       "       ..\n",
       "1049    1\n",
       "1050    2\n",
       "1051    1\n",
       "1052    2\n",
       "1053    1\n",
       "Name: berat, Length: 1054, dtype: int64"
      ]
     },
     "metadata": {},
     "execution_count": 16
    }
   ],
   "source": [
    "lens_berat"
   ]
  },
  {
   "cell_type": "code",
   "execution_count": 17,
   "metadata": {},
   "outputs": [
    {
     "output_type": "execute_result",
     "data": {
      "text/plain": [
       "0       3\n",
       "1       1\n",
       "2       6\n",
       "3       1\n",
       "4       5\n",
       "       ..\n",
       "1049    1\n",
       "1050    2\n",
       "1051    4\n",
       "1052    2\n",
       "1053    3\n",
       "Name: komoditas, Length: 1054, dtype: int64"
      ]
     },
     "metadata": {},
     "execution_count": 17
    }
   ],
   "source": [
    "lens_komoditas"
   ]
  },
  {
   "source": [
    "if the program doesnt meet the require conditions, so delete it"
   ],
   "cell_type": "markdown",
   "metadata": {}
  },
  {
   "source": [
    "# replace commas with whitespace"
   ],
   "cell_type": "markdown",
   "metadata": {}
  },
  {
   "cell_type": "code",
   "execution_count": 18,
   "metadata": {},
   "outputs": [],
   "source": [
    "# replace comma with whitespace \n",
    "df2 = df.apply(lambda x: x.str.replace(', ', ' '))"
   ]
  },
  {
   "cell_type": "code",
   "execution_count": 19,
   "metadata": {},
   "outputs": [],
   "source": [
    "# replace comma with whitespace again\n",
    "df2 = df2.apply(lambda x: x.str.replace(',', ' '))\n"
   ]
  },
  {
   "cell_type": "code",
   "execution_count": 20,
   "metadata": {},
   "outputs": [
    {
     "output_type": "execute_result",
     "data": {
      "text/plain": [
       "                                        komoditas  \\\n",
       "0                                 lele bawal nila   \n",
       "1                kakap lele kembung tongkol salem   \n",
       "2        ikan nila kakap lele bawal kembung salam   \n",
       "3                 nila kembung tongkol lele bawal   \n",
       "4     lele kerapu ikan mas pindang tongkol gurame   \n",
       "...                                           ...   \n",
       "1049                                    ikan lele   \n",
       "1050                                   mas mujaer   \n",
       "1051                   ikan mas lele bawal mujair   \n",
       "1052                                 tongkol nila   \n",
       "1053                        ikan mas lele tongkol   \n",
       "\n",
       "                                                  berat  \n",
       "0                           lele 6kg bawal 1kg nila 1kg  \n",
       "1     kakap 2kg lele 1kg kembung 1kg tongkol 1kg sal...  \n",
       "2                         rata2 1kg kecuali kembung 2kg  \n",
       "3     nila 1kg bawal 2kg kembung 5kg lele 2kg tongko...  \n",
       "4                                             rata2 1kg  \n",
       "...                                                 ...  \n",
       "1049                                                3kg  \n",
       "1050                                                5 5  \n",
       "1051                                                  5  \n",
       "1052                                                4 5  \n",
       "1053                                                4kg  \n",
       "\n",
       "[1054 rows x 2 columns]"
      ],
      "text/html": "<div>\n<style scoped>\n    .dataframe tbody tr th:only-of-type {\n        vertical-align: middle;\n    }\n\n    .dataframe tbody tr th {\n        vertical-align: top;\n    }\n\n    .dataframe thead th {\n        text-align: right;\n    }\n</style>\n<table border=\"1\" class=\"dataframe\">\n  <thead>\n    <tr style=\"text-align: right;\">\n      <th></th>\n      <th>komoditas</th>\n      <th>berat</th>\n    </tr>\n  </thead>\n  <tbody>\n    <tr>\n      <th>0</th>\n      <td>lele bawal nila</td>\n      <td>lele 6kg bawal 1kg nila 1kg</td>\n    </tr>\n    <tr>\n      <th>1</th>\n      <td>kakap lele kembung tongkol salem</td>\n      <td>kakap 2kg lele 1kg kembung 1kg tongkol 1kg sal...</td>\n    </tr>\n    <tr>\n      <th>2</th>\n      <td>ikan nila kakap lele bawal kembung salam</td>\n      <td>rata2 1kg kecuali kembung 2kg</td>\n    </tr>\n    <tr>\n      <th>3</th>\n      <td>nila kembung tongkol lele bawal</td>\n      <td>nila 1kg bawal 2kg kembung 5kg lele 2kg tongko...</td>\n    </tr>\n    <tr>\n      <th>4</th>\n      <td>lele kerapu ikan mas pindang tongkol gurame</td>\n      <td>rata2 1kg</td>\n    </tr>\n    <tr>\n      <th>...</th>\n      <td>...</td>\n      <td>...</td>\n    </tr>\n    <tr>\n      <th>1049</th>\n      <td>ikan lele</td>\n      <td>3kg</td>\n    </tr>\n    <tr>\n      <th>1050</th>\n      <td>mas mujaer</td>\n      <td>5 5</td>\n    </tr>\n    <tr>\n      <th>1051</th>\n      <td>ikan mas lele bawal mujair</td>\n      <td>5</td>\n    </tr>\n    <tr>\n      <th>1052</th>\n      <td>tongkol nila</td>\n      <td>4 5</td>\n    </tr>\n    <tr>\n      <th>1053</th>\n      <td>ikan mas lele tongkol</td>\n      <td>4kg</td>\n    </tr>\n  </tbody>\n</table>\n<p>1054 rows × 2 columns</p>\n</div>"
     },
     "metadata": {},
     "execution_count": 20
    }
   ],
   "source": [
    "df2"
   ]
  },
  {
   "cell_type": "code",
   "execution_count": 21,
   "metadata": {},
   "outputs": [],
   "source": [
    "# delete ikan string replace with white space\n",
    "df2 = df2.apply(lambda x: x.str.replace('ikan', ''))"
   ]
  },
  {
   "cell_type": "code",
   "execution_count": 22,
   "metadata": {},
   "outputs": [
    {
     "output_type": "execute_result",
     "data": {
      "text/plain": [
       "                                    komoditas  \\\n",
       "0                             lele bawal nila   \n",
       "1            kakap lele kembung tongkol salem   \n",
       "2         nila kakap lele bawal kembung salam   \n",
       "3             nila kembung tongkol lele bawal   \n",
       "4     lele kerapu  mas pindang tongkol gurame   \n",
       "...                                       ...   \n",
       "1049                                     lele   \n",
       "1050                               mas mujaer   \n",
       "1051                    mas lele bawal mujair   \n",
       "1052                             tongkol nila   \n",
       "1053                         mas lele tongkol   \n",
       "\n",
       "                                                  berat  \n",
       "0                           lele 6kg bawal 1kg nila 1kg  \n",
       "1     kakap 2kg lele 1kg kembung 1kg tongkol 1kg sal...  \n",
       "2                         rata2 1kg kecuali kembung 2kg  \n",
       "3     nila 1kg bawal 2kg kembung 5kg lele 2kg tongko...  \n",
       "4                                             rata2 1kg  \n",
       "...                                                 ...  \n",
       "1049                                                3kg  \n",
       "1050                                                5 5  \n",
       "1051                                                  5  \n",
       "1052                                                4 5  \n",
       "1053                                                4kg  \n",
       "\n",
       "[1054 rows x 2 columns]"
      ],
      "text/html": "<div>\n<style scoped>\n    .dataframe tbody tr th:only-of-type {\n        vertical-align: middle;\n    }\n\n    .dataframe tbody tr th {\n        vertical-align: top;\n    }\n\n    .dataframe thead th {\n        text-align: right;\n    }\n</style>\n<table border=\"1\" class=\"dataframe\">\n  <thead>\n    <tr style=\"text-align: right;\">\n      <th></th>\n      <th>komoditas</th>\n      <th>berat</th>\n    </tr>\n  </thead>\n  <tbody>\n    <tr>\n      <th>0</th>\n      <td>lele bawal nila</td>\n      <td>lele 6kg bawal 1kg nila 1kg</td>\n    </tr>\n    <tr>\n      <th>1</th>\n      <td>kakap lele kembung tongkol salem</td>\n      <td>kakap 2kg lele 1kg kembung 1kg tongkol 1kg sal...</td>\n    </tr>\n    <tr>\n      <th>2</th>\n      <td>nila kakap lele bawal kembung salam</td>\n      <td>rata2 1kg kecuali kembung 2kg</td>\n    </tr>\n    <tr>\n      <th>3</th>\n      <td>nila kembung tongkol lele bawal</td>\n      <td>nila 1kg bawal 2kg kembung 5kg lele 2kg tongko...</td>\n    </tr>\n    <tr>\n      <th>4</th>\n      <td>lele kerapu  mas pindang tongkol gurame</td>\n      <td>rata2 1kg</td>\n    </tr>\n    <tr>\n      <th>...</th>\n      <td>...</td>\n      <td>...</td>\n    </tr>\n    <tr>\n      <th>1049</th>\n      <td>lele</td>\n      <td>3kg</td>\n    </tr>\n    <tr>\n      <th>1050</th>\n      <td>mas mujaer</td>\n      <td>5 5</td>\n    </tr>\n    <tr>\n      <th>1051</th>\n      <td>mas lele bawal mujair</td>\n      <td>5</td>\n    </tr>\n    <tr>\n      <th>1052</th>\n      <td>tongkol nila</td>\n      <td>4 5</td>\n    </tr>\n    <tr>\n      <th>1053</th>\n      <td>mas lele tongkol</td>\n      <td>4kg</td>\n    </tr>\n  </tbody>\n</table>\n<p>1054 rows × 2 columns</p>\n</div>"
     },
     "metadata": {},
     "execution_count": 22
    }
   ],
   "source": [
    "df2"
   ]
  },
  {
   "cell_type": "code",
   "execution_count": 23,
   "metadata": {},
   "outputs": [],
   "source": [
    "# remove kg \n",
    "df2 = df2.apply(lambda x: x.str.replace('kg', ' '))"
   ]
  },
  {
   "cell_type": "code",
   "execution_count": 24,
   "metadata": {},
   "outputs": [
    {
     "output_type": "execute_result",
     "data": {
      "text/plain": [
       "                                    komoditas  \\\n",
       "0                             lele bawal nila   \n",
       "1            kakap lele kembung tongkol salem   \n",
       "2         nila kakap lele bawal kembung salam   \n",
       "3             nila kembung tongkol lele bawal   \n",
       "4     lele kerapu  mas pindang tongkol gurame   \n",
       "...                                       ...   \n",
       "1049                                     lele   \n",
       "1050                               mas mujaer   \n",
       "1051                    mas lele bawal mujair   \n",
       "1052                             tongkol nila   \n",
       "1053                         mas lele tongkol   \n",
       "\n",
       "                                                berat  \n",
       "0                            lele 6  bawal 1  nila 1   \n",
       "1     kakap 2  lele 1  kembung 1  tongkol 1  salem 1   \n",
       "2                         rata2 1  kecuali kembung 2   \n",
       "3      nila 1  bawal 2  kembung 5  lele 2  tongkol 3   \n",
       "4                                            rata2 1   \n",
       "...                                               ...  \n",
       "1049                                               3   \n",
       "1050                                              5 5  \n",
       "1051                                                5  \n",
       "1052                                              4 5  \n",
       "1053                                               4   \n",
       "\n",
       "[1054 rows x 2 columns]"
      ],
      "text/html": "<div>\n<style scoped>\n    .dataframe tbody tr th:only-of-type {\n        vertical-align: middle;\n    }\n\n    .dataframe tbody tr th {\n        vertical-align: top;\n    }\n\n    .dataframe thead th {\n        text-align: right;\n    }\n</style>\n<table border=\"1\" class=\"dataframe\">\n  <thead>\n    <tr style=\"text-align: right;\">\n      <th></th>\n      <th>komoditas</th>\n      <th>berat</th>\n    </tr>\n  </thead>\n  <tbody>\n    <tr>\n      <th>0</th>\n      <td>lele bawal nila</td>\n      <td>lele 6  bawal 1  nila 1</td>\n    </tr>\n    <tr>\n      <th>1</th>\n      <td>kakap lele kembung tongkol salem</td>\n      <td>kakap 2  lele 1  kembung 1  tongkol 1  salem 1</td>\n    </tr>\n    <tr>\n      <th>2</th>\n      <td>nila kakap lele bawal kembung salam</td>\n      <td>rata2 1  kecuali kembung 2</td>\n    </tr>\n    <tr>\n      <th>3</th>\n      <td>nila kembung tongkol lele bawal</td>\n      <td>nila 1  bawal 2  kembung 5  lele 2  tongkol 3</td>\n    </tr>\n    <tr>\n      <th>4</th>\n      <td>lele kerapu  mas pindang tongkol gurame</td>\n      <td>rata2 1</td>\n    </tr>\n    <tr>\n      <th>...</th>\n      <td>...</td>\n      <td>...</td>\n    </tr>\n    <tr>\n      <th>1049</th>\n      <td>lele</td>\n      <td>3</td>\n    </tr>\n    <tr>\n      <th>1050</th>\n      <td>mas mujaer</td>\n      <td>5 5</td>\n    </tr>\n    <tr>\n      <th>1051</th>\n      <td>mas lele bawal mujair</td>\n      <td>5</td>\n    </tr>\n    <tr>\n      <th>1052</th>\n      <td>tongkol nila</td>\n      <td>4 5</td>\n    </tr>\n    <tr>\n      <th>1053</th>\n      <td>mas lele tongkol</td>\n      <td>4</td>\n    </tr>\n  </tbody>\n</table>\n<p>1054 rows × 2 columns</p>\n</div>"
     },
     "metadata": {},
     "execution_count": 24
    }
   ],
   "source": [
    "df2"
   ]
  },
  {
   "cell_type": "code",
   "execution_count": 25,
   "metadata": {},
   "outputs": [
    {
     "output_type": "execute_result",
     "data": {
      "text/plain": [
       "                                    komoditas  \\\n",
       "0                             lele bawal nila   \n",
       "1            kakap lele kembung tongkol salem   \n",
       "2         nila kakap lele bawal kembung salam   \n",
       "3             nila kembung tongkol lele bawal   \n",
       "4     lele kerapu  mas pindang tongkol gurame   \n",
       "...                                       ...   \n",
       "1049                                     lele   \n",
       "1050                               mas mujaer   \n",
       "1051                    mas lele bawal mujair   \n",
       "1052                             tongkol nila   \n",
       "1053                         mas lele tongkol   \n",
       "\n",
       "                                                berat  \n",
       "0                            lele 6  bawal 1  nila 1   \n",
       "1     kakap 2  lele 1  kembung 1  tongkol 1  salem 1   \n",
       "2                         rata2 1  kecuali kembung 2   \n",
       "3      nila 1  bawal 2  kembung 5  lele 2  tongkol 3   \n",
       "4                                            rata2 1   \n",
       "...                                               ...  \n",
       "1049                                               3   \n",
       "1050                                              5 5  \n",
       "1051                                                5  \n",
       "1052                                              4 5  \n",
       "1053                                               4   \n",
       "\n",
       "[1054 rows x 2 columns]"
      ],
      "text/html": "<div>\n<style scoped>\n    .dataframe tbody tr th:only-of-type {\n        vertical-align: middle;\n    }\n\n    .dataframe tbody tr th {\n        vertical-align: top;\n    }\n\n    .dataframe thead th {\n        text-align: right;\n    }\n</style>\n<table border=\"1\" class=\"dataframe\">\n  <thead>\n    <tr style=\"text-align: right;\">\n      <th></th>\n      <th>komoditas</th>\n      <th>berat</th>\n    </tr>\n  </thead>\n  <tbody>\n    <tr>\n      <th>0</th>\n      <td>lele bawal nila</td>\n      <td>lele 6  bawal 1  nila 1</td>\n    </tr>\n    <tr>\n      <th>1</th>\n      <td>kakap lele kembung tongkol salem</td>\n      <td>kakap 2  lele 1  kembung 1  tongkol 1  salem 1</td>\n    </tr>\n    <tr>\n      <th>2</th>\n      <td>nila kakap lele bawal kembung salam</td>\n      <td>rata2 1  kecuali kembung 2</td>\n    </tr>\n    <tr>\n      <th>3</th>\n      <td>nila kembung tongkol lele bawal</td>\n      <td>nila 1  bawal 2  kembung 5  lele 2  tongkol 3</td>\n    </tr>\n    <tr>\n      <th>4</th>\n      <td>lele kerapu  mas pindang tongkol gurame</td>\n      <td>rata2 1</td>\n    </tr>\n    <tr>\n      <th>...</th>\n      <td>...</td>\n      <td>...</td>\n    </tr>\n    <tr>\n      <th>1049</th>\n      <td>lele</td>\n      <td>3</td>\n    </tr>\n    <tr>\n      <th>1050</th>\n      <td>mas mujaer</td>\n      <td>5 5</td>\n    </tr>\n    <tr>\n      <th>1051</th>\n      <td>mas lele bawal mujair</td>\n      <td>5</td>\n    </tr>\n    <tr>\n      <th>1052</th>\n      <td>tongkol nila</td>\n      <td>4 5</td>\n    </tr>\n    <tr>\n      <th>1053</th>\n      <td>mas lele tongkol</td>\n      <td>4</td>\n    </tr>\n  </tbody>\n</table>\n<p>1054 rows × 2 columns</p>\n</div>"
     },
     "metadata": {},
     "execution_count": 25
    }
   ],
   "source": [
    "df2"
   ]
  },
  {
   "cell_type": "code",
   "execution_count": 58,
   "metadata": {},
   "outputs": [
    {
     "output_type": "execute_result",
     "data": {
      "text/plain": [
       "     komoditas            berat\n",
       "0         lele        [6, 1, 1]\n",
       "0        bawal        [6, 1, 1]\n",
       "0         nila        [6, 1, 1]\n",
       "1        kakap  [2, 1, 1, 1, 1]\n",
       "1         lele  [2, 1, 1, 1, 1]\n",
       "...        ...              ...\n",
       "1052   tongkol           [4, 5]\n",
       "1052      nila           [4, 5]\n",
       "1053       mas              [4]\n",
       "1053      lele              [4]\n",
       "1053   tongkol              [4]\n",
       "\n",
       "[2556 rows x 2 columns]"
      ],
      "text/html": "<div>\n<style scoped>\n    .dataframe tbody tr th:only-of-type {\n        vertical-align: middle;\n    }\n\n    .dataframe tbody tr th {\n        vertical-align: top;\n    }\n\n    .dataframe thead th {\n        text-align: right;\n    }\n</style>\n<table border=\"1\" class=\"dataframe\">\n  <thead>\n    <tr style=\"text-align: right;\">\n      <th></th>\n      <th>komoditas</th>\n      <th>berat</th>\n    </tr>\n  </thead>\n  <tbody>\n    <tr>\n      <th>0</th>\n      <td>lele</td>\n      <td>[6, 1, 1]</td>\n    </tr>\n    <tr>\n      <th>0</th>\n      <td>bawal</td>\n      <td>[6, 1, 1]</td>\n    </tr>\n    <tr>\n      <th>0</th>\n      <td>nila</td>\n      <td>[6, 1, 1]</td>\n    </tr>\n    <tr>\n      <th>1</th>\n      <td>kakap</td>\n      <td>[2, 1, 1, 1, 1]</td>\n    </tr>\n    <tr>\n      <th>1</th>\n      <td>lele</td>\n      <td>[2, 1, 1, 1, 1]</td>\n    </tr>\n    <tr>\n      <th>...</th>\n      <td>...</td>\n      <td>...</td>\n    </tr>\n    <tr>\n      <th>1052</th>\n      <td>tongkol</td>\n      <td>[4, 5]</td>\n    </tr>\n    <tr>\n      <th>1052</th>\n      <td>nila</td>\n      <td>[4, 5]</td>\n    </tr>\n    <tr>\n      <th>1053</th>\n      <td>mas</td>\n      <td>[4]</td>\n    </tr>\n    <tr>\n      <th>1053</th>\n      <td>lele</td>\n      <td>[4]</td>\n    </tr>\n    <tr>\n      <th>1053</th>\n      <td>tongkol</td>\n      <td>[4]</td>\n    </tr>\n  </tbody>\n</table>\n<p>2556 rows × 2 columns</p>\n</div>"
     },
     "metadata": {},
     "execution_count": 58
    }
   ],
   "source": [
    "df2.explode('komoditas')"
   ]
  },
  {
   "cell_type": "code",
   "execution_count": 27,
   "metadata": {},
   "outputs": [],
   "source": [
    "df2['komoditas'] = df2['komoditas'].str.split()\n"
   ]
  },
  {
   "cell_type": "code",
   "execution_count": 28,
   "metadata": {},
   "outputs": [
    {
     "output_type": "execute_result",
     "data": {
      "text/plain": [
       "                                          komoditas  \\\n",
       "0                               [lele, bawal, nila]   \n",
       "1            [kakap, lele, kembung, tongkol, salem]   \n",
       "2        [nila, kakap, lele, bawal, kembung, salam]   \n",
       "3             [nila, kembung, tongkol, lele, bawal]   \n",
       "4     [lele, kerapu, mas, pindang, tongkol, gurame]   \n",
       "...                                             ...   \n",
       "1049                                         [lele]   \n",
       "1050                                  [mas, mujaer]   \n",
       "1051                     [mas, lele, bawal, mujair]   \n",
       "1052                                [tongkol, nila]   \n",
       "1053                           [mas, lele, tongkol]   \n",
       "\n",
       "                                                berat  \n",
       "0                            lele 6  bawal 1  nila 1   \n",
       "1     kakap 2  lele 1  kembung 1  tongkol 1  salem 1   \n",
       "2                         rata2 1  kecuali kembung 2   \n",
       "3      nila 1  bawal 2  kembung 5  lele 2  tongkol 3   \n",
       "4                                            rata2 1   \n",
       "...                                               ...  \n",
       "1049                                               3   \n",
       "1050                                              5 5  \n",
       "1051                                                5  \n",
       "1052                                              4 5  \n",
       "1053                                               4   \n",
       "\n",
       "[1054 rows x 2 columns]"
      ],
      "text/html": "<div>\n<style scoped>\n    .dataframe tbody tr th:only-of-type {\n        vertical-align: middle;\n    }\n\n    .dataframe tbody tr th {\n        vertical-align: top;\n    }\n\n    .dataframe thead th {\n        text-align: right;\n    }\n</style>\n<table border=\"1\" class=\"dataframe\">\n  <thead>\n    <tr style=\"text-align: right;\">\n      <th></th>\n      <th>komoditas</th>\n      <th>berat</th>\n    </tr>\n  </thead>\n  <tbody>\n    <tr>\n      <th>0</th>\n      <td>[lele, bawal, nila]</td>\n      <td>lele 6  bawal 1  nila 1</td>\n    </tr>\n    <tr>\n      <th>1</th>\n      <td>[kakap, lele, kembung, tongkol, salem]</td>\n      <td>kakap 2  lele 1  kembung 1  tongkol 1  salem 1</td>\n    </tr>\n    <tr>\n      <th>2</th>\n      <td>[nila, kakap, lele, bawal, kembung, salam]</td>\n      <td>rata2 1  kecuali kembung 2</td>\n    </tr>\n    <tr>\n      <th>3</th>\n      <td>[nila, kembung, tongkol, lele, bawal]</td>\n      <td>nila 1  bawal 2  kembung 5  lele 2  tongkol 3</td>\n    </tr>\n    <tr>\n      <th>4</th>\n      <td>[lele, kerapu, mas, pindang, tongkol, gurame]</td>\n      <td>rata2 1</td>\n    </tr>\n    <tr>\n      <th>...</th>\n      <td>...</td>\n      <td>...</td>\n    </tr>\n    <tr>\n      <th>1049</th>\n      <td>[lele]</td>\n      <td>3</td>\n    </tr>\n    <tr>\n      <th>1050</th>\n      <td>[mas, mujaer]</td>\n      <td>5 5</td>\n    </tr>\n    <tr>\n      <th>1051</th>\n      <td>[mas, lele, bawal, mujair]</td>\n      <td>5</td>\n    </tr>\n    <tr>\n      <th>1052</th>\n      <td>[tongkol, nila]</td>\n      <td>4 5</td>\n    </tr>\n    <tr>\n      <th>1053</th>\n      <td>[mas, lele, tongkol]</td>\n      <td>4</td>\n    </tr>\n  </tbody>\n</table>\n<p>1054 rows × 2 columns</p>\n</div>"
     },
     "metadata": {},
     "execution_count": 28
    }
   ],
   "source": [
    "df2"
   ]
  },
  {
   "cell_type": "code",
   "execution_count": 29,
   "metadata": {},
   "outputs": [
    {
     "output_type": "execute_result",
     "data": {
      "text/plain": [
       "                                          komoditas  \\\n",
       "0                               [lele, bawal, nila]   \n",
       "1            [kakap, lele, kembung, tongkol, salem]   \n",
       "2        [nila, kakap, lele, bawal, kembung, salam]   \n",
       "3             [nila, kembung, tongkol, lele, bawal]   \n",
       "4     [lele, kerapu, mas, pindang, tongkol, gurame]   \n",
       "...                                             ...   \n",
       "1049                                         [lele]   \n",
       "1050                                  [mas, mujaer]   \n",
       "1051                     [mas, lele, bawal, mujair]   \n",
       "1052                                [tongkol, nila]   \n",
       "1053                           [mas, lele, tongkol]   \n",
       "\n",
       "                                                berat  \n",
       "0                            lele 6  bawal 1  nila 1   \n",
       "1     kakap 2  lele 1  kembung 1  tongkol 1  salem 1   \n",
       "2                         rata2 1  kecuali kembung 2   \n",
       "3      nila 1  bawal 2  kembung 5  lele 2  tongkol 3   \n",
       "4                                            rata2 1   \n",
       "...                                               ...  \n",
       "1049                                               3   \n",
       "1050                                              5 5  \n",
       "1051                                                5  \n",
       "1052                                              4 5  \n",
       "1053                                               4   \n",
       "\n",
       "[1054 rows x 2 columns]"
      ],
      "text/html": "<div>\n<style scoped>\n    .dataframe tbody tr th:only-of-type {\n        vertical-align: middle;\n    }\n\n    .dataframe tbody tr th {\n        vertical-align: top;\n    }\n\n    .dataframe thead th {\n        text-align: right;\n    }\n</style>\n<table border=\"1\" class=\"dataframe\">\n  <thead>\n    <tr style=\"text-align: right;\">\n      <th></th>\n      <th>komoditas</th>\n      <th>berat</th>\n    </tr>\n  </thead>\n  <tbody>\n    <tr>\n      <th>0</th>\n      <td>[lele, bawal, nila]</td>\n      <td>lele 6  bawal 1  nila 1</td>\n    </tr>\n    <tr>\n      <th>1</th>\n      <td>[kakap, lele, kembung, tongkol, salem]</td>\n      <td>kakap 2  lele 1  kembung 1  tongkol 1  salem 1</td>\n    </tr>\n    <tr>\n      <th>2</th>\n      <td>[nila, kakap, lele, bawal, kembung, salam]</td>\n      <td>rata2 1  kecuali kembung 2</td>\n    </tr>\n    <tr>\n      <th>3</th>\n      <td>[nila, kembung, tongkol, lele, bawal]</td>\n      <td>nila 1  bawal 2  kembung 5  lele 2  tongkol 3</td>\n    </tr>\n    <tr>\n      <th>4</th>\n      <td>[lele, kerapu, mas, pindang, tongkol, gurame]</td>\n      <td>rata2 1</td>\n    </tr>\n    <tr>\n      <th>...</th>\n      <td>...</td>\n      <td>...</td>\n    </tr>\n    <tr>\n      <th>1049</th>\n      <td>[lele]</td>\n      <td>3</td>\n    </tr>\n    <tr>\n      <th>1050</th>\n      <td>[mas, mujaer]</td>\n      <td>5 5</td>\n    </tr>\n    <tr>\n      <th>1051</th>\n      <td>[mas, lele, bawal, mujair]</td>\n      <td>5</td>\n    </tr>\n    <tr>\n      <th>1052</th>\n      <td>[tongkol, nila]</td>\n      <td>4 5</td>\n    </tr>\n    <tr>\n      <th>1053</th>\n      <td>[mas, lele, tongkol]</td>\n      <td>4</td>\n    </tr>\n  </tbody>\n</table>\n<p>1054 rows × 2 columns</p>\n</div>"
     },
     "metadata": {},
     "execution_count": 29
    }
   ],
   "source": [
    "df2"
   ]
  },
  {
   "source": [
    "# using `re` to remove unecessary komoditas on berat, using this regex\n"
   ],
   "cell_type": "markdown",
   "metadata": {}
  },
  {
   "cell_type": "code",
   "execution_count": 31,
   "metadata": {},
   "outputs": [],
   "source": [
    "# import regular expression\n",
    "import re"
   ]
  },
  {
   "cell_type": "code",
   "execution_count": 32,
   "metadata": {},
   "outputs": [
    {
     "output_type": "execute_result",
     "data": {
      "text/plain": [
       "                                          komoditas  \\\n",
       "0                               [lele, bawal, nila]   \n",
       "1            [kakap, lele, kembung, tongkol, salem]   \n",
       "2        [nila, kakap, lele, bawal, kembung, salam]   \n",
       "3             [nila, kembung, tongkol, lele, bawal]   \n",
       "4     [lele, kerapu, mas, pindang, tongkol, gurame]   \n",
       "...                                             ...   \n",
       "1049                                         [lele]   \n",
       "1050                                  [mas, mujaer]   \n",
       "1051                     [mas, lele, bawal, mujair]   \n",
       "1052                                [tongkol, nila]   \n",
       "1053                           [mas, lele, tongkol]   \n",
       "\n",
       "                                                berat  \n",
       "0                            lele 6  bawal 1  nila 1   \n",
       "1     kakap 2  lele 1  kembung 1  tongkol 1  salem 1   \n",
       "2                         rata2 1  kecuali kembung 2   \n",
       "3      nila 1  bawal 2  kembung 5  lele 2  tongkol 3   \n",
       "4                                            rata2 1   \n",
       "...                                               ...  \n",
       "1049                                               3   \n",
       "1050                                              5 5  \n",
       "1051                                                5  \n",
       "1052                                              4 5  \n",
       "1053                                               4   \n",
       "\n",
       "[1054 rows x 2 columns]"
      ],
      "text/html": "<div>\n<style scoped>\n    .dataframe tbody tr th:only-of-type {\n        vertical-align: middle;\n    }\n\n    .dataframe tbody tr th {\n        vertical-align: top;\n    }\n\n    .dataframe thead th {\n        text-align: right;\n    }\n</style>\n<table border=\"1\" class=\"dataframe\">\n  <thead>\n    <tr style=\"text-align: right;\">\n      <th></th>\n      <th>komoditas</th>\n      <th>berat</th>\n    </tr>\n  </thead>\n  <tbody>\n    <tr>\n      <th>0</th>\n      <td>[lele, bawal, nila]</td>\n      <td>lele 6  bawal 1  nila 1</td>\n    </tr>\n    <tr>\n      <th>1</th>\n      <td>[kakap, lele, kembung, tongkol, salem]</td>\n      <td>kakap 2  lele 1  kembung 1  tongkol 1  salem 1</td>\n    </tr>\n    <tr>\n      <th>2</th>\n      <td>[nila, kakap, lele, bawal, kembung, salam]</td>\n      <td>rata2 1  kecuali kembung 2</td>\n    </tr>\n    <tr>\n      <th>3</th>\n      <td>[nila, kembung, tongkol, lele, bawal]</td>\n      <td>nila 1  bawal 2  kembung 5  lele 2  tongkol 3</td>\n    </tr>\n    <tr>\n      <th>4</th>\n      <td>[lele, kerapu, mas, pindang, tongkol, gurame]</td>\n      <td>rata2 1</td>\n    </tr>\n    <tr>\n      <th>...</th>\n      <td>...</td>\n      <td>...</td>\n    </tr>\n    <tr>\n      <th>1049</th>\n      <td>[lele]</td>\n      <td>3</td>\n    </tr>\n    <tr>\n      <th>1050</th>\n      <td>[mas, mujaer]</td>\n      <td>5 5</td>\n    </tr>\n    <tr>\n      <th>1051</th>\n      <td>[mas, lele, bawal, mujair]</td>\n      <td>5</td>\n    </tr>\n    <tr>\n      <th>1052</th>\n      <td>[tongkol, nila]</td>\n      <td>4 5</td>\n    </tr>\n    <tr>\n      <th>1053</th>\n      <td>[mas, lele, tongkol]</td>\n      <td>4</td>\n    </tr>\n  </tbody>\n</table>\n<p>1054 rows × 2 columns</p>\n</div>"
     },
     "metadata": {},
     "execution_count": 32
    }
   ],
   "source": [
    "df2"
   ]
  },
  {
   "cell_type": "code",
   "execution_count": 33,
   "metadata": {},
   "outputs": [],
   "source": [
    "# list that will remove on this df\n",
    "To_remove_lst = [\"lele\", \"bawal\", \"tongkol\", \"salem\", \"rata2\", \"kembung\", \"kecuali\", \"kakap\", \"nila\"]"
   ]
  },
  {
   "cell_type": "code",
   "execution_count": 34,
   "metadata": {},
   "outputs": [],
   "source": [
    "# remove list using regex (regular expression)\n",
    "df2['berat'] = df2['berat'].str.replace('|'.join(map(re.escape, To_remove_lst)), '')"
   ]
  },
  {
   "cell_type": "code",
   "execution_count": 35,
   "metadata": {},
   "outputs": [
    {
     "output_type": "execute_result",
     "data": {
      "text/plain": [
       "                                          komoditas                berat\n",
       "0                               [lele, bawal, nila]           6   1   1 \n",
       "1            [kakap, lele, kembung, tongkol, salem]   2   1   1   1   1 \n",
       "2        [nila, kakap, lele, bawal, kembung, salam]              1    2 \n",
       "3             [nila, kembung, tongkol, lele, bawal]   1   2   5   2   3 \n",
       "4     [lele, kerapu, mas, pindang, tongkol, gurame]                   1 \n",
       "...                                             ...                  ...\n",
       "1049                                         [lele]                   3 \n",
       "1050                                  [mas, mujaer]                  5 5\n",
       "1051                     [mas, lele, bawal, mujair]                    5\n",
       "1052                                [tongkol, nila]                  4 5\n",
       "1053                           [mas, lele, tongkol]                   4 \n",
       "\n",
       "[1054 rows x 2 columns]"
      ],
      "text/html": "<div>\n<style scoped>\n    .dataframe tbody tr th:only-of-type {\n        vertical-align: middle;\n    }\n\n    .dataframe tbody tr th {\n        vertical-align: top;\n    }\n\n    .dataframe thead th {\n        text-align: right;\n    }\n</style>\n<table border=\"1\" class=\"dataframe\">\n  <thead>\n    <tr style=\"text-align: right;\">\n      <th></th>\n      <th>komoditas</th>\n      <th>berat</th>\n    </tr>\n  </thead>\n  <tbody>\n    <tr>\n      <th>0</th>\n      <td>[lele, bawal, nila]</td>\n      <td>6   1   1</td>\n    </tr>\n    <tr>\n      <th>1</th>\n      <td>[kakap, lele, kembung, tongkol, salem]</td>\n      <td>2   1   1   1   1</td>\n    </tr>\n    <tr>\n      <th>2</th>\n      <td>[nila, kakap, lele, bawal, kembung, salam]</td>\n      <td>1    2</td>\n    </tr>\n    <tr>\n      <th>3</th>\n      <td>[nila, kembung, tongkol, lele, bawal]</td>\n      <td>1   2   5   2   3</td>\n    </tr>\n    <tr>\n      <th>4</th>\n      <td>[lele, kerapu, mas, pindang, tongkol, gurame]</td>\n      <td>1</td>\n    </tr>\n    <tr>\n      <th>...</th>\n      <td>...</td>\n      <td>...</td>\n    </tr>\n    <tr>\n      <th>1049</th>\n      <td>[lele]</td>\n      <td>3</td>\n    </tr>\n    <tr>\n      <th>1050</th>\n      <td>[mas, mujaer]</td>\n      <td>5 5</td>\n    </tr>\n    <tr>\n      <th>1051</th>\n      <td>[mas, lele, bawal, mujair]</td>\n      <td>5</td>\n    </tr>\n    <tr>\n      <th>1052</th>\n      <td>[tongkol, nila]</td>\n      <td>4 5</td>\n    </tr>\n    <tr>\n      <th>1053</th>\n      <td>[mas, lele, tongkol]</td>\n      <td>4</td>\n    </tr>\n  </tbody>\n</table>\n<p>1054 rows × 2 columns</p>\n</div>"
     },
     "metadata": {},
     "execution_count": 35
    }
   ],
   "source": [
    "df2"
   ]
  },
  {
   "cell_type": "code",
   "execution_count": 36,
   "metadata": {},
   "outputs": [],
   "source": [
    "df2.to_excel(\"unclean_data_fish.xlsx\")"
   ]
  },
  {
   "source": [
    "`Note`: this done for removing unnescessary string usign regex but, the problem is how to make function to explode each with special conditions, for insance is, multiple list with single list on a rows\n"
   ],
   "cell_type": "markdown",
   "metadata": {}
  },
  {
   "source": [
    "# explode the rows with the unequal lens\n",
    "\n",
    "\n",
    "1. make function to explode rows with different lens\n",
    "2. if len(df) == 2: "
   ],
   "cell_type": "markdown",
   "metadata": {}
  },
  {
   "cell_type": "code",
   "execution_count": 50,
   "metadata": {},
   "outputs": [
    {
     "output_type": "error",
     "ename": "ValueError",
     "evalue": "The truth value of a Series is ambiguous. Use a.empty, a.bool(), a.item(), a.any() or a.all().",
     "traceback": [
      "\u001b[0;31m---------------------------------------------------------------------------\u001b[0m",
      "\u001b[0;31mValueError\u001b[0m                                Traceback (most recent call last)",
      "\u001b[0;32m<ipython-input-50-22a169e7ea98>\u001b[0m in \u001b[0;36m<module>\u001b[0;34m\u001b[0m\n\u001b[0;32m----> 1\u001b[0;31m \u001b[0;32mif\u001b[0m \u001b[0mlens_berat\u001b[0m \u001b[0;34m==\u001b[0m \u001b[0;36m2\u001b[0m\u001b[0;34m:\u001b[0m\u001b[0;34m\u001b[0m\u001b[0;34m\u001b[0m\u001b[0m\n\u001b[0m\u001b[1;32m      2\u001b[0m     \u001b[0mdf\u001b[0m\u001b[0;34m.\u001b[0m\u001b[0mexplode\u001b[0m\u001b[0;34m(\u001b[0m\u001b[0;34m'berat'\u001b[0m\u001b[0;34m)\u001b[0m\u001b[0;34m\u001b[0m\u001b[0;34m\u001b[0m\u001b[0m\n",
      "\u001b[0;32m~/opt/anaconda3/lib/python3.8/site-packages/pandas/core/generic.py\u001b[0m in \u001b[0;36m__nonzero__\u001b[0;34m(self)\u001b[0m\n\u001b[1;32m   1327\u001b[0m \u001b[0;34m\u001b[0m\u001b[0m\n\u001b[1;32m   1328\u001b[0m     \u001b[0;32mdef\u001b[0m \u001b[0m__nonzero__\u001b[0m\u001b[0;34m(\u001b[0m\u001b[0mself\u001b[0m\u001b[0;34m)\u001b[0m\u001b[0;34m:\u001b[0m\u001b[0;34m\u001b[0m\u001b[0;34m\u001b[0m\u001b[0m\n\u001b[0;32m-> 1329\u001b[0;31m         raise ValueError(\n\u001b[0m\u001b[1;32m   1330\u001b[0m             \u001b[0;34mf\"The truth value of a {type(self).__name__} is ambiguous. \"\u001b[0m\u001b[0;34m\u001b[0m\u001b[0;34m\u001b[0m\u001b[0m\n\u001b[1;32m   1331\u001b[0m             \u001b[0;34m\"Use a.empty, a.bool(), a.item(), a.any() or a.all().\"\u001b[0m\u001b[0;34m\u001b[0m\u001b[0;34m\u001b[0m\u001b[0m\n",
      "\u001b[0;31mValueError\u001b[0m: The truth value of a Series is ambiguous. Use a.empty, a.bool(), a.item(), a.any() or a.all()."
     ]
    }
   ],
   "source": []
  },
  {
   "cell_type": "code",
   "execution_count": 48,
   "metadata": {},
   "outputs": [
    {
     "output_type": "execute_result",
     "data": {
      "text/plain": [
       "                                          komoditas                berat\n",
       "0                               [lele, bawal, nila]           6   1   1 \n",
       "1            [kakap, lele, kembung, tongkol, salem]   2   1   1   1   1 \n",
       "2        [nila, kakap, lele, bawal, kembung, salam]              1    2 \n",
       "3             [nila, kembung, tongkol, lele, bawal]   1   2   5   2   3 \n",
       "4     [lele, kerapu, mas, pindang, tongkol, gurame]                   1 \n",
       "...                                             ...                  ...\n",
       "1049                                         [lele]                   3 \n",
       "1050                                  [mas, mujaer]                  5 5\n",
       "1051                     [mas, lele, bawal, mujair]                    5\n",
       "1052                                [tongkol, nila]                  4 5\n",
       "1053                           [mas, lele, tongkol]                   4 \n",
       "\n",
       "[1054 rows x 2 columns]"
      ],
      "text/html": "<div>\n<style scoped>\n    .dataframe tbody tr th:only-of-type {\n        vertical-align: middle;\n    }\n\n    .dataframe tbody tr th {\n        vertical-align: top;\n    }\n\n    .dataframe thead th {\n        text-align: right;\n    }\n</style>\n<table border=\"1\" class=\"dataframe\">\n  <thead>\n    <tr style=\"text-align: right;\">\n      <th></th>\n      <th>komoditas</th>\n      <th>berat</th>\n    </tr>\n  </thead>\n  <tbody>\n    <tr>\n      <th>0</th>\n      <td>[lele, bawal, nila]</td>\n      <td>6   1   1</td>\n    </tr>\n    <tr>\n      <th>1</th>\n      <td>[kakap, lele, kembung, tongkol, salem]</td>\n      <td>2   1   1   1   1</td>\n    </tr>\n    <tr>\n      <th>2</th>\n      <td>[nila, kakap, lele, bawal, kembung, salam]</td>\n      <td>1    2</td>\n    </tr>\n    <tr>\n      <th>3</th>\n      <td>[nila, kembung, tongkol, lele, bawal]</td>\n      <td>1   2   5   2   3</td>\n    </tr>\n    <tr>\n      <th>4</th>\n      <td>[lele, kerapu, mas, pindang, tongkol, gurame]</td>\n      <td>1</td>\n    </tr>\n    <tr>\n      <th>...</th>\n      <td>...</td>\n      <td>...</td>\n    </tr>\n    <tr>\n      <th>1049</th>\n      <td>[lele]</td>\n      <td>3</td>\n    </tr>\n    <tr>\n      <th>1050</th>\n      <td>[mas, mujaer]</td>\n      <td>5 5</td>\n    </tr>\n    <tr>\n      <th>1051</th>\n      <td>[mas, lele, bawal, mujair]</td>\n      <td>5</td>\n    </tr>\n    <tr>\n      <th>1052</th>\n      <td>[tongkol, nila]</td>\n      <td>4 5</td>\n    </tr>\n    <tr>\n      <th>1053</th>\n      <td>[mas, lele, tongkol]</td>\n      <td>4</td>\n    </tr>\n  </tbody>\n</table>\n<p>1054 rows × 2 columns</p>\n</div>"
     },
     "metadata": {},
     "execution_count": 48
    }
   ],
   "source": [
    "df2"
   ]
  },
  {
   "cell_type": "code",
   "execution_count": 52,
   "metadata": {},
   "outputs": [],
   "source": [
    "df2['berat'] = df2['berat'].str.split()"
   ]
  },
  {
   "cell_type": "code",
   "execution_count": 53,
   "metadata": {},
   "outputs": [
    {
     "output_type": "execute_result",
     "data": {
      "text/plain": [
       "                                          komoditas            berat\n",
       "0                               [lele, bawal, nila]        [6, 1, 1]\n",
       "1            [kakap, lele, kembung, tongkol, salem]  [2, 1, 1, 1, 1]\n",
       "2        [nila, kakap, lele, bawal, kembung, salam]           [1, 2]\n",
       "3             [nila, kembung, tongkol, lele, bawal]  [1, 2, 5, 2, 3]\n",
       "4     [lele, kerapu, mas, pindang, tongkol, gurame]              [1]\n",
       "...                                             ...              ...\n",
       "1049                                         [lele]              [3]\n",
       "1050                                  [mas, mujaer]           [5, 5]\n",
       "1051                     [mas, lele, bawal, mujair]              [5]\n",
       "1052                                [tongkol, nila]           [4, 5]\n",
       "1053                           [mas, lele, tongkol]              [4]\n",
       "\n",
       "[1054 rows x 2 columns]"
      ],
      "text/html": "<div>\n<style scoped>\n    .dataframe tbody tr th:only-of-type {\n        vertical-align: middle;\n    }\n\n    .dataframe tbody tr th {\n        vertical-align: top;\n    }\n\n    .dataframe thead th {\n        text-align: right;\n    }\n</style>\n<table border=\"1\" class=\"dataframe\">\n  <thead>\n    <tr style=\"text-align: right;\">\n      <th></th>\n      <th>komoditas</th>\n      <th>berat</th>\n    </tr>\n  </thead>\n  <tbody>\n    <tr>\n      <th>0</th>\n      <td>[lele, bawal, nila]</td>\n      <td>[6, 1, 1]</td>\n    </tr>\n    <tr>\n      <th>1</th>\n      <td>[kakap, lele, kembung, tongkol, salem]</td>\n      <td>[2, 1, 1, 1, 1]</td>\n    </tr>\n    <tr>\n      <th>2</th>\n      <td>[nila, kakap, lele, bawal, kembung, salam]</td>\n      <td>[1, 2]</td>\n    </tr>\n    <tr>\n      <th>3</th>\n      <td>[nila, kembung, tongkol, lele, bawal]</td>\n      <td>[1, 2, 5, 2, 3]</td>\n    </tr>\n    <tr>\n      <th>4</th>\n      <td>[lele, kerapu, mas, pindang, tongkol, gurame]</td>\n      <td>[1]</td>\n    </tr>\n    <tr>\n      <th>...</th>\n      <td>...</td>\n      <td>...</td>\n    </tr>\n    <tr>\n      <th>1049</th>\n      <td>[lele]</td>\n      <td>[3]</td>\n    </tr>\n    <tr>\n      <th>1050</th>\n      <td>[mas, mujaer]</td>\n      <td>[5, 5]</td>\n    </tr>\n    <tr>\n      <th>1051</th>\n      <td>[mas, lele, bawal, mujair]</td>\n      <td>[5]</td>\n    </tr>\n    <tr>\n      <th>1052</th>\n      <td>[tongkol, nila]</td>\n      <td>[4, 5]</td>\n    </tr>\n    <tr>\n      <th>1053</th>\n      <td>[mas, lele, tongkol]</td>\n      <td>[4]</td>\n    </tr>\n  </tbody>\n</table>\n<p>1054 rows × 2 columns</p>\n</div>"
     },
     "metadata": {},
     "execution_count": 53
    }
   ],
   "source": [
    "df2"
   ]
  },
  {
   "cell_type": "code",
   "execution_count": 55,
   "metadata": {},
   "outputs": [
    {
     "output_type": "execute_result",
     "data": {
      "text/plain": [
       "                                          komoditas            berat\n",
       "0                               [lele, bawal, nila]        [6, 1, 1]\n",
       "1            [kakap, lele, kembung, tongkol, salem]  [2, 1, 1, 1, 1]\n",
       "2        [nila, kakap, lele, bawal, kembung, salam]           [1, 2]\n",
       "3             [nila, kembung, tongkol, lele, bawal]  [1, 2, 5, 2, 3]\n",
       "4     [lele, kerapu, mas, pindang, tongkol, gurame]              [1]\n",
       "...                                             ...              ...\n",
       "1049                                         [lele]              [3]\n",
       "1050                                  [mas, mujaer]           [5, 5]\n",
       "1051                     [mas, lele, bawal, mujair]              [5]\n",
       "1052                                [tongkol, nila]           [4, 5]\n",
       "1053                           [mas, lele, tongkol]              [4]\n",
       "\n",
       "[1054 rows x 2 columns]"
      ],
      "text/html": "<div>\n<style scoped>\n    .dataframe tbody tr th:only-of-type {\n        vertical-align: middle;\n    }\n\n    .dataframe tbody tr th {\n        vertical-align: top;\n    }\n\n    .dataframe thead th {\n        text-align: right;\n    }\n</style>\n<table border=\"1\" class=\"dataframe\">\n  <thead>\n    <tr style=\"text-align: right;\">\n      <th></th>\n      <th>komoditas</th>\n      <th>berat</th>\n    </tr>\n  </thead>\n  <tbody>\n    <tr>\n      <th>0</th>\n      <td>[lele, bawal, nila]</td>\n      <td>[6, 1, 1]</td>\n    </tr>\n    <tr>\n      <th>1</th>\n      <td>[kakap, lele, kembung, tongkol, salem]</td>\n      <td>[2, 1, 1, 1, 1]</td>\n    </tr>\n    <tr>\n      <th>2</th>\n      <td>[nila, kakap, lele, bawal, kembung, salam]</td>\n      <td>[1, 2]</td>\n    </tr>\n    <tr>\n      <th>3</th>\n      <td>[nila, kembung, tongkol, lele, bawal]</td>\n      <td>[1, 2, 5, 2, 3]</td>\n    </tr>\n    <tr>\n      <th>4</th>\n      <td>[lele, kerapu, mas, pindang, tongkol, gurame]</td>\n      <td>[1]</td>\n    </tr>\n    <tr>\n      <th>...</th>\n      <td>...</td>\n      <td>...</td>\n    </tr>\n    <tr>\n      <th>1049</th>\n      <td>[lele]</td>\n      <td>[3]</td>\n    </tr>\n    <tr>\n      <th>1050</th>\n      <td>[mas, mujaer]</td>\n      <td>[5, 5]</td>\n    </tr>\n    <tr>\n      <th>1051</th>\n      <td>[mas, lele, bawal, mujair]</td>\n      <td>[5]</td>\n    </tr>\n    <tr>\n      <th>1052</th>\n      <td>[tongkol, nila]</td>\n      <td>[4, 5]</td>\n    </tr>\n    <tr>\n      <th>1053</th>\n      <td>[mas, lele, tongkol]</td>\n      <td>[4]</td>\n    </tr>\n  </tbody>\n</table>\n<p>1054 rows × 2 columns</p>\n</div>"
     },
     "metadata": {},
     "execution_count": 55
    }
   ],
   "source": [
    "df2"
   ]
  },
  {
   "cell_type": "code",
   "execution_count": 56,
   "metadata": {},
   "outputs": [],
   "source": [
    "# return list from series of comma-separated strings\n",
    "def chainer(s):\n",
    "    return list(chain.from_iterable(s.str.split(',')))"
   ]
  },
  {
   "cell_type": "code",
   "execution_count": 57,
   "metadata": {},
   "outputs": [
    {
     "output_type": "error",
     "ename": "ValueError",
     "evalue": "arrays must all be same length",
     "traceback": [
      "\u001b[0;31m---------------------------------------------------------------------------\u001b[0m",
      "\u001b[0;31mValueError\u001b[0m                                Traceback (most recent call last)",
      "\u001b[0;32m<ipython-input-57-f849b7f041a0>\u001b[0m in \u001b[0;36m<module>\u001b[0;34m\u001b[0m\n\u001b[1;32m      1\u001b[0m \u001b[0;31m# create new dataframe, repeating or chaining as appropriate\u001b[0m\u001b[0;34m\u001b[0m\u001b[0;34m\u001b[0m\u001b[0;34m\u001b[0m\u001b[0m\n\u001b[0;32m----> 2\u001b[0;31m res = pd.DataFrame({'komoditas': chainer(df['komoditas']),\n\u001b[0m\u001b[1;32m      3\u001b[0m                     'berat': chainer(df['berat'])})\n",
      "\u001b[0;32m~/opt/anaconda3/lib/python3.8/site-packages/pandas/core/frame.py\u001b[0m in \u001b[0;36m__init__\u001b[0;34m(self, data, index, columns, dtype, copy)\u001b[0m\n\u001b[1;32m    466\u001b[0m \u001b[0;34m\u001b[0m\u001b[0m\n\u001b[1;32m    467\u001b[0m         \u001b[0;32melif\u001b[0m \u001b[0misinstance\u001b[0m\u001b[0;34m(\u001b[0m\u001b[0mdata\u001b[0m\u001b[0;34m,\u001b[0m \u001b[0mdict\u001b[0m\u001b[0;34m)\u001b[0m\u001b[0;34m:\u001b[0m\u001b[0;34m\u001b[0m\u001b[0;34m\u001b[0m\u001b[0m\n\u001b[0;32m--> 468\u001b[0;31m             \u001b[0mmgr\u001b[0m \u001b[0;34m=\u001b[0m \u001b[0minit_dict\u001b[0m\u001b[0;34m(\u001b[0m\u001b[0mdata\u001b[0m\u001b[0;34m,\u001b[0m \u001b[0mindex\u001b[0m\u001b[0;34m,\u001b[0m \u001b[0mcolumns\u001b[0m\u001b[0;34m,\u001b[0m \u001b[0mdtype\u001b[0m\u001b[0;34m=\u001b[0m\u001b[0mdtype\u001b[0m\u001b[0;34m)\u001b[0m\u001b[0;34m\u001b[0m\u001b[0;34m\u001b[0m\u001b[0m\n\u001b[0m\u001b[1;32m    469\u001b[0m         \u001b[0;32melif\u001b[0m \u001b[0misinstance\u001b[0m\u001b[0;34m(\u001b[0m\u001b[0mdata\u001b[0m\u001b[0;34m,\u001b[0m \u001b[0mma\u001b[0m\u001b[0;34m.\u001b[0m\u001b[0mMaskedArray\u001b[0m\u001b[0;34m)\u001b[0m\u001b[0;34m:\u001b[0m\u001b[0;34m\u001b[0m\u001b[0;34m\u001b[0m\u001b[0m\n\u001b[1;32m    470\u001b[0m             \u001b[0;32mimport\u001b[0m \u001b[0mnumpy\u001b[0m\u001b[0;34m.\u001b[0m\u001b[0mma\u001b[0m\u001b[0;34m.\u001b[0m\u001b[0mmrecords\u001b[0m \u001b[0;32mas\u001b[0m \u001b[0mmrecords\u001b[0m\u001b[0;34m\u001b[0m\u001b[0;34m\u001b[0m\u001b[0m\n",
      "\u001b[0;32m~/opt/anaconda3/lib/python3.8/site-packages/pandas/core/internals/construction.py\u001b[0m in \u001b[0;36minit_dict\u001b[0;34m(data, index, columns, dtype)\u001b[0m\n\u001b[1;32m    281\u001b[0m             \u001b[0marr\u001b[0m \u001b[0;32mif\u001b[0m \u001b[0;32mnot\u001b[0m \u001b[0mis_datetime64tz_dtype\u001b[0m\u001b[0;34m(\u001b[0m\u001b[0marr\u001b[0m\u001b[0;34m)\u001b[0m \u001b[0;32melse\u001b[0m \u001b[0marr\u001b[0m\u001b[0;34m.\u001b[0m\u001b[0mcopy\u001b[0m\u001b[0;34m(\u001b[0m\u001b[0;34m)\u001b[0m \u001b[0;32mfor\u001b[0m \u001b[0marr\u001b[0m \u001b[0;32min\u001b[0m \u001b[0marrays\u001b[0m\u001b[0;34m\u001b[0m\u001b[0;34m\u001b[0m\u001b[0m\n\u001b[1;32m    282\u001b[0m         ]\n\u001b[0;32m--> 283\u001b[0;31m     \u001b[0;32mreturn\u001b[0m \u001b[0marrays_to_mgr\u001b[0m\u001b[0;34m(\u001b[0m\u001b[0marrays\u001b[0m\u001b[0;34m,\u001b[0m \u001b[0mdata_names\u001b[0m\u001b[0;34m,\u001b[0m \u001b[0mindex\u001b[0m\u001b[0;34m,\u001b[0m \u001b[0mcolumns\u001b[0m\u001b[0;34m,\u001b[0m \u001b[0mdtype\u001b[0m\u001b[0;34m=\u001b[0m\u001b[0mdtype\u001b[0m\u001b[0;34m)\u001b[0m\u001b[0;34m\u001b[0m\u001b[0;34m\u001b[0m\u001b[0m\n\u001b[0m\u001b[1;32m    284\u001b[0m \u001b[0;34m\u001b[0m\u001b[0m\n\u001b[1;32m    285\u001b[0m \u001b[0;34m\u001b[0m\u001b[0m\n",
      "\u001b[0;32m~/opt/anaconda3/lib/python3.8/site-packages/pandas/core/internals/construction.py\u001b[0m in \u001b[0;36marrays_to_mgr\u001b[0;34m(arrays, arr_names, index, columns, dtype, verify_integrity)\u001b[0m\n\u001b[1;32m     76\u001b[0m         \u001b[0;31m# figure out the index, if necessary\u001b[0m\u001b[0;34m\u001b[0m\u001b[0;34m\u001b[0m\u001b[0;34m\u001b[0m\u001b[0m\n\u001b[1;32m     77\u001b[0m         \u001b[0;32mif\u001b[0m \u001b[0mindex\u001b[0m \u001b[0;32mis\u001b[0m \u001b[0;32mNone\u001b[0m\u001b[0;34m:\u001b[0m\u001b[0;34m\u001b[0m\u001b[0;34m\u001b[0m\u001b[0m\n\u001b[0;32m---> 78\u001b[0;31m             \u001b[0mindex\u001b[0m \u001b[0;34m=\u001b[0m \u001b[0mextract_index\u001b[0m\u001b[0;34m(\u001b[0m\u001b[0marrays\u001b[0m\u001b[0;34m)\u001b[0m\u001b[0;34m\u001b[0m\u001b[0;34m\u001b[0m\u001b[0m\n\u001b[0m\u001b[1;32m     79\u001b[0m         \u001b[0;32melse\u001b[0m\u001b[0;34m:\u001b[0m\u001b[0;34m\u001b[0m\u001b[0;34m\u001b[0m\u001b[0m\n\u001b[1;32m     80\u001b[0m             \u001b[0mindex\u001b[0m \u001b[0;34m=\u001b[0m \u001b[0mensure_index\u001b[0m\u001b[0;34m(\u001b[0m\u001b[0mindex\u001b[0m\u001b[0;34m)\u001b[0m\u001b[0;34m\u001b[0m\u001b[0;34m\u001b[0m\u001b[0m\n",
      "\u001b[0;32m~/opt/anaconda3/lib/python3.8/site-packages/pandas/core/internals/construction.py\u001b[0m in \u001b[0;36mextract_index\u001b[0;34m(data)\u001b[0m\n\u001b[1;32m    395\u001b[0m             \u001b[0mlengths\u001b[0m \u001b[0;34m=\u001b[0m \u001b[0mlist\u001b[0m\u001b[0;34m(\u001b[0m\u001b[0mset\u001b[0m\u001b[0;34m(\u001b[0m\u001b[0mraw_lengths\u001b[0m\u001b[0;34m)\u001b[0m\u001b[0;34m)\u001b[0m\u001b[0;34m\u001b[0m\u001b[0;34m\u001b[0m\u001b[0m\n\u001b[1;32m    396\u001b[0m             \u001b[0;32mif\u001b[0m \u001b[0mlen\u001b[0m\u001b[0;34m(\u001b[0m\u001b[0mlengths\u001b[0m\u001b[0;34m)\u001b[0m \u001b[0;34m>\u001b[0m \u001b[0;36m1\u001b[0m\u001b[0;34m:\u001b[0m\u001b[0;34m\u001b[0m\u001b[0;34m\u001b[0m\u001b[0m\n\u001b[0;32m--> 397\u001b[0;31m                 \u001b[0;32mraise\u001b[0m \u001b[0mValueError\u001b[0m\u001b[0;34m(\u001b[0m\u001b[0;34m\"arrays must all be same length\"\u001b[0m\u001b[0;34m)\u001b[0m\u001b[0;34m\u001b[0m\u001b[0;34m\u001b[0m\u001b[0m\n\u001b[0m\u001b[1;32m    398\u001b[0m \u001b[0;34m\u001b[0m\u001b[0m\n\u001b[1;32m    399\u001b[0m             \u001b[0;32mif\u001b[0m \u001b[0mhave_dicts\u001b[0m\u001b[0;34m:\u001b[0m\u001b[0;34m\u001b[0m\u001b[0;34m\u001b[0m\u001b[0m\n",
      "\u001b[0;31mValueError\u001b[0m: arrays must all be same length"
     ]
    }
   ],
   "source": [
    "# create new dataframe, repeating or chaining as appropriate\n",
    "res = pd.DataFrame({'komoditas': chainer(df['komoditas']),\n",
    "                    'berat': chainer(df['berat'])})"
   ]
  },
  {
   "cell_type": "code",
   "execution_count": null,
   "metadata": {},
   "outputs": [],
   "source": []
  }
 ]
}