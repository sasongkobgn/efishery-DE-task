{
 "metadata": {
  "language_info": {
   "codemirror_mode": {
    "name": "ipython",
    "version": 3
   },
   "file_extension": ".py",
   "mimetype": "text/x-python",
   "name": "python",
   "nbconvert_exporter": "python",
   "pygments_lexer": "ipython3",
   "version": "3.8.5-final"
  },
  "orig_nbformat": 2,
  "kernelspec": {
   "name": "python385jvsc74a57bd0a90308b81cfff866ed9d307b18741afebc1b293002c7a70c3e1001eb2056af19",
   "display_name": "Python 3.8.5 64-bit ('base': conda)"
  }
 },
 "nbformat": 4,
 "nbformat_minor": 2,
 "cells": [
  {
   "cell_type": "code",
   "execution_count": 27,
   "metadata": {},
   "outputs": [],
   "source": [
    "# import library\n",
    "import pandas as pd\n",
    "import numpy as np \n",
    "import missingno as msno\n",
    "import matplotlib.pyplot as plt"
   ]
  },
  {
   "cell_type": "code",
   "execution_count": 28,
   "metadata": {},
   "outputs": [
    {
     "output_type": "error",
     "ename": "NameError",
     "evalue": "name 'requests' is not defined",
     "traceback": [
      "\u001b[0;31m---------------------------------------------------------------------------\u001b[0m",
      "\u001b[0;31mNameError\u001b[0m                                 Traceback (most recent call last)",
      "\u001b[0;32m<ipython-input-28-eeb80f01ee85>\u001b[0m in \u001b[0;36m<module>\u001b[0;34m\u001b[0m\n\u001b[1;32m      2\u001b[0m \u001b[0;34m\u001b[0m\u001b[0m\n\u001b[1;32m      3\u001b[0m \u001b[0;31m# Get data about NYC cafes from the Yelp API\u001b[0m\u001b[0;34m\u001b[0m\u001b[0;34m\u001b[0m\u001b[0;34m\u001b[0m\u001b[0m\n\u001b[0;32m----> 4\u001b[0;31m \u001b[0mresponse\u001b[0m \u001b[0;34m=\u001b[0m \u001b[0mrequests\u001b[0m\u001b[0;34m.\u001b[0m\u001b[0mget\u001b[0m\u001b[0;34m(\u001b[0m\u001b[0mapi_url\u001b[0m\u001b[0;34m)\u001b[0m\u001b[0;34m\u001b[0m\u001b[0;34m\u001b[0m\u001b[0m\n\u001b[0m\u001b[1;32m      5\u001b[0m \u001b[0;34m\u001b[0m\u001b[0m\n\u001b[1;32m      6\u001b[0m \u001b[0;31m# Extract JSON data from the response\u001b[0m\u001b[0;34m\u001b[0m\u001b[0;34m\u001b[0m\u001b[0;34m\u001b[0m\u001b[0m\n",
      "\u001b[0;31mNameError\u001b[0m: name 'requests' is not defined"
     ]
    }
   ],
   "source": [
    "api_url = \"https://stein.efishery.com/v1/storages/5e1edf521073e315924ceab4/list\"\n",
    "\n",
    "# Get data about NYC cafes from the Yelp API\n",
    "response = requests.get(api_url)\n",
    "\n",
    "# Extract JSON data from the response\n",
    "data = response.json()"
   ]
  },
  {
   "cell_type": "code",
   "execution_count": 22,
   "metadata": {},
   "outputs": [
    {
     "output_type": "stream",
     "name": "stdout",
     "text": [
      "uuid             object\nkomoditas        object\narea_provinsi    object\narea_kota        object\nsize             object\nprice            object\ntgl_parsed       object\ntimestamp        object\ndtype: object\n"
     ]
    }
   ],
   "source": [
    "# Load data to a data frame\n",
    "df = pd.DataFrame(data)\n",
    "\n",
    "# View the data's dtypes\n",
    "print(df.dtypes)"
   ]
  },
  {
   "cell_type": "code",
   "execution_count": 23,
   "metadata": {},
   "outputs": [
    {
     "output_type": "stream",
     "name": "stdout",
     "text": [
      "   uuid komoditas area_provinsi area_kota  size price tgl_parsed timestamp\n0  None      None          None      None  None  None       None      None\n1  None      None          None      None  None  None       None      None\n2  None      None          None      None  None  None       None      None\n3  None      None          None      None  None  None       None      None\n4  None      None          None      None  None  None       None      None\n"
     ]
    }
   ],
   "source": [
    "# Load json_normalize()\n",
    "from pandas.io.json import json_normalize\n",
    "\n",
    "# Isolate the JSON data from the API response\n",
    "data = response.json()\n",
    "\n",
    "# Flatten fish data into a data frame, replace separator\n",
    "df =  pd.json_normalize(data,\n",
    "             sep = '_')\n",
    "\n",
    "# View data\n",
    "print(df.head())"
   ]
  },
  {
   "cell_type": "code",
   "execution_count": 64,
   "metadata": {},
   "outputs": [],
   "source": [
    "# drop null value\n",
    "df1 = df.dropna()\n",
    "date_iso = df1.tgl_parsed"
   ]
  },
  {
   "cell_type": "code",
   "execution_count": 67,
   "metadata": {},
   "outputs": [],
   "source": [
    "# import datetime\n",
    "import datetime\n",
    "\n",
    "# get date from tgl_parsed\n",
    "date_iso = df1.tgl_parsed\n",
    "date_iso = pd.to_datetime(date_iso, utc=True)\n",
    "date_iso = pd.to_datetime(date_iso).dt.strftime('%Y-%V')"
   ]
  },
  {
   "source": [
    "`Week | Komoditas | Average Price | Min Price | Max Price`"
   ],
   "cell_type": "markdown",
   "metadata": {}
  },
  {
   "cell_type": "code",
   "execution_count": 71,
   "metadata": {},
   "outputs": [],
   "source": [
    "df['week'] = date_iso"
   ]
  },
  {
   "cell_type": "code",
   "execution_count": 75,
   "metadata": {},
   "outputs": [
    {
     "output_type": "execute_result",
     "data": {
      "text/plain": [
       "    komoditas    price     week\n",
       "16     Cupang  20100.0  2020-22\n",
       "19     Arwana  20000.0  2021-15\n",
       "24      Gabus  20000.0  2020-23\n",
       "26       Lele  50000.0  2020-24\n",
       "27      Gabus  20000.0  2020-24\n",
       "..        ...      ...      ...\n",
       "205    Komo 2    123.0  2021-15\n",
       "206    Komo 3    123.0  2021-15\n",
       "207    Komo 4    123.0  2021-15\n",
       "208    Komo 5      1.0  2021-15\n",
       "209    Komo 6    234.0  2021-15\n",
       "\n",
       "[117 rows x 3 columns]"
      ],
      "text/html": "<div>\n<style scoped>\n    .dataframe tbody tr th:only-of-type {\n        vertical-align: middle;\n    }\n\n    .dataframe tbody tr th {\n        vertical-align: top;\n    }\n\n    .dataframe thead th {\n        text-align: right;\n    }\n</style>\n<table border=\"1\" class=\"dataframe\">\n  <thead>\n    <tr style=\"text-align: right;\">\n      <th></th>\n      <th>komoditas</th>\n      <th>price</th>\n      <th>week</th>\n    </tr>\n  </thead>\n  <tbody>\n    <tr>\n      <th>16</th>\n      <td>Cupang</td>\n      <td>20100.0</td>\n      <td>2020-22</td>\n    </tr>\n    <tr>\n      <th>19</th>\n      <td>Arwana</td>\n      <td>20000.0</td>\n      <td>2021-15</td>\n    </tr>\n    <tr>\n      <th>24</th>\n      <td>Gabus</td>\n      <td>20000.0</td>\n      <td>2020-23</td>\n    </tr>\n    <tr>\n      <th>26</th>\n      <td>Lele</td>\n      <td>50000.0</td>\n      <td>2020-24</td>\n    </tr>\n    <tr>\n      <th>27</th>\n      <td>Gabus</td>\n      <td>20000.0</td>\n      <td>2020-24</td>\n    </tr>\n    <tr>\n      <th>...</th>\n      <td>...</td>\n      <td>...</td>\n      <td>...</td>\n    </tr>\n    <tr>\n      <th>205</th>\n      <td>Komo 2</td>\n      <td>123.0</td>\n      <td>2021-15</td>\n    </tr>\n    <tr>\n      <th>206</th>\n      <td>Komo 3</td>\n      <td>123.0</td>\n      <td>2021-15</td>\n    </tr>\n    <tr>\n      <th>207</th>\n      <td>Komo 4</td>\n      <td>123.0</td>\n      <td>2021-15</td>\n    </tr>\n    <tr>\n      <th>208</th>\n      <td>Komo 5</td>\n      <td>1.0</td>\n      <td>2021-15</td>\n    </tr>\n    <tr>\n      <th>209</th>\n      <td>Komo 6</td>\n      <td>234.0</td>\n      <td>2021-15</td>\n    </tr>\n  </tbody>\n</table>\n<p>117 rows × 3 columns</p>\n</div>"
     },
     "metadata": {},
     "execution_count": 75
    }
   ],
   "source": [
    "df"
   ]
  },
  {
   "cell_type": "code",
   "execution_count": 76,
   "metadata": {},
   "outputs": [],
   "source": [
    "#convert price into numberic\n",
    "df[\"price\"] = pd.to_numeric(df.price, errors='coerce')"
   ]
  },
  {
   "cell_type": "code",
   "execution_count": 26,
   "metadata": {},
   "outputs": [
    {
     "output_type": "error",
     "ename": "NameError",
     "evalue": "name 'df' is not defined",
     "traceback": [
      "\u001b[0;31m---------------------------------------------------------------------------\u001b[0m",
      "\u001b[0;31mNameError\u001b[0m                                 Traceback (most recent call last)",
      "\u001b[0;32m<ipython-input-26-00cf07b74dcd>\u001b[0m in \u001b[0;36m<module>\u001b[0;34m\u001b[0m\n\u001b[0;32m----> 1\u001b[0;31m \u001b[0mdf\u001b[0m\u001b[0;34m\u001b[0m\u001b[0;34m\u001b[0m\u001b[0m\n\u001b[0m",
      "\u001b[0;31mNameError\u001b[0m: name 'df' is not defined"
     ]
    }
   ],
   "source": [
    "df"
   ]
  },
  {
   "cell_type": "code",
   "execution_count": 25,
   "metadata": {},
   "outputs": [
    {
     "output_type": "error",
     "ename": "NameError",
     "evalue": "name 'df' is not defined",
     "traceback": [
      "\u001b[0;31m---------------------------------------------------------------------------\u001b[0m",
      "\u001b[0;31mNameError\u001b[0m                                 Traceback (most recent call last)",
      "\u001b[0;32m<ipython-input-25-ca3185c41506>\u001b[0m in \u001b[0;36m<module>\u001b[0;34m\u001b[0m\n\u001b[0;32m----> 1\u001b[0;31m \u001b[0mdf\u001b[0m\u001b[0;34m.\u001b[0m\u001b[0msort_values\u001b[0m\u001b[0;34m(\u001b[0m\u001b[0;34m\"week\"\u001b[0m\u001b[0;34m)\u001b[0m\u001b[0;34m\u001b[0m\u001b[0;34m\u001b[0m\u001b[0m\n\u001b[0m",
      "\u001b[0;31mNameError\u001b[0m: name 'df' is not defined"
     ]
    }
   ],
   "source": [
    "df.sort_values(\"week\")"
   ]
  },
  {
   "cell_type": "code",
   "execution_count": 9,
   "metadata": {},
   "outputs": [
    {
     "output_type": "error",
     "ename": "NameError",
     "evalue": "name 'df' is not defined",
     "traceback": [
      "\u001b[0;31m---------------------------------------------------------------------------\u001b[0m",
      "\u001b[0;31mNameError\u001b[0m                                 Traceback (most recent call last)",
      "\u001b[0;32m<ipython-input-9-2a851eda2e88>\u001b[0m in \u001b[0;36m<module>\u001b[0;34m\u001b[0m\n\u001b[0;32m----> 1\u001b[0;31m \u001b[0mprint\u001b[0m\u001b[0;34m(\u001b[0m\u001b[0mdf\u001b[0m\u001b[0;34m)\u001b[0m\u001b[0;34m\u001b[0m\u001b[0;34m\u001b[0m\u001b[0m\n\u001b[0m",
      "\u001b[0;31mNameError\u001b[0m: name 'df' is not defined"
     ]
    }
   ],
   "source": [
    "print(df)"
   ]
  },
  {
   "cell_type": "code",
   "execution_count": null,
   "metadata": {},
   "outputs": [],
   "source": []
  }
 ]
}