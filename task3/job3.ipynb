{
 "metadata": {
  "language_info": {
   "codemirror_mode": {
    "name": "ipython",
    "version": 3
   },
   "file_extension": ".py",
   "mimetype": "text/x-python",
   "name": "python",
   "nbconvert_exporter": "python",
   "pygments_lexer": "ipython3",
   "version": "3.8.5-final"
  },
  "orig_nbformat": 2,
  "kernelspec": {
   "name": "python385jvsc74a57bd0a90308b81cfff866ed9d307b18741afebc1b293002c7a70c3e1001eb2056af19",
   "display_name": "Python 3.8.5 64-bit ('base': conda)"
  }
 },
 "nbformat": 4,
 "nbformat_minor": 2,
 "cells": [
  {
   "source": [
    "### 3. TASK 3\n",
    "\n",
    "Anda diberikan URL API (https://stein.efishery.com/v1/storages/5e1edf521073e315924ceab4/list). Buatlah\n",
    "sebuah program sederhana yang mampu menghasilkan:\n",
    "\n",
    "    1. File CSV dengan isi agregasi datanya: Week | Komoditas | Average Price | Min Price | Max Price\n",
    "\n",
    "    2. Week dalam format ISO Week Date\n",
    "\n",
    "    3. Komoditas di-cleansing dengan enum yang sama, nilai null dibuang\n",
    "\n",
    "    4. README.md dengan cara setup dan running program tersebut.\n",
    "\n",
    "    5. History commit yang iteratif dan sesuai syntax\n",
    "`http://karma-runner.github.io/4.0/dev/git-commit-msg.html`\n",
    "\n",
    "    6. Boleh gunakan asumsi pribadi selama bisa memberikan reasoning yang common\n",
    "sense. (cantumkan pada README.md)\n"
   ],
   "cell_type": "markdown",
   "metadata": {}
  },
  {
   "cell_type": "code",
   "execution_count": 2,
   "metadata": {},
   "outputs": [],
   "source": [
    "# import library\n",
    "import requests\n",
    "import pandas as pd\n",
    "import numpy as np"
   ]
  },
  {
   "cell_type": "code",
   "execution_count": 3,
   "metadata": {},
   "outputs": [],
   "source": [
    "api_url = \"https://stein.efishery.com/v1/storages/5e1edf521073e315924ceab4/list\"\n",
    "\n",
    "# Get data about NYC cafes from the Yelp API\n",
    "response = requests.get(api_url)\n",
    "\n",
    "# Extract JSON data from the response\n",
    "data = response.json()"
   ]
  },
  {
   "cell_type": "code",
   "execution_count": 4,
   "metadata": {},
   "outputs": [
    {
     "output_type": "stream",
     "name": "stdout",
     "text": [
      "uuid             object\nkomoditas        object\narea_provinsi    object\narea_kota        object\nsize             object\nprice            object\ntgl_parsed       object\ntimestamp        object\ndtype: object\n"
     ]
    }
   ],
   "source": [
    "# Load data to a data frame\n",
    "fish_data = pd.DataFrame(data)\n",
    "\n",
    "# View the data's dtypes\n",
    "print(fish_data.dtypes)"
   ]
  },
  {
   "cell_type": "code",
   "execution_count": 5,
   "metadata": {},
   "outputs": [
    {
     "output_type": "stream",
     "name": "stdout",
     "text": [
      "   uuid komoditas area_provinsi area_kota  size price tgl_parsed timestamp\n0  None      None          None      None  None  None       None      None\n1  None      None          None      None  None  None       None      None\n2  None      None          None      None  None  None       None      None\n3  None      None          None      None  None  None       None      None\n4  None      None          None      None  None  None       None      None\n"
     ]
    }
   ],
   "source": [
    "# Load json_normalize()\n",
    "from pandas.io.json import json_normalize\n",
    "\n",
    "# Isolate the JSON data from the API response\n",
    "data = response.json()\n",
    "\n",
    "# Flatten fish data into a data frame, replace separator\n",
    "fish_data =  pd.json_normalize(data,\n",
    "             sep = '_')\n",
    "\n",
    "# View data\n",
    "print(fish_data.head())"
   ]
  },
  {
   "cell_type": "code",
   "execution_count": 6,
   "metadata": {},
   "outputs": [
    {
     "output_type": "stream",
     "name": "stdout",
     "text": [
      "<class 'pandas.core.frame.DataFrame'>\nRangeIndex: 215 entries, 0 to 214\nData columns (total 8 columns):\n #   Column         Non-Null Count  Dtype \n---  ------         --------------  ----- \n 0   uuid           128 non-null    object\n 1   komoditas      139 non-null    object\n 2   area_provinsi  141 non-null    object\n 3   area_kota      140 non-null    object\n 4   size           142 non-null    object\n 5   price          140 non-null    object\n 6   tgl_parsed     125 non-null    object\n 7   timestamp      124 non-null    object\ndtypes: object(8)\nmemory usage: 13.6+ KB\n"
     ]
    }
   ],
   "source": [
    "fish_data.info()"
   ]
  },
  {
   "cell_type": "code",
   "execution_count": 7,
   "metadata": {},
   "outputs": [
    {
     "output_type": "execute_result",
     "data": {
      "text/plain": [
       "<bound method NDFrame.describe of                                      uuid komoditas area_provinsi  area_kota  \\\n",
       "0                                    None      None          None       None   \n",
       "1                                    None      None          None       None   \n",
       "2                                    None      None          None       None   \n",
       "3                                    None      None          None       None   \n",
       "4                                    None      None          None       None   \n",
       "..                                    ...       ...           ...        ...   \n",
       "210  ad468ea4-6e12-4d7a-ae5b-c04de70c8ba8     Test1          ACEH  ACEH KOTA   \n",
       "211  e87c72a4-168c-416e-b2a0-7f3b9f5f8986     Gabus    JAWA BARAT    CIREBON   \n",
       "212  32719dd1-363c-4fcb-85a8-799ad002c345  Muhammad   DKI JAKARTA   KOTA TUA   \n",
       "213  85523eda-380a-4e69-9f55-135ff7964520      Ikan    JAWA BARAT    BANDUNG   \n",
       "214  7e289cd3-ec95-4961-91be-4abd8f8d7f90   Bandeng    JAWA TIMUR   SURABAYA   \n",
       "\n",
       "     size   price                 tgl_parsed      timestamp  \n",
       "0    None    None                       None           None  \n",
       "1    None    None                       None           None  \n",
       "2    None    None                       None           None  \n",
       "3    None    None                       None           None  \n",
       "4    None    None                       None           None  \n",
       "..    ...     ...                        ...            ...  \n",
       "210    30      34  2021-04-16T11:36:41+07:00     1618547801  \n",
       "211    50   13500  2021-04-16T13:25:57+07:00  1618554357449  \n",
       "212    40  200000  2021-04-16T22:21:32+07:00  1618586492888  \n",
       "213    20   20000   2021-04-16T15:35:28.337Z  1618587328337  \n",
       "214    25   20000   2021-04-16T15:35:52.331Z  1618587352331  \n",
       "\n",
       "[215 rows x 8 columns]>"
      ]
     },
     "metadata": {},
     "execution_count": 7
    }
   ],
   "source": [
    "fish_data.describe"
   ]
  },
  {
   "cell_type": "code",
   "execution_count": 8,
   "metadata": {},
   "outputs": [
    {
     "output_type": "execute_result",
     "data": {
      "text/plain": [
       "<bound method NDFrame.describe of                                      uuid komoditas area_provinsi   area_kota  \\\n",
       "16   0c192840-7ee4-11ea-b3e1-e335da5df3hj    Cupang    JAWA BARAT      CIMAHI   \n",
       "19   06d33985-cc46-4829-bc46-ca81efd3d936    Arwana        BANTEN  PANDEGLANG   \n",
       "24   ee264a90-906a-466b-a7e2-333b7eee755d     Gabus   JAWA TENGAH    PEMALANG   \n",
       "26   fdce108e-70f6-4ae3-b1ce-4445484c5f8d      Lele    JAWA BARAT     CIREBON   \n",
       "27     kotlin.random.XorWowRandom@812983c     Gabus          BALI    BULELENG   \n",
       "..                                    ...       ...           ...         ...   \n",
       "210  ad468ea4-6e12-4d7a-ae5b-c04de70c8ba8     Test1          ACEH   ACEH KOTA   \n",
       "211  e87c72a4-168c-416e-b2a0-7f3b9f5f8986     Gabus    JAWA BARAT     CIREBON   \n",
       "212  32719dd1-363c-4fcb-85a8-799ad002c345  Muhammad   DKI JAKARTA    KOTA TUA   \n",
       "213  85523eda-380a-4e69-9f55-135ff7964520      Ikan    JAWA BARAT     BANDUNG   \n",
       "214  7e289cd3-ec95-4961-91be-4abd8f8d7f90   Bandeng    JAWA TIMUR    SURABAYA   \n",
       "\n",
       "    size   price                 tgl_parsed      timestamp  \n",
       "16   101   20100  2020-06-01T00:00:00+07:00     1590944400  \n",
       "19    40   20000  2021-04-14T13:04:55+07:00     1618380295  \n",
       "24   180   20000   2020-06-07T16:41:26.328Z  1591522886328  \n",
       "26    50   50000   2020-06-08T10:45:53.965Z  1591587953965  \n",
       "27   130   20000   2020-06-08T10:45:53.965Z  1591587953965  \n",
       "..   ...     ...                        ...            ...  \n",
       "210   30      34  2021-04-16T11:36:41+07:00     1618547801  \n",
       "211   50   13500  2021-04-16T13:25:57+07:00  1618554357449  \n",
       "212   40  200000  2021-04-16T22:21:32+07:00  1618586492888  \n",
       "213   20   20000   2021-04-16T15:35:28.337Z  1618587328337  \n",
       "214   25   20000   2021-04-16T15:35:52.331Z  1618587352331  \n",
       "\n",
       "[120 rows x 8 columns]>"
      ]
     },
     "metadata": {},
     "execution_count": 8
    }
   ],
   "source": [
    "fish_data1 = fish_data.dropna()\n",
    "fish_data1.describe"
   ]
  },
  {
   "cell_type": "code",
   "execution_count": 9,
   "metadata": {},
   "outputs": [
    {
     "output_type": "execute_result",
     "data": {
      "text/plain": [
       "                                    uuid komoditas area_provinsi   area_kota  \\\n",
       "16  0c192840-7ee4-11ea-b3e1-e335da5df3hj    Cupang    JAWA BARAT      CIMAHI   \n",
       "19  06d33985-cc46-4829-bc46-ca81efd3d936    Arwana        BANTEN  PANDEGLANG   \n",
       "24  ee264a90-906a-466b-a7e2-333b7eee755d     Gabus   JAWA TENGAH    PEMALANG   \n",
       "26  fdce108e-70f6-4ae3-b1ce-4445484c5f8d      Lele    JAWA BARAT     CIREBON   \n",
       "27    kotlin.random.XorWowRandom@812983c     Gabus          BALI    BULELENG   \n",
       "\n",
       "   size  price                 tgl_parsed      timestamp  \n",
       "16  101  20100  2020-06-01T00:00:00+07:00     1590944400  \n",
       "19   40  20000  2021-04-14T13:04:55+07:00     1618380295  \n",
       "24  180  20000   2020-06-07T16:41:26.328Z  1591522886328  \n",
       "26   50  50000   2020-06-08T10:45:53.965Z  1591587953965  \n",
       "27  130  20000   2020-06-08T10:45:53.965Z  1591587953965  "
      ],
      "text/html": "<div>\n<style scoped>\n    .dataframe tbody tr th:only-of-type {\n        vertical-align: middle;\n    }\n\n    .dataframe tbody tr th {\n        vertical-align: top;\n    }\n\n    .dataframe thead th {\n        text-align: right;\n    }\n</style>\n<table border=\"1\" class=\"dataframe\">\n  <thead>\n    <tr style=\"text-align: right;\">\n      <th></th>\n      <th>uuid</th>\n      <th>komoditas</th>\n      <th>area_provinsi</th>\n      <th>area_kota</th>\n      <th>size</th>\n      <th>price</th>\n      <th>tgl_parsed</th>\n      <th>timestamp</th>\n    </tr>\n  </thead>\n  <tbody>\n    <tr>\n      <th>16</th>\n      <td>0c192840-7ee4-11ea-b3e1-e335da5df3hj</td>\n      <td>Cupang</td>\n      <td>JAWA BARAT</td>\n      <td>CIMAHI</td>\n      <td>101</td>\n      <td>20100</td>\n      <td>2020-06-01T00:00:00+07:00</td>\n      <td>1590944400</td>\n    </tr>\n    <tr>\n      <th>19</th>\n      <td>06d33985-cc46-4829-bc46-ca81efd3d936</td>\n      <td>Arwana</td>\n      <td>BANTEN</td>\n      <td>PANDEGLANG</td>\n      <td>40</td>\n      <td>20000</td>\n      <td>2021-04-14T13:04:55+07:00</td>\n      <td>1618380295</td>\n    </tr>\n    <tr>\n      <th>24</th>\n      <td>ee264a90-906a-466b-a7e2-333b7eee755d</td>\n      <td>Gabus</td>\n      <td>JAWA TENGAH</td>\n      <td>PEMALANG</td>\n      <td>180</td>\n      <td>20000</td>\n      <td>2020-06-07T16:41:26.328Z</td>\n      <td>1591522886328</td>\n    </tr>\n    <tr>\n      <th>26</th>\n      <td>fdce108e-70f6-4ae3-b1ce-4445484c5f8d</td>\n      <td>Lele</td>\n      <td>JAWA BARAT</td>\n      <td>CIREBON</td>\n      <td>50</td>\n      <td>50000</td>\n      <td>2020-06-08T10:45:53.965Z</td>\n      <td>1591587953965</td>\n    </tr>\n    <tr>\n      <th>27</th>\n      <td>kotlin.random.XorWowRandom@812983c</td>\n      <td>Gabus</td>\n      <td>BALI</td>\n      <td>BULELENG</td>\n      <td>130</td>\n      <td>20000</td>\n      <td>2020-06-08T10:45:53.965Z</td>\n      <td>1591587953965</td>\n    </tr>\n  </tbody>\n</table>\n</div>"
     },
     "metadata": {},
     "execution_count": 9
    }
   ],
   "source": [
    "fish_data1.head()"
   ]
  },
  {
   "source": [
    "Week | Komoditas | Average Price | Min Price | Max Price"
   ],
   "cell_type": "markdown",
   "metadata": {}
  },
  {
   "cell_type": "code",
   "execution_count": 10,
   "metadata": {},
   "outputs": [
    {
     "output_type": "stream",
     "name": "stdout",
     "text": [
      "<class 'pandas.core.frame.DataFrame'>\nInt64Index: 120 entries, 16 to 214\nData columns (total 8 columns):\n #   Column         Non-Null Count  Dtype \n---  ------         --------------  ----- \n 0   uuid           120 non-null    object\n 1   komoditas      120 non-null    object\n 2   area_provinsi  120 non-null    object\n 3   area_kota      120 non-null    object\n 4   size           120 non-null    object\n 5   price          120 non-null    object\n 6   tgl_parsed     120 non-null    object\n 7   timestamp      120 non-null    object\ndtypes: object(8)\nmemory usage: 8.4+ KB\n"
     ]
    }
   ],
   "source": [
    "fish_data1.info()"
   ]
  },
  {
   "cell_type": "code",
   "execution_count": 11,
   "metadata": {},
   "outputs": [
    {
     "output_type": "stream",
     "name": "stdout",
     "text": [
      "count       120\nunique       53\ntop       20000\nfreq         20\nName: price, dtype: object\n"
     ]
    }
   ],
   "source": [
    "# pritn max value of fish_data1\n",
    "print(fish_data1[\"price\"].describe())"
   ]
  },
  {
   "cell_type": "code",
   "execution_count": 12,
   "metadata": {},
   "outputs": [
    {
     "output_type": "execute_result",
     "data": {
      "text/plain": [
       "                                     uuid komoditas area_provinsi  area_kota  \\\n",
       "212  32719dd1-363c-4fcb-85a8-799ad002c345  Muhammad   DKI JAKARTA   KOTA TUA   \n",
       "214  7e289cd3-ec95-4961-91be-4abd8f8d7f90   Bandeng    JAWA TIMUR   SURABAYA   \n",
       "213  85523eda-380a-4e69-9f55-135ff7964520      Ikan    JAWA BARAT    BANDUNG   \n",
       "211  e87c72a4-168c-416e-b2a0-7f3b9f5f8986     Gabus    JAWA BARAT    CIREBON   \n",
       "210  ad468ea4-6e12-4d7a-ae5b-c04de70c8ba8     Test1          ACEH  ACEH KOTA   \n",
       "..                                    ...       ...           ...        ...   \n",
       "29     kotlin.random.XorWowRandom@64a9d2f     Gabus          BALI   BULELENG   \n",
       "27     kotlin.random.XorWowRandom@812983c     Gabus          BALI   BULELENG   \n",
       "26   fdce108e-70f6-4ae3-b1ce-4445484c5f8d      Lele    JAWA BARAT    CIREBON   \n",
       "24   ee264a90-906a-466b-a7e2-333b7eee755d     Gabus   JAWA TENGAH   PEMALANG   \n",
       "16   0c192840-7ee4-11ea-b3e1-e335da5df3hj    Cupang    JAWA BARAT     CIMAHI   \n",
       "\n",
       "    size   price                 tgl_parsed      timestamp  \n",
       "212   40  200000  2021-04-16T22:21:32+07:00  1618586492888  \n",
       "214   25   20000   2021-04-16T15:35:52.331Z  1618587352331  \n",
       "213   20   20000   2021-04-16T15:35:28.337Z  1618587328337  \n",
       "211   50   13500  2021-04-16T13:25:57+07:00  1618554357449  \n",
       "210   30      34  2021-04-16T11:36:41+07:00     1618547801  \n",
       "..   ...     ...                        ...            ...  \n",
       "29   140   25000   2020-06-08T10:46:21.374Z  1591587981374  \n",
       "27   130   20000   2020-06-08T10:45:53.965Z  1591587953965  \n",
       "26    50   50000   2020-06-08T10:45:53.965Z  1591587953965  \n",
       "24   180   20000   2020-06-07T16:41:26.328Z  1591522886328  \n",
       "16   101   20100  2020-06-01T00:00:00+07:00     1590944400  \n",
       "\n",
       "[120 rows x 8 columns]"
      ],
      "text/html": "<div>\n<style scoped>\n    .dataframe tbody tr th:only-of-type {\n        vertical-align: middle;\n    }\n\n    .dataframe tbody tr th {\n        vertical-align: top;\n    }\n\n    .dataframe thead th {\n        text-align: right;\n    }\n</style>\n<table border=\"1\" class=\"dataframe\">\n  <thead>\n    <tr style=\"text-align: right;\">\n      <th></th>\n      <th>uuid</th>\n      <th>komoditas</th>\n      <th>area_provinsi</th>\n      <th>area_kota</th>\n      <th>size</th>\n      <th>price</th>\n      <th>tgl_parsed</th>\n      <th>timestamp</th>\n    </tr>\n  </thead>\n  <tbody>\n    <tr>\n      <th>212</th>\n      <td>32719dd1-363c-4fcb-85a8-799ad002c345</td>\n      <td>Muhammad</td>\n      <td>DKI JAKARTA</td>\n      <td>KOTA TUA</td>\n      <td>40</td>\n      <td>200000</td>\n      <td>2021-04-16T22:21:32+07:00</td>\n      <td>1618586492888</td>\n    </tr>\n    <tr>\n      <th>214</th>\n      <td>7e289cd3-ec95-4961-91be-4abd8f8d7f90</td>\n      <td>Bandeng</td>\n      <td>JAWA TIMUR</td>\n      <td>SURABAYA</td>\n      <td>25</td>\n      <td>20000</td>\n      <td>2021-04-16T15:35:52.331Z</td>\n      <td>1618587352331</td>\n    </tr>\n    <tr>\n      <th>213</th>\n      <td>85523eda-380a-4e69-9f55-135ff7964520</td>\n      <td>Ikan</td>\n      <td>JAWA BARAT</td>\n      <td>BANDUNG</td>\n      <td>20</td>\n      <td>20000</td>\n      <td>2021-04-16T15:35:28.337Z</td>\n      <td>1618587328337</td>\n    </tr>\n    <tr>\n      <th>211</th>\n      <td>e87c72a4-168c-416e-b2a0-7f3b9f5f8986</td>\n      <td>Gabus</td>\n      <td>JAWA BARAT</td>\n      <td>CIREBON</td>\n      <td>50</td>\n      <td>13500</td>\n      <td>2021-04-16T13:25:57+07:00</td>\n      <td>1618554357449</td>\n    </tr>\n    <tr>\n      <th>210</th>\n      <td>ad468ea4-6e12-4d7a-ae5b-c04de70c8ba8</td>\n      <td>Test1</td>\n      <td>ACEH</td>\n      <td>ACEH KOTA</td>\n      <td>30</td>\n      <td>34</td>\n      <td>2021-04-16T11:36:41+07:00</td>\n      <td>1618547801</td>\n    </tr>\n    <tr>\n      <th>...</th>\n      <td>...</td>\n      <td>...</td>\n      <td>...</td>\n      <td>...</td>\n      <td>...</td>\n      <td>...</td>\n      <td>...</td>\n      <td>...</td>\n    </tr>\n    <tr>\n      <th>29</th>\n      <td>kotlin.random.XorWowRandom@64a9d2f</td>\n      <td>Gabus</td>\n      <td>BALI</td>\n      <td>BULELENG</td>\n      <td>140</td>\n      <td>25000</td>\n      <td>2020-06-08T10:46:21.374Z</td>\n      <td>1591587981374</td>\n    </tr>\n    <tr>\n      <th>27</th>\n      <td>kotlin.random.XorWowRandom@812983c</td>\n      <td>Gabus</td>\n      <td>BALI</td>\n      <td>BULELENG</td>\n      <td>130</td>\n      <td>20000</td>\n      <td>2020-06-08T10:45:53.965Z</td>\n      <td>1591587953965</td>\n    </tr>\n    <tr>\n      <th>26</th>\n      <td>fdce108e-70f6-4ae3-b1ce-4445484c5f8d</td>\n      <td>Lele</td>\n      <td>JAWA BARAT</td>\n      <td>CIREBON</td>\n      <td>50</td>\n      <td>50000</td>\n      <td>2020-06-08T10:45:53.965Z</td>\n      <td>1591587953965</td>\n    </tr>\n    <tr>\n      <th>24</th>\n      <td>ee264a90-906a-466b-a7e2-333b7eee755d</td>\n      <td>Gabus</td>\n      <td>JAWA TENGAH</td>\n      <td>PEMALANG</td>\n      <td>180</td>\n      <td>20000</td>\n      <td>2020-06-07T16:41:26.328Z</td>\n      <td>1591522886328</td>\n    </tr>\n    <tr>\n      <th>16</th>\n      <td>0c192840-7ee4-11ea-b3e1-e335da5df3hj</td>\n      <td>Cupang</td>\n      <td>JAWA BARAT</td>\n      <td>CIMAHI</td>\n      <td>101</td>\n      <td>20100</td>\n      <td>2020-06-01T00:00:00+07:00</td>\n      <td>1590944400</td>\n    </tr>\n  </tbody>\n</table>\n<p>120 rows × 8 columns</p>\n</div>"
     },
     "metadata": {},
     "execution_count": 12
    }
   ],
   "source": [
    "# short by date\n",
    "fish_data1.sort_values(\"tgl_parsed\", ascending=False)"
   ]
  },
  {
   "cell_type": "code",
   "execution_count": 13,
   "metadata": {},
   "outputs": [],
   "source": [
    "# import datetime\n",
    "import datetime\n",
    "\n",
    "# get date from tgl_parsed\n",
    "date_iso = fish_data1.tgl_parsed"
   ]
  },
  {
   "cell_type": "code",
   "execution_count": 14,
   "metadata": {},
   "outputs": [],
   "source": [
    "date_iso = pd.to_datetime(date_iso, utc=True)"
   ]
  },
  {
   "cell_type": "code",
   "execution_count": 15,
   "metadata": {},
   "outputs": [
    {
     "output_type": "stream",
     "name": "stdout",
     "text": [
      "16           2020-05-31 17:00:00+00:00\n19           2021-04-14 06:04:55+00:00\n24    2020-06-07 16:41:26.328000+00:00\n26    2020-06-08 10:45:53.965000+00:00\n27    2020-06-08 10:45:53.965000+00:00\n                    ...               \n210          2021-04-16 04:36:41+00:00\n211          2021-04-16 06:25:57+00:00\n212          2021-04-16 15:21:32+00:00\n213   2021-04-16 15:35:28.337000+00:00\n214   2021-04-16 15:35:52.331000+00:00\nName: tgl_parsed, Length: 120, dtype: datetime64[ns, UTC]\n"
     ]
    }
   ],
   "source": [
    "print(date_iso)"
   ]
  },
  {
   "cell_type": "code",
   "execution_count": 16,
   "metadata": {},
   "outputs": [],
   "source": [
    "# convert global date into iso weekdays\n",
    "date_iso = pd.to_datetime(date_iso).dt.strftime('%Y-%V')\n"
   ]
  },
  {
   "cell_type": "code",
   "execution_count": 17,
   "metadata": {},
   "outputs": [
    {
     "output_type": "stream",
     "name": "stdout",
     "text": [
      "16     2020-22\n19     2021-15\n24     2020-23\n26     2020-24\n27     2020-24\n        ...   \n210    2021-15\n211    2021-15\n212    2021-15\n213    2021-15\n214    2021-15\nName: tgl_parsed, Length: 120, dtype: object\n"
     ]
    }
   ],
   "source": [
    "print(date_iso)"
   ]
  },
  {
   "cell_type": "code",
   "execution_count": 18,
   "metadata": {},
   "outputs": [],
   "source": [
    "# insert date into original dateframe\n",
    "fish_data1.describe()\n",
    "\n",
    "df = pd.DataFrame(fish_data1[[\"komoditas\", \"price\"]])"
   ]
  },
  {
   "cell_type": "code",
   "execution_count": 19,
   "metadata": {},
   "outputs": [
    {
     "output_type": "execute_result",
     "data": {
      "text/plain": [
       "   komoditas  price\n",
       "16    Cupang  20100\n",
       "19    Arwana  20000\n",
       "24     Gabus  20000\n",
       "26      Lele  50000\n",
       "27     Gabus  20000"
      ],
      "text/html": "<div>\n<style scoped>\n    .dataframe tbody tr th:only-of-type {\n        vertical-align: middle;\n    }\n\n    .dataframe tbody tr th {\n        vertical-align: top;\n    }\n\n    .dataframe thead th {\n        text-align: right;\n    }\n</style>\n<table border=\"1\" class=\"dataframe\">\n  <thead>\n    <tr style=\"text-align: right;\">\n      <th></th>\n      <th>komoditas</th>\n      <th>price</th>\n    </tr>\n  </thead>\n  <tbody>\n    <tr>\n      <th>16</th>\n      <td>Cupang</td>\n      <td>20100</td>\n    </tr>\n    <tr>\n      <th>19</th>\n      <td>Arwana</td>\n      <td>20000</td>\n    </tr>\n    <tr>\n      <th>24</th>\n      <td>Gabus</td>\n      <td>20000</td>\n    </tr>\n    <tr>\n      <th>26</th>\n      <td>Lele</td>\n      <td>50000</td>\n    </tr>\n    <tr>\n      <th>27</th>\n      <td>Gabus</td>\n      <td>20000</td>\n    </tr>\n  </tbody>\n</table>\n</div>"
     },
     "metadata": {},
     "execution_count": 19
    }
   ],
   "source": [
    "df.head()"
   ]
  },
  {
   "cell_type": "code",
   "execution_count": 20,
   "metadata": {},
   "outputs": [],
   "source": [
    "df['week'] = date_iso"
   ]
  },
  {
   "cell_type": "code",
   "execution_count": 21,
   "metadata": {},
   "outputs": [
    {
     "output_type": "execute_result",
     "data": {
      "text/plain": [
       "    komoditas   price     week\n",
       "16     Cupang   20100  2020-22\n",
       "19     Arwana   20000  2021-15\n",
       "24      Gabus   20000  2020-23\n",
       "26       Lele   50000  2020-24\n",
       "27      Gabus   20000  2020-24\n",
       "..        ...     ...      ...\n",
       "210     Test1      34  2021-15\n",
       "211     Gabus   13500  2021-15\n",
       "212  Muhammad  200000  2021-15\n",
       "213      Ikan   20000  2021-15\n",
       "214   Bandeng   20000  2021-15\n",
       "\n",
       "[120 rows x 3 columns]"
      ],
      "text/html": "<div>\n<style scoped>\n    .dataframe tbody tr th:only-of-type {\n        vertical-align: middle;\n    }\n\n    .dataframe tbody tr th {\n        vertical-align: top;\n    }\n\n    .dataframe thead th {\n        text-align: right;\n    }\n</style>\n<table border=\"1\" class=\"dataframe\">\n  <thead>\n    <tr style=\"text-align: right;\">\n      <th></th>\n      <th>komoditas</th>\n      <th>price</th>\n      <th>week</th>\n    </tr>\n  </thead>\n  <tbody>\n    <tr>\n      <th>16</th>\n      <td>Cupang</td>\n      <td>20100</td>\n      <td>2020-22</td>\n    </tr>\n    <tr>\n      <th>19</th>\n      <td>Arwana</td>\n      <td>20000</td>\n      <td>2021-15</td>\n    </tr>\n    <tr>\n      <th>24</th>\n      <td>Gabus</td>\n      <td>20000</td>\n      <td>2020-23</td>\n    </tr>\n    <tr>\n      <th>26</th>\n      <td>Lele</td>\n      <td>50000</td>\n      <td>2020-24</td>\n    </tr>\n    <tr>\n      <th>27</th>\n      <td>Gabus</td>\n      <td>20000</td>\n      <td>2020-24</td>\n    </tr>\n    <tr>\n      <th>...</th>\n      <td>...</td>\n      <td>...</td>\n      <td>...</td>\n    </tr>\n    <tr>\n      <th>210</th>\n      <td>Test1</td>\n      <td>34</td>\n      <td>2021-15</td>\n    </tr>\n    <tr>\n      <th>211</th>\n      <td>Gabus</td>\n      <td>13500</td>\n      <td>2021-15</td>\n    </tr>\n    <tr>\n      <th>212</th>\n      <td>Muhammad</td>\n      <td>200000</td>\n      <td>2021-15</td>\n    </tr>\n    <tr>\n      <th>213</th>\n      <td>Ikan</td>\n      <td>20000</td>\n      <td>2021-15</td>\n    </tr>\n    <tr>\n      <th>214</th>\n      <td>Bandeng</td>\n      <td>20000</td>\n      <td>2021-15</td>\n    </tr>\n  </tbody>\n</table>\n<p>120 rows × 3 columns</p>\n</div>"
     },
     "metadata": {},
     "execution_count": 21
    }
   ],
   "source": [
    "df"
   ]
  },
  {
   "cell_type": "code",
   "execution_count": 22,
   "metadata": {},
   "outputs": [
    {
     "output_type": "execute_result",
     "data": {
      "text/plain": [
       "komoditas    object\n",
       "price        object\n",
       "week         object\n",
       "dtype: object"
      ]
     },
     "metadata": {},
     "execution_count": 22
    }
   ],
   "source": [
    "df.dtypes"
   ]
  },
  {
   "cell_type": "code",
   "execution_count": 23,
   "metadata": {},
   "outputs": [
    {
     "output_type": "stream",
     "name": "stdout",
     "text": [
      "<class 'pandas.core.frame.DataFrame'>\nInt64Index: 120 entries, 16 to 214\nData columns (total 3 columns):\n #   Column     Non-Null Count  Dtype \n---  ------     --------------  ----- \n 0   komoditas  120 non-null    object\n 1   price      120 non-null    object\n 2   week       120 non-null    object\ndtypes: object(3)\nmemory usage: 3.8+ KB\n"
     ]
    }
   ],
   "source": [
    "df.info()"
   ]
  },
  {
   "cell_type": "code",
   "execution_count": 24,
   "metadata": {},
   "outputs": [],
   "source": [
    "#convert price into numberic\n",
    "df[\"price\"] = pd.to_numeric(df.price, errors='coerce')"
   ]
  },
  {
   "cell_type": "code",
   "execution_count": 25,
   "metadata": {},
   "outputs": [
    {
     "output_type": "execute_result",
     "data": {
      "text/plain": [
       "    komoditas     price     week\n",
       "16     Cupang   20100.0  2020-22\n",
       "19     Arwana   20000.0  2021-15\n",
       "24      Gabus   20000.0  2020-23\n",
       "26       Lele   50000.0  2020-24\n",
       "27      Gabus   20000.0  2020-24\n",
       "..        ...       ...      ...\n",
       "210     Test1      34.0  2021-15\n",
       "211     Gabus   13500.0  2021-15\n",
       "212  Muhammad  200000.0  2021-15\n",
       "213      Ikan   20000.0  2021-15\n",
       "214   Bandeng   20000.0  2021-15\n",
       "\n",
       "[120 rows x 3 columns]"
      ],
      "text/html": "<div>\n<style scoped>\n    .dataframe tbody tr th:only-of-type {\n        vertical-align: middle;\n    }\n\n    .dataframe tbody tr th {\n        vertical-align: top;\n    }\n\n    .dataframe thead th {\n        text-align: right;\n    }\n</style>\n<table border=\"1\" class=\"dataframe\">\n  <thead>\n    <tr style=\"text-align: right;\">\n      <th></th>\n      <th>komoditas</th>\n      <th>price</th>\n      <th>week</th>\n    </tr>\n  </thead>\n  <tbody>\n    <tr>\n      <th>16</th>\n      <td>Cupang</td>\n      <td>20100.0</td>\n      <td>2020-22</td>\n    </tr>\n    <tr>\n      <th>19</th>\n      <td>Arwana</td>\n      <td>20000.0</td>\n      <td>2021-15</td>\n    </tr>\n    <tr>\n      <th>24</th>\n      <td>Gabus</td>\n      <td>20000.0</td>\n      <td>2020-23</td>\n    </tr>\n    <tr>\n      <th>26</th>\n      <td>Lele</td>\n      <td>50000.0</td>\n      <td>2020-24</td>\n    </tr>\n    <tr>\n      <th>27</th>\n      <td>Gabus</td>\n      <td>20000.0</td>\n      <td>2020-24</td>\n    </tr>\n    <tr>\n      <th>...</th>\n      <td>...</td>\n      <td>...</td>\n      <td>...</td>\n    </tr>\n    <tr>\n      <th>210</th>\n      <td>Test1</td>\n      <td>34.0</td>\n      <td>2021-15</td>\n    </tr>\n    <tr>\n      <th>211</th>\n      <td>Gabus</td>\n      <td>13500.0</td>\n      <td>2021-15</td>\n    </tr>\n    <tr>\n      <th>212</th>\n      <td>Muhammad</td>\n      <td>200000.0</td>\n      <td>2021-15</td>\n    </tr>\n    <tr>\n      <th>213</th>\n      <td>Ikan</td>\n      <td>20000.0</td>\n      <td>2021-15</td>\n    </tr>\n    <tr>\n      <th>214</th>\n      <td>Bandeng</td>\n      <td>20000.0</td>\n      <td>2021-15</td>\n    </tr>\n  </tbody>\n</table>\n<p>120 rows × 3 columns</p>\n</div>"
     },
     "metadata": {},
     "execution_count": 25
    }
   ],
   "source": [
    "df"
   ]
  },
  {
   "cell_type": "code",
   "execution_count": 26,
   "metadata": {},
   "outputs": [
    {
     "output_type": "stream",
     "name": "stdout",
     "text": [
      "<class 'pandas.core.frame.DataFrame'>\nInt64Index: 120 entries, 16 to 214\nData columns (total 3 columns):\n #   Column     Non-Null Count  Dtype  \n---  ------     --------------  -----  \n 0   komoditas  120 non-null    object \n 1   price      118 non-null    float64\n 2   week       120 non-null    object \ndtypes: float64(1), object(2)\nmemory usage: 3.8+ KB\n"
     ]
    }
   ],
   "source": [
    "df.info()"
   ]
  },
  {
   "cell_type": "code",
   "execution_count": 27,
   "metadata": {},
   "outputs": [],
   "source": [
    "grouped = df.groupby([\"komoditas\"])"
   ]
  },
  {
   "cell_type": "code",
   "execution_count": 28,
   "metadata": {},
   "outputs": [],
   "source": [
    "df4 = grouped.aggregate(np.sum)"
   ]
  },
  {
   "cell_type": "code",
   "execution_count": 29,
   "metadata": {},
   "outputs": [
    {
     "output_type": "execute_result",
     "data": {
      "text/plain": [
       "                     price\n",
       "komoditas                 \n",
       "Arwana             20000.0\n",
       "Asin                5000.0\n",
       "Bandeng           800000.0\n",
       "Bandeng Gundala   200000.0\n",
       "Bandeng Keren     100000.0\n",
       "...                    ...\n",
       "Udang Vannamee     50000.0\n",
       "Udang Vannamei   2364089.0\n",
       "Udang Windu        20000.0\n",
       "ao                    22.0\n",
       "asdf                   0.0\n",
       "\n",
       "[62 rows x 1 columns]"
      ],
      "text/html": "<div>\n<style scoped>\n    .dataframe tbody tr th:only-of-type {\n        vertical-align: middle;\n    }\n\n    .dataframe tbody tr th {\n        vertical-align: top;\n    }\n\n    .dataframe thead th {\n        text-align: right;\n    }\n</style>\n<table border=\"1\" class=\"dataframe\">\n  <thead>\n    <tr style=\"text-align: right;\">\n      <th></th>\n      <th>price</th>\n    </tr>\n    <tr>\n      <th>komoditas</th>\n      <th></th>\n    </tr>\n  </thead>\n  <tbody>\n    <tr>\n      <th>Arwana</th>\n      <td>20000.0</td>\n    </tr>\n    <tr>\n      <th>Asin</th>\n      <td>5000.0</td>\n    </tr>\n    <tr>\n      <th>Bandeng</th>\n      <td>800000.0</td>\n    </tr>\n    <tr>\n      <th>Bandeng Gundala</th>\n      <td>200000.0</td>\n    </tr>\n    <tr>\n      <th>Bandeng Keren</th>\n      <td>100000.0</td>\n    </tr>\n    <tr>\n      <th>...</th>\n      <td>...</td>\n    </tr>\n    <tr>\n      <th>Udang Vannamee</th>\n      <td>50000.0</td>\n    </tr>\n    <tr>\n      <th>Udang Vannamei</th>\n      <td>2364089.0</td>\n    </tr>\n    <tr>\n      <th>Udang Windu</th>\n      <td>20000.0</td>\n    </tr>\n    <tr>\n      <th>ao</th>\n      <td>22.0</td>\n    </tr>\n    <tr>\n      <th>asdf</th>\n      <td>0.0</td>\n    </tr>\n  </tbody>\n</table>\n<p>62 rows × 1 columns</p>\n</div>"
     },
     "metadata": {},
     "execution_count": 29
    }
   ],
   "source": [
    "df4"
   ]
  },
  {
   "cell_type": "code",
   "execution_count": 30,
   "metadata": {},
   "outputs": [
    {
     "output_type": "execute_result",
     "data": {
      "text/plain": [
       "pandas.core.frame.DataFrame"
      ]
     },
     "metadata": {},
     "execution_count": 30
    }
   ],
   "source": [
    "type(df4)"
   ]
  },
  {
   "cell_type": "code",
   "execution_count": 31,
   "metadata": {},
   "outputs": [
    {
     "output_type": "execute_result",
     "data": {
      "text/plain": [
       "                     price\n",
       "komoditas                 \n",
       "Arwana             20000.0\n",
       "Asin                5000.0\n",
       "Bandeng           800000.0\n",
       "Bandeng Gundala   200000.0\n",
       "Bandeng Keren     100000.0\n",
       "...                    ...\n",
       "Udang Vannamee     50000.0\n",
       "Udang Vannamei   2364089.0\n",
       "Udang Windu        20000.0\n",
       "ao                    22.0\n",
       "asdf                   0.0\n",
       "\n",
       "[62 rows x 1 columns]"
      ],
      "text/html": "<div>\n<style scoped>\n    .dataframe tbody tr th:only-of-type {\n        vertical-align: middle;\n    }\n\n    .dataframe tbody tr th {\n        vertical-align: top;\n    }\n\n    .dataframe thead th {\n        text-align: right;\n    }\n</style>\n<table border=\"1\" class=\"dataframe\">\n  <thead>\n    <tr style=\"text-align: right;\">\n      <th></th>\n      <th>price</th>\n    </tr>\n    <tr>\n      <th>komoditas</th>\n      <th></th>\n    </tr>\n  </thead>\n  <tbody>\n    <tr>\n      <th>Arwana</th>\n      <td>20000.0</td>\n    </tr>\n    <tr>\n      <th>Asin</th>\n      <td>5000.0</td>\n    </tr>\n    <tr>\n      <th>Bandeng</th>\n      <td>800000.0</td>\n    </tr>\n    <tr>\n      <th>Bandeng Gundala</th>\n      <td>200000.0</td>\n    </tr>\n    <tr>\n      <th>Bandeng Keren</th>\n      <td>100000.0</td>\n    </tr>\n    <tr>\n      <th>...</th>\n      <td>...</td>\n    </tr>\n    <tr>\n      <th>Udang Vannamee</th>\n      <td>50000.0</td>\n    </tr>\n    <tr>\n      <th>Udang Vannamei</th>\n      <td>2364089.0</td>\n    </tr>\n    <tr>\n      <th>Udang Windu</th>\n      <td>20000.0</td>\n    </tr>\n    <tr>\n      <th>ao</th>\n      <td>22.0</td>\n    </tr>\n    <tr>\n      <th>asdf</th>\n      <td>0.0</td>\n    </tr>\n  </tbody>\n</table>\n<p>62 rows × 1 columns</p>\n</div>"
     },
     "metadata": {},
     "execution_count": 31
    }
   ],
   "source": [
    "grouped.aggregate(np.sum)"
   ]
  },
  {
   "cell_type": "code",
   "execution_count": 32,
   "metadata": {},
   "outputs": [],
   "source": [
    "import missingno as msno\n",
    "import matplotlib.pyplot as plt"
   ]
  },
  {
   "cell_type": "code",
   "execution_count": null,
   "metadata": {},
   "outputs": [],
   "source": []
  }
 ]
}