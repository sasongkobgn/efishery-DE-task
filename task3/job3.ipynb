{
 "metadata": {
  "language_info": {
   "codemirror_mode": {
    "name": "ipython",
    "version": 3
   },
   "file_extension": ".py",
   "mimetype": "text/x-python",
   "name": "python",
   "nbconvert_exporter": "python",
   "pygments_lexer": "ipython3",
   "version": "3.8.5"
  },
  "orig_nbformat": 2,
  "kernelspec": {
   "name": "python385jvsc74a57bd0a90308b81cfff866ed9d307b18741afebc1b293002c7a70c3e1001eb2056af19",
   "display_name": "Python 3.8.5 64-bit ('base': conda)"
  }
 },
 "nbformat": 4,
 "nbformat_minor": 2,
 "cells": [
  {
   "source": [
    "### 3. TASK 3\n",
    "\n",
    "Anda diberikan URL API (https://stein.efishery.com/v1/storages/5e1edf521073e315924ceab4/list). Buatlah\n",
    "sebuah program sederhana yang mampu menghasilkan:\n",
    "\n",
    "    1. File CSV dengan isi agregasi datanya: Week | Komoditas | Average Price | Min Price | Max Price\n",
    "\n",
    "    2. Week dalam format ISO Week Date\n",
    "\n",
    "    3. Komoditas di-cleansing dengan enum yang sama, nilai null dibuang\n",
    "\n",
    "    4. README.md dengan cara setup dan running program tersebut.\n",
    "\n",
    "    5. History commit yang iteratif dan sesuai syntax\n",
    "`http://karma-runner.github.io/4.0/dev/git-commit-msg.html`\n",
    "\n",
    "    6. Boleh gunakan asumsi pribadi selama bisa memberikan reasoning yang common\n",
    "sense. (cantumkan pada README.md)\n"
   ],
   "cell_type": "markdown",
   "metadata": {}
  },
  {
   "cell_type": "code",
   "execution_count": 1,
   "metadata": {},
   "outputs": [],
   "source": [
    "# import library\n",
    "import requests\n",
    "import pandas as pd\n",
    "import numpy as np"
   ]
  },
  {
   "cell_type": "code",
   "execution_count": 2,
   "metadata": {},
   "outputs": [],
   "source": [
    "api_url = \"https://stein.efishery.com/v1/storages/5e1edf521073e315924ceab4/list\"\n",
    "\n",
    "# Get data about NYC cafes from the Yelp API\n",
    "response = requests.get(api_url)\n",
    "\n",
    "# Extract JSON data from the response\n",
    "data = response.json()"
   ]
  },
  {
   "cell_type": "code",
   "execution_count": 3,
   "metadata": {},
   "outputs": [
    {
     "output_type": "stream",
     "name": "stdout",
     "text": [
      "uuid             object\nkomoditas        object\narea_provinsi    object\narea_kota        object\nsize             object\nprice            object\ntgl_parsed       object\ntimestamp        object\ndtype: object\n"
     ]
    }
   ],
   "source": [
    "# Load data to a data frame\n",
    "fish_data = pd.DataFrame(data)\n",
    "\n",
    "# View the data's dtypes\n",
    "print(fish_data.dtypes)"
   ]
  },
  {
   "cell_type": "code",
   "execution_count": 4,
   "metadata": {},
   "outputs": [
    {
     "output_type": "stream",
     "name": "stdout",
     "text": [
      "   uuid komoditas area_provinsi area_kota  size price tgl_parsed timestamp\n0  None      None          None      None  None  None       None      None\n1  None      None          None      None  None  None       None      None\n2  None      None          None      None  None  None       None      None\n3  None      None          None      None  None  None       None      None\n4  None      None          None      None  None  None       None      None\n"
     ]
    }
   ],
   "source": [
    "# Load json_normalize()\n",
    "from pandas.io.json import json_normalize\n",
    "\n",
    "# Isolate the JSON data from the API response\n",
    "data = response.json()\n",
    "\n",
    "# Flatten fish data into a data frame, replace separator\n",
    "fish_data =  pd.json_normalize(data,\n",
    "             sep = '_')\n",
    "\n",
    "# View data\n",
    "print(fish_data.head())"
   ]
  },
  {
   "cell_type": "code",
   "execution_count": 5,
   "metadata": {},
   "outputs": [
    {
     "output_type": "stream",
     "name": "stdout",
     "text": [
      "<class 'pandas.core.frame.DataFrame'>\nRangeIndex: 225 entries, 0 to 224\nData columns (total 8 columns):\n #   Column         Non-Null Count  Dtype \n---  ------         --------------  ----- \n 0   uuid           135 non-null    object\n 1   komoditas      146 non-null    object\n 2   area_provinsi  148 non-null    object\n 3   area_kota      147 non-null    object\n 4   size           149 non-null    object\n 5   price          147 non-null    object\n 6   tgl_parsed     132 non-null    object\n 7   timestamp      131 non-null    object\ndtypes: object(8)\nmemory usage: 14.2+ KB\n"
     ]
    }
   ],
   "source": [
    "fish_data.info()"
   ]
  },
  {
   "cell_type": "code",
   "execution_count": 6,
   "metadata": {},
   "outputs": [
    {
     "output_type": "execute_result",
     "data": {
      "text/plain": [
       "<bound method NDFrame.describe of                                      uuid              komoditas  \\\n",
       "0                                    None                   None   \n",
       "1                                    None                   None   \n",
       "2                                    None                   None   \n",
       "3                                    None                   None   \n",
       "4                                    None                   None   \n",
       "..                                    ...                    ...   \n",
       "220  16a16ca5-346c-435d-b1b9-2ddc87a96389                  Gabus   \n",
       "221  f0cf9b10-b5ab-4494-a2da-a777a112ffd8                Bandeng   \n",
       "222  248beff6-1ee1-42cb-b47c-fb1375c85dd9         Ikan sapu sapu   \n",
       "223  2e2a9a85-fd72-4232-96ca-9c4911aa0228  Ikan sapu sapu super    \n",
       "224  fc4b222e-901c-4a1c-aa8e-d356222e083a        Cupang Super 22   \n",
       "\n",
       "    area_provinsi  area_kota  size    price                 tgl_parsed  \\\n",
       "0            None       None  None     None                       None   \n",
       "1            None       None  None     None                       None   \n",
       "2            None       None  None     None                       None   \n",
       "3            None       None  None     None                       None   \n",
       "4            None       None  None     None                       None   \n",
       "..            ...        ...   ...      ...                        ...   \n",
       "220   JAWA TENGAH  PURWOREJO    50    12342  2021-04-20T17:04:13+07:00   \n",
       "221          BALI   BULELENG    50    60000  2021-04-20T17:05:55+07:00   \n",
       "222    Jawa Timur   Surabaya    20    30000   2021-04-21T03:00:29.000Z   \n",
       "223    Jawa Timur   Surabaya   100  2000000   2021-04-21T03:01:08.000Z   \n",
       "224    Jawa Timur   Surabaya  3000   200000   2021-04-21T06:09:30.000Z   \n",
       "\n",
       "         timestamp  \n",
       "0             None  \n",
       "1             None  \n",
       "2             None  \n",
       "3             None  \n",
       "4             None  \n",
       "..             ...  \n",
       "220     1618913053  \n",
       "221  1618913155951  \n",
       "222     1618974029  \n",
       "223     1618974068  \n",
       "224     1618985370  \n",
       "\n",
       "[225 rows x 8 columns]>"
      ]
     },
     "metadata": {},
     "execution_count": 6
    }
   ],
   "source": [
    "fish_data.describe"
   ]
  },
  {
   "cell_type": "code",
   "execution_count": 7,
   "metadata": {},
   "outputs": [
    {
     "output_type": "execute_result",
     "data": {
      "text/plain": [
       "<bound method NDFrame.describe of                                      uuid              komoditas  \\\n",
       "16   0c192840-7ee4-11ea-b3e1-e335da5df3hj           Cupang leher   \n",
       "19   06d33985-cc46-4829-bc46-ca81efd3d936                 Arwana   \n",
       "24   ee264a90-906a-466b-a7e2-333b7eee755d                  Gabus   \n",
       "26   fdce108e-70f6-4ae3-b1ce-4445484c5f8d                   Lele   \n",
       "27     kotlin.random.XorWowRandom@812983c                  Gabus   \n",
       "..                                    ...                    ...   \n",
       "220  16a16ca5-346c-435d-b1b9-2ddc87a96389                  Gabus   \n",
       "221  f0cf9b10-b5ab-4494-a2da-a777a112ffd8                Bandeng   \n",
       "222  248beff6-1ee1-42cb-b47c-fb1375c85dd9         Ikan sapu sapu   \n",
       "223  2e2a9a85-fd72-4232-96ca-9c4911aa0228  Ikan sapu sapu super    \n",
       "224  fc4b222e-901c-4a1c-aa8e-d356222e083a        Cupang Super 22   \n",
       "\n",
       "    area_provinsi   area_kota  size    price                 tgl_parsed  \\\n",
       "16     JAWA BARAT      CIMAHI   101    20100  2021-04-20T16:19:37+07:00   \n",
       "19         BANTEN  PANDEGLANG    40    20000  2021-04-14T13:04:55+07:00   \n",
       "24    JAWA TENGAH    PEMALANG   180    20000   2020-06-07T16:41:26.328Z   \n",
       "26     JAWA BARAT     CIREBON    50    50000   2020-06-08T10:45:53.965Z   \n",
       "27           BALI    BULELENG   130    20000   2020-06-08T10:45:53.965Z   \n",
       "..            ...         ...   ...      ...                        ...   \n",
       "220   JAWA TENGAH   PURWOREJO    50    12342  2021-04-20T17:04:13+07:00   \n",
       "221          BALI    BULELENG    50    60000  2021-04-20T17:05:55+07:00   \n",
       "222    Jawa Timur    Surabaya    20    30000   2021-04-21T03:00:29.000Z   \n",
       "223    Jawa Timur    Surabaya   100  2000000   2021-04-21T03:01:08.000Z   \n",
       "224    Jawa Timur    Surabaya  3000   200000   2021-04-21T06:09:30.000Z   \n",
       "\n",
       "         timestamp  \n",
       "16      1618910377  \n",
       "19      1618380295  \n",
       "24   1591522886328  \n",
       "26   1591587953965  \n",
       "27   1591587953965  \n",
       "..             ...  \n",
       "220     1618913053  \n",
       "221  1618913155951  \n",
       "222     1618974029  \n",
       "223     1618974068  \n",
       "224     1618985370  \n",
       "\n",
       "[127 rows x 8 columns]>"
      ]
     },
     "metadata": {},
     "execution_count": 7
    }
   ],
   "source": [
    "fish_data1 = fish_data.dropna()\n",
    "fish_data1.describe"
   ]
  },
  {
   "cell_type": "code",
   "execution_count": 8,
   "metadata": {},
   "outputs": [
    {
     "output_type": "execute_result",
     "data": {
      "text/plain": [
       "                                    uuid     komoditas area_provinsi  \\\n",
       "16  0c192840-7ee4-11ea-b3e1-e335da5df3hj  Cupang leher    JAWA BARAT   \n",
       "19  06d33985-cc46-4829-bc46-ca81efd3d936        Arwana        BANTEN   \n",
       "24  ee264a90-906a-466b-a7e2-333b7eee755d         Gabus   JAWA TENGAH   \n",
       "26  fdce108e-70f6-4ae3-b1ce-4445484c5f8d          Lele    JAWA BARAT   \n",
       "27    kotlin.random.XorWowRandom@812983c         Gabus          BALI   \n",
       "\n",
       "     area_kota size  price                 tgl_parsed      timestamp  \n",
       "16      CIMAHI  101  20100  2021-04-20T16:19:37+07:00     1618910377  \n",
       "19  PANDEGLANG   40  20000  2021-04-14T13:04:55+07:00     1618380295  \n",
       "24    PEMALANG  180  20000   2020-06-07T16:41:26.328Z  1591522886328  \n",
       "26     CIREBON   50  50000   2020-06-08T10:45:53.965Z  1591587953965  \n",
       "27    BULELENG  130  20000   2020-06-08T10:45:53.965Z  1591587953965  "
      ],
      "text/html": "<div>\n<style scoped>\n    .dataframe tbody tr th:only-of-type {\n        vertical-align: middle;\n    }\n\n    .dataframe tbody tr th {\n        vertical-align: top;\n    }\n\n    .dataframe thead th {\n        text-align: right;\n    }\n</style>\n<table border=\"1\" class=\"dataframe\">\n  <thead>\n    <tr style=\"text-align: right;\">\n      <th></th>\n      <th>uuid</th>\n      <th>komoditas</th>\n      <th>area_provinsi</th>\n      <th>area_kota</th>\n      <th>size</th>\n      <th>price</th>\n      <th>tgl_parsed</th>\n      <th>timestamp</th>\n    </tr>\n  </thead>\n  <tbody>\n    <tr>\n      <th>16</th>\n      <td>0c192840-7ee4-11ea-b3e1-e335da5df3hj</td>\n      <td>Cupang leher</td>\n      <td>JAWA BARAT</td>\n      <td>CIMAHI</td>\n      <td>101</td>\n      <td>20100</td>\n      <td>2021-04-20T16:19:37+07:00</td>\n      <td>1618910377</td>\n    </tr>\n    <tr>\n      <th>19</th>\n      <td>06d33985-cc46-4829-bc46-ca81efd3d936</td>\n      <td>Arwana</td>\n      <td>BANTEN</td>\n      <td>PANDEGLANG</td>\n      <td>40</td>\n      <td>20000</td>\n      <td>2021-04-14T13:04:55+07:00</td>\n      <td>1618380295</td>\n    </tr>\n    <tr>\n      <th>24</th>\n      <td>ee264a90-906a-466b-a7e2-333b7eee755d</td>\n      <td>Gabus</td>\n      <td>JAWA TENGAH</td>\n      <td>PEMALANG</td>\n      <td>180</td>\n      <td>20000</td>\n      <td>2020-06-07T16:41:26.328Z</td>\n      <td>1591522886328</td>\n    </tr>\n    <tr>\n      <th>26</th>\n      <td>fdce108e-70f6-4ae3-b1ce-4445484c5f8d</td>\n      <td>Lele</td>\n      <td>JAWA BARAT</td>\n      <td>CIREBON</td>\n      <td>50</td>\n      <td>50000</td>\n      <td>2020-06-08T10:45:53.965Z</td>\n      <td>1591587953965</td>\n    </tr>\n    <tr>\n      <th>27</th>\n      <td>kotlin.random.XorWowRandom@812983c</td>\n      <td>Gabus</td>\n      <td>BALI</td>\n      <td>BULELENG</td>\n      <td>130</td>\n      <td>20000</td>\n      <td>2020-06-08T10:45:53.965Z</td>\n      <td>1591587953965</td>\n    </tr>\n  </tbody>\n</table>\n</div>"
     },
     "metadata": {},
     "execution_count": 8
    }
   ],
   "source": [
    "fish_data1.head()"
   ]
  },
  {
   "source": [
    "Week | Komoditas | Average Price | Min Price | Max Price"
   ],
   "cell_type": "markdown",
   "metadata": {}
  },
  {
   "cell_type": "code",
   "execution_count": 9,
   "metadata": {},
   "outputs": [
    {
     "output_type": "stream",
     "name": "stdout",
     "text": [
      "<class 'pandas.core.frame.DataFrame'>\nInt64Index: 127 entries, 16 to 224\nData columns (total 8 columns):\n #   Column         Non-Null Count  Dtype \n---  ------         --------------  ----- \n 0   uuid           127 non-null    object\n 1   komoditas      127 non-null    object\n 2   area_provinsi  127 non-null    object\n 3   area_kota      127 non-null    object\n 4   size           127 non-null    object\n 5   price          127 non-null    object\n 6   tgl_parsed     127 non-null    object\n 7   timestamp      127 non-null    object\ndtypes: object(8)\nmemory usage: 8.9+ KB\n"
     ]
    }
   ],
   "source": [
    "fish_data1.info()"
   ]
  },
  {
   "cell_type": "code",
   "execution_count": 10,
   "metadata": {},
   "outputs": [
    {
     "output_type": "stream",
     "name": "stdout",
     "text": [
      "count       127\nunique       57\ntop       20000\nfreq         20\nName: price, dtype: object\n"
     ]
    }
   ],
   "source": [
    "# pritn max value of fish_data1\n",
    "print(fish_data1[\"price\"].describe())"
   ]
  },
  {
   "cell_type": "code",
   "execution_count": 11,
   "metadata": {},
   "outputs": [
    {
     "output_type": "execute_result",
     "data": {
      "text/plain": [
       "                                     uuid              komoditas  \\\n",
       "215  f9c36907-bd72-401a-8d03-899a38678291          ikan indosiar   \n",
       "224  fc4b222e-901c-4a1c-aa8e-d356222e083a        Cupang Super 22   \n",
       "223  2e2a9a85-fd72-4232-96ca-9c4911aa0228  Ikan sapu sapu super    \n",
       "222  248beff6-1ee1-42cb-b47c-fb1375c85dd9         Ikan sapu sapu   \n",
       "112  09ceedf4-4e6a-4f00-b88b-e59a4dbe7827    Belut listrik token   \n",
       "..                                    ...                    ...   \n",
       "30     kotlin.random.XorWowRandom@ea1ec3b                Bandeng   \n",
       "29     kotlin.random.XorWowRandom@64a9d2f                  Gabus   \n",
       "27     kotlin.random.XorWowRandom@812983c                  Gabus   \n",
       "26   fdce108e-70f6-4ae3-b1ce-4445484c5f8d                   Lele   \n",
       "24   ee264a90-906a-466b-a7e2-333b7eee755d                  Gabus   \n",
       "\n",
       "      area_provinsi     area_kota  size    price                 tgl_parsed  \\\n",
       "215            ACEH     ACEH KOTA    40   122222  2021-04-21T16:17:51+07:00   \n",
       "224      Jawa Timur      Surabaya  3000   200000   2021-04-21T06:09:30.000Z   \n",
       "223      Jawa Timur      Surabaya   100  2000000   2021-04-21T03:01:08.000Z   \n",
       "222      Jawa Timur      Surabaya    20    30000   2021-04-21T03:00:29.000Z   \n",
       "112  SULAWESI BARAT  MAMUJU UTARA    70   299000  2021-04-20T20:31:02+07:00   \n",
       "..              ...           ...   ...      ...                        ...   \n",
       "30   SULAWESI BARAT  MAMUJU UTARA   140    20000   2020-06-08T10:46:21.374Z   \n",
       "29             BALI      BULELENG   140    25000   2020-06-08T10:46:21.374Z   \n",
       "27             BALI      BULELENG   130    20000   2020-06-08T10:45:53.965Z   \n",
       "26       JAWA BARAT       CIREBON    50    50000   2020-06-08T10:45:53.965Z   \n",
       "24      JAWA TENGAH      PEMALANG   180    20000   2020-06-07T16:41:26.328Z   \n",
       "\n",
       "         timestamp  \n",
       "215     1618996671  \n",
       "224     1618985370  \n",
       "223     1618974068  \n",
       "222     1618974029  \n",
       "112     1618925462  \n",
       "..             ...  \n",
       "30   1591587981374  \n",
       "29   1591587981374  \n",
       "27   1591587953965  \n",
       "26   1591587953965  \n",
       "24   1591522886328  \n",
       "\n",
       "[127 rows x 8 columns]"
      ],
      "text/html": "<div>\n<style scoped>\n    .dataframe tbody tr th:only-of-type {\n        vertical-align: middle;\n    }\n\n    .dataframe tbody tr th {\n        vertical-align: top;\n    }\n\n    .dataframe thead th {\n        text-align: right;\n    }\n</style>\n<table border=\"1\" class=\"dataframe\">\n  <thead>\n    <tr style=\"text-align: right;\">\n      <th></th>\n      <th>uuid</th>\n      <th>komoditas</th>\n      <th>area_provinsi</th>\n      <th>area_kota</th>\n      <th>size</th>\n      <th>price</th>\n      <th>tgl_parsed</th>\n      <th>timestamp</th>\n    </tr>\n  </thead>\n  <tbody>\n    <tr>\n      <th>215</th>\n      <td>f9c36907-bd72-401a-8d03-899a38678291</td>\n      <td>ikan indosiar</td>\n      <td>ACEH</td>\n      <td>ACEH KOTA</td>\n      <td>40</td>\n      <td>122222</td>\n      <td>2021-04-21T16:17:51+07:00</td>\n      <td>1618996671</td>\n    </tr>\n    <tr>\n      <th>224</th>\n      <td>fc4b222e-901c-4a1c-aa8e-d356222e083a</td>\n      <td>Cupang Super 22</td>\n      <td>Jawa Timur</td>\n      <td>Surabaya</td>\n      <td>3000</td>\n      <td>200000</td>\n      <td>2021-04-21T06:09:30.000Z</td>\n      <td>1618985370</td>\n    </tr>\n    <tr>\n      <th>223</th>\n      <td>2e2a9a85-fd72-4232-96ca-9c4911aa0228</td>\n      <td>Ikan sapu sapu super</td>\n      <td>Jawa Timur</td>\n      <td>Surabaya</td>\n      <td>100</td>\n      <td>2000000</td>\n      <td>2021-04-21T03:01:08.000Z</td>\n      <td>1618974068</td>\n    </tr>\n    <tr>\n      <th>222</th>\n      <td>248beff6-1ee1-42cb-b47c-fb1375c85dd9</td>\n      <td>Ikan sapu sapu</td>\n      <td>Jawa Timur</td>\n      <td>Surabaya</td>\n      <td>20</td>\n      <td>30000</td>\n      <td>2021-04-21T03:00:29.000Z</td>\n      <td>1618974029</td>\n    </tr>\n    <tr>\n      <th>112</th>\n      <td>09ceedf4-4e6a-4f00-b88b-e59a4dbe7827</td>\n      <td>Belut listrik token</td>\n      <td>SULAWESI BARAT</td>\n      <td>MAMUJU UTARA</td>\n      <td>70</td>\n      <td>299000</td>\n      <td>2021-04-20T20:31:02+07:00</td>\n      <td>1618925462</td>\n    </tr>\n    <tr>\n      <th>...</th>\n      <td>...</td>\n      <td>...</td>\n      <td>...</td>\n      <td>...</td>\n      <td>...</td>\n      <td>...</td>\n      <td>...</td>\n      <td>...</td>\n    </tr>\n    <tr>\n      <th>30</th>\n      <td>kotlin.random.XorWowRandom@ea1ec3b</td>\n      <td>Bandeng</td>\n      <td>SULAWESI BARAT</td>\n      <td>MAMUJU UTARA</td>\n      <td>140</td>\n      <td>20000</td>\n      <td>2020-06-08T10:46:21.374Z</td>\n      <td>1591587981374</td>\n    </tr>\n    <tr>\n      <th>29</th>\n      <td>kotlin.random.XorWowRandom@64a9d2f</td>\n      <td>Gabus</td>\n      <td>BALI</td>\n      <td>BULELENG</td>\n      <td>140</td>\n      <td>25000</td>\n      <td>2020-06-08T10:46:21.374Z</td>\n      <td>1591587981374</td>\n    </tr>\n    <tr>\n      <th>27</th>\n      <td>kotlin.random.XorWowRandom@812983c</td>\n      <td>Gabus</td>\n      <td>BALI</td>\n      <td>BULELENG</td>\n      <td>130</td>\n      <td>20000</td>\n      <td>2020-06-08T10:45:53.965Z</td>\n      <td>1591587953965</td>\n    </tr>\n    <tr>\n      <th>26</th>\n      <td>fdce108e-70f6-4ae3-b1ce-4445484c5f8d</td>\n      <td>Lele</td>\n      <td>JAWA BARAT</td>\n      <td>CIREBON</td>\n      <td>50</td>\n      <td>50000</td>\n      <td>2020-06-08T10:45:53.965Z</td>\n      <td>1591587953965</td>\n    </tr>\n    <tr>\n      <th>24</th>\n      <td>ee264a90-906a-466b-a7e2-333b7eee755d</td>\n      <td>Gabus</td>\n      <td>JAWA TENGAH</td>\n      <td>PEMALANG</td>\n      <td>180</td>\n      <td>20000</td>\n      <td>2020-06-07T16:41:26.328Z</td>\n      <td>1591522886328</td>\n    </tr>\n  </tbody>\n</table>\n<p>127 rows × 8 columns</p>\n</div>"
     },
     "metadata": {},
     "execution_count": 11
    }
   ],
   "source": [
    "# short by date\n",
    "fish_data1.sort_values(\"tgl_parsed\", ascending=False)"
   ]
  },
  {
   "cell_type": "code",
   "execution_count": 12,
   "metadata": {},
   "outputs": [],
   "source": [
    "# import datetime\n",
    "import datetime\n",
    "\n",
    "# get date from tgl_parsed\n",
    "date_iso = fish_data1.tgl_parsed"
   ]
  },
  {
   "cell_type": "code",
   "execution_count": 13,
   "metadata": {},
   "outputs": [],
   "source": [
    "date_iso = pd.to_datetime(date_iso, utc=True)"
   ]
  },
  {
   "cell_type": "code",
   "execution_count": 14,
   "metadata": {},
   "outputs": [
    {
     "output_type": "stream",
     "name": "stdout",
     "text": [
      "16           2021-04-20 09:19:37+00:00\n19           2021-04-14 06:04:55+00:00\n24    2020-06-07 16:41:26.328000+00:00\n26    2020-06-08 10:45:53.965000+00:00\n27    2020-06-08 10:45:53.965000+00:00\n                    ...               \n220          2021-04-20 10:04:13+00:00\n221          2021-04-20 10:05:55+00:00\n222          2021-04-21 03:00:29+00:00\n223          2021-04-21 03:01:08+00:00\n224          2021-04-21 06:09:30+00:00\nName: tgl_parsed, Length: 127, dtype: datetime64[ns, UTC]\n"
     ]
    }
   ],
   "source": [
    "print(date_iso)"
   ]
  },
  {
   "cell_type": "code",
   "execution_count": 15,
   "metadata": {},
   "outputs": [],
   "source": [
    "# convert global date into iso weekdays\n",
    "date_iso = pd.to_datetime(date_iso).dt.strftime('%Y-%V')\n"
   ]
  },
  {
   "cell_type": "code",
   "execution_count": 16,
   "metadata": {},
   "outputs": [
    {
     "output_type": "stream",
     "name": "stdout",
     "text": [
      "16     2021-16\n19     2021-15\n24     2020-23\n26     2020-24\n27     2020-24\n        ...   \n220    2021-16\n221    2021-16\n222    2021-16\n223    2021-16\n224    2021-16\nName: tgl_parsed, Length: 127, dtype: object\n"
     ]
    }
   ],
   "source": [
    "print(date_iso)"
   ]
  },
  {
   "cell_type": "code",
   "execution_count": 17,
   "metadata": {},
   "outputs": [],
   "source": [
    "# insert date into original dateframe\n",
    "fish_data1.describe()\n",
    "\n",
    "df = pd.DataFrame(fish_data1[[\"komoditas\", \"price\"]])"
   ]
  },
  {
   "cell_type": "code",
   "execution_count": 18,
   "metadata": {},
   "outputs": [
    {
     "output_type": "execute_result",
     "data": {
      "text/plain": [
       "       komoditas  price\n",
       "16  Cupang leher  20100\n",
       "19        Arwana  20000\n",
       "24         Gabus  20000\n",
       "26          Lele  50000\n",
       "27         Gabus  20000"
      ],
      "text/html": "<div>\n<style scoped>\n    .dataframe tbody tr th:only-of-type {\n        vertical-align: middle;\n    }\n\n    .dataframe tbody tr th {\n        vertical-align: top;\n    }\n\n    .dataframe thead th {\n        text-align: right;\n    }\n</style>\n<table border=\"1\" class=\"dataframe\">\n  <thead>\n    <tr style=\"text-align: right;\">\n      <th></th>\n      <th>komoditas</th>\n      <th>price</th>\n    </tr>\n  </thead>\n  <tbody>\n    <tr>\n      <th>16</th>\n      <td>Cupang leher</td>\n      <td>20100</td>\n    </tr>\n    <tr>\n      <th>19</th>\n      <td>Arwana</td>\n      <td>20000</td>\n    </tr>\n    <tr>\n      <th>24</th>\n      <td>Gabus</td>\n      <td>20000</td>\n    </tr>\n    <tr>\n      <th>26</th>\n      <td>Lele</td>\n      <td>50000</td>\n    </tr>\n    <tr>\n      <th>27</th>\n      <td>Gabus</td>\n      <td>20000</td>\n    </tr>\n  </tbody>\n</table>\n</div>"
     },
     "metadata": {},
     "execution_count": 18
    }
   ],
   "source": [
    "df.head()"
   ]
  },
  {
   "cell_type": "code",
   "execution_count": 19,
   "metadata": {},
   "outputs": [],
   "source": [
    "df['week'] = date_iso"
   ]
  },
  {
   "cell_type": "code",
   "execution_count": 20,
   "metadata": {},
   "outputs": [
    {
     "output_type": "execute_result",
     "data": {
      "text/plain": [
       "                 komoditas    price     week\n",
       "16            Cupang leher    20100  2021-16\n",
       "19                  Arwana    20000  2021-15\n",
       "24                   Gabus    20000  2020-23\n",
       "26                    Lele    50000  2020-24\n",
       "27                   Gabus    20000  2020-24\n",
       "..                     ...      ...      ...\n",
       "220                  Gabus    12342  2021-16\n",
       "221                Bandeng    60000  2021-16\n",
       "222         Ikan sapu sapu    30000  2021-16\n",
       "223  Ikan sapu sapu super   2000000  2021-16\n",
       "224        Cupang Super 22   200000  2021-16\n",
       "\n",
       "[127 rows x 3 columns]"
      ],
      "text/html": "<div>\n<style scoped>\n    .dataframe tbody tr th:only-of-type {\n        vertical-align: middle;\n    }\n\n    .dataframe tbody tr th {\n        vertical-align: top;\n    }\n\n    .dataframe thead th {\n        text-align: right;\n    }\n</style>\n<table border=\"1\" class=\"dataframe\">\n  <thead>\n    <tr style=\"text-align: right;\">\n      <th></th>\n      <th>komoditas</th>\n      <th>price</th>\n      <th>week</th>\n    </tr>\n  </thead>\n  <tbody>\n    <tr>\n      <th>16</th>\n      <td>Cupang leher</td>\n      <td>20100</td>\n      <td>2021-16</td>\n    </tr>\n    <tr>\n      <th>19</th>\n      <td>Arwana</td>\n      <td>20000</td>\n      <td>2021-15</td>\n    </tr>\n    <tr>\n      <th>24</th>\n      <td>Gabus</td>\n      <td>20000</td>\n      <td>2020-23</td>\n    </tr>\n    <tr>\n      <th>26</th>\n      <td>Lele</td>\n      <td>50000</td>\n      <td>2020-24</td>\n    </tr>\n    <tr>\n      <th>27</th>\n      <td>Gabus</td>\n      <td>20000</td>\n      <td>2020-24</td>\n    </tr>\n    <tr>\n      <th>...</th>\n      <td>...</td>\n      <td>...</td>\n      <td>...</td>\n    </tr>\n    <tr>\n      <th>220</th>\n      <td>Gabus</td>\n      <td>12342</td>\n      <td>2021-16</td>\n    </tr>\n    <tr>\n      <th>221</th>\n      <td>Bandeng</td>\n      <td>60000</td>\n      <td>2021-16</td>\n    </tr>\n    <tr>\n      <th>222</th>\n      <td>Ikan sapu sapu</td>\n      <td>30000</td>\n      <td>2021-16</td>\n    </tr>\n    <tr>\n      <th>223</th>\n      <td>Ikan sapu sapu super</td>\n      <td>2000000</td>\n      <td>2021-16</td>\n    </tr>\n    <tr>\n      <th>224</th>\n      <td>Cupang Super 22</td>\n      <td>200000</td>\n      <td>2021-16</td>\n    </tr>\n  </tbody>\n</table>\n<p>127 rows × 3 columns</p>\n</div>"
     },
     "metadata": {},
     "execution_count": 20
    }
   ],
   "source": [
    "df"
   ]
  },
  {
   "cell_type": "code",
   "execution_count": 21,
   "metadata": {},
   "outputs": [
    {
     "output_type": "execute_result",
     "data": {
      "text/plain": [
       "komoditas    object\n",
       "price        object\n",
       "week         object\n",
       "dtype: object"
      ]
     },
     "metadata": {},
     "execution_count": 21
    }
   ],
   "source": [
    "df.dtypes"
   ]
  },
  {
   "cell_type": "code",
   "execution_count": 22,
   "metadata": {},
   "outputs": [
    {
     "output_type": "stream",
     "name": "stdout",
     "text": [
      "<class 'pandas.core.frame.DataFrame'>\nInt64Index: 127 entries, 16 to 224\nData columns (total 3 columns):\n #   Column     Non-Null Count  Dtype \n---  ------     --------------  ----- \n 0   komoditas  127 non-null    object\n 1   price      127 non-null    object\n 2   week       127 non-null    object\ndtypes: object(3)\nmemory usage: 4.0+ KB\n"
     ]
    }
   ],
   "source": [
    "df.info()"
   ]
  },
  {
   "cell_type": "code",
   "execution_count": 23,
   "metadata": {},
   "outputs": [],
   "source": [
    "#convert price into numberic\n",
    "df[\"price\"] = pd.to_numeric(df.price, errors='coerce')"
   ]
  },
  {
   "cell_type": "code",
   "execution_count": 24,
   "metadata": {},
   "outputs": [
    {
     "output_type": "execute_result",
     "data": {
      "text/plain": [
       "                 komoditas      price     week\n",
       "16            Cupang leher    20100.0  2021-16\n",
       "19                  Arwana    20000.0  2021-15\n",
       "24                   Gabus    20000.0  2020-23\n",
       "26                    Lele    50000.0  2020-24\n",
       "27                   Gabus    20000.0  2020-24\n",
       "..                     ...        ...      ...\n",
       "220                  Gabus    12342.0  2021-16\n",
       "221                Bandeng    60000.0  2021-16\n",
       "222         Ikan sapu sapu    30000.0  2021-16\n",
       "223  Ikan sapu sapu super   2000000.0  2021-16\n",
       "224        Cupang Super 22   200000.0  2021-16\n",
       "\n",
       "[127 rows x 3 columns]"
      ],
      "text/html": "<div>\n<style scoped>\n    .dataframe tbody tr th:only-of-type {\n        vertical-align: middle;\n    }\n\n    .dataframe tbody tr th {\n        vertical-align: top;\n    }\n\n    .dataframe thead th {\n        text-align: right;\n    }\n</style>\n<table border=\"1\" class=\"dataframe\">\n  <thead>\n    <tr style=\"text-align: right;\">\n      <th></th>\n      <th>komoditas</th>\n      <th>price</th>\n      <th>week</th>\n    </tr>\n  </thead>\n  <tbody>\n    <tr>\n      <th>16</th>\n      <td>Cupang leher</td>\n      <td>20100.0</td>\n      <td>2021-16</td>\n    </tr>\n    <tr>\n      <th>19</th>\n      <td>Arwana</td>\n      <td>20000.0</td>\n      <td>2021-15</td>\n    </tr>\n    <tr>\n      <th>24</th>\n      <td>Gabus</td>\n      <td>20000.0</td>\n      <td>2020-23</td>\n    </tr>\n    <tr>\n      <th>26</th>\n      <td>Lele</td>\n      <td>50000.0</td>\n      <td>2020-24</td>\n    </tr>\n    <tr>\n      <th>27</th>\n      <td>Gabus</td>\n      <td>20000.0</td>\n      <td>2020-24</td>\n    </tr>\n    <tr>\n      <th>...</th>\n      <td>...</td>\n      <td>...</td>\n      <td>...</td>\n    </tr>\n    <tr>\n      <th>220</th>\n      <td>Gabus</td>\n      <td>12342.0</td>\n      <td>2021-16</td>\n    </tr>\n    <tr>\n      <th>221</th>\n      <td>Bandeng</td>\n      <td>60000.0</td>\n      <td>2021-16</td>\n    </tr>\n    <tr>\n      <th>222</th>\n      <td>Ikan sapu sapu</td>\n      <td>30000.0</td>\n      <td>2021-16</td>\n    </tr>\n    <tr>\n      <th>223</th>\n      <td>Ikan sapu sapu super</td>\n      <td>2000000.0</td>\n      <td>2021-16</td>\n    </tr>\n    <tr>\n      <th>224</th>\n      <td>Cupang Super 22</td>\n      <td>200000.0</td>\n      <td>2021-16</td>\n    </tr>\n  </tbody>\n</table>\n<p>127 rows × 3 columns</p>\n</div>"
     },
     "metadata": {},
     "execution_count": 24
    }
   ],
   "source": [
    "df"
   ]
  },
  {
   "cell_type": "code",
   "execution_count": 25,
   "metadata": {},
   "outputs": [
    {
     "output_type": "stream",
     "name": "stdout",
     "text": [
      "<class 'pandas.core.frame.DataFrame'>\nInt64Index: 127 entries, 16 to 224\nData columns (total 3 columns):\n #   Column     Non-Null Count  Dtype  \n---  ------     --------------  -----  \n 0   komoditas  127 non-null    object \n 1   price      125 non-null    float64\n 2   week       127 non-null    object \ndtypes: float64(1), object(2)\nmemory usage: 4.0+ KB\n"
     ]
    }
   ],
   "source": [
    "df.info()"
   ]
  },
  {
   "cell_type": "code",
   "execution_count": 26,
   "metadata": {},
   "outputs": [],
   "source": [
    "grouped = df.groupby([\"komoditas\"])"
   ]
  },
  {
   "cell_type": "code",
   "execution_count": 27,
   "metadata": {},
   "outputs": [],
   "source": [
    "df4 = grouped.aggregate(np.sum)"
   ]
  },
  {
   "cell_type": "code",
   "execution_count": 28,
   "metadata": {},
   "outputs": [
    {
     "output_type": "execute_result",
     "data": {
      "text/plain": [
       "                            price\n",
       "komoditas                        \n",
       "Arwana               2.000000e+04\n",
       "Asin                 5.000000e+03\n",
       "Bandeng              8.600000e+05\n",
       "Bandeng Gundala      2.000000e+05\n",
       "Bandeng Keren        1.000000e+05\n",
       "...                           ...\n",
       "Udang Vannamei       2.364089e+06\n",
       "Udang Windu          2.000000e+04\n",
       "asdf                 0.000000e+00\n",
       "ikan indosiar        1.222220e+05\n",
       "ikan indosiar bakar  1.222222e+11\n",
       "\n",
       "[69 rows x 1 columns]"
      ],
      "text/html": "<div>\n<style scoped>\n    .dataframe tbody tr th:only-of-type {\n        vertical-align: middle;\n    }\n\n    .dataframe tbody tr th {\n        vertical-align: top;\n    }\n\n    .dataframe thead th {\n        text-align: right;\n    }\n</style>\n<table border=\"1\" class=\"dataframe\">\n  <thead>\n    <tr style=\"text-align: right;\">\n      <th></th>\n      <th>price</th>\n    </tr>\n    <tr>\n      <th>komoditas</th>\n      <th></th>\n    </tr>\n  </thead>\n  <tbody>\n    <tr>\n      <th>Arwana</th>\n      <td>2.000000e+04</td>\n    </tr>\n    <tr>\n      <th>Asin</th>\n      <td>5.000000e+03</td>\n    </tr>\n    <tr>\n      <th>Bandeng</th>\n      <td>8.600000e+05</td>\n    </tr>\n    <tr>\n      <th>Bandeng Gundala</th>\n      <td>2.000000e+05</td>\n    </tr>\n    <tr>\n      <th>Bandeng Keren</th>\n      <td>1.000000e+05</td>\n    </tr>\n    <tr>\n      <th>...</th>\n      <td>...</td>\n    </tr>\n    <tr>\n      <th>Udang Vannamei</th>\n      <td>2.364089e+06</td>\n    </tr>\n    <tr>\n      <th>Udang Windu</th>\n      <td>2.000000e+04</td>\n    </tr>\n    <tr>\n      <th>asdf</th>\n      <td>0.000000e+00</td>\n    </tr>\n    <tr>\n      <th>ikan indosiar</th>\n      <td>1.222220e+05</td>\n    </tr>\n    <tr>\n      <th>ikan indosiar bakar</th>\n      <td>1.222222e+11</td>\n    </tr>\n  </tbody>\n</table>\n<p>69 rows × 1 columns</p>\n</div>"
     },
     "metadata": {},
     "execution_count": 28
    }
   ],
   "source": [
    "df4"
   ]
  },
  {
   "cell_type": "code",
   "execution_count": 29,
   "metadata": {},
   "outputs": [
    {
     "output_type": "execute_result",
     "data": {
      "text/plain": [
       "pandas.core.frame.DataFrame"
      ]
     },
     "metadata": {},
     "execution_count": 29
    }
   ],
   "source": [
    "type(df4)"
   ]
  },
  {
   "cell_type": "code",
   "execution_count": 30,
   "metadata": {},
   "outputs": [
    {
     "output_type": "execute_result",
     "data": {
      "text/plain": [
       "                            price\n",
       "komoditas                        \n",
       "Arwana               2.000000e+04\n",
       "Asin                 5.000000e+03\n",
       "Bandeng              8.600000e+05\n",
       "Bandeng Gundala      2.000000e+05\n",
       "Bandeng Keren        1.000000e+05\n",
       "...                           ...\n",
       "Udang Vannamei       2.364089e+06\n",
       "Udang Windu          2.000000e+04\n",
       "asdf                 0.000000e+00\n",
       "ikan indosiar        1.222220e+05\n",
       "ikan indosiar bakar  1.222222e+11\n",
       "\n",
       "[69 rows x 1 columns]"
      ],
      "text/html": "<div>\n<style scoped>\n    .dataframe tbody tr th:only-of-type {\n        vertical-align: middle;\n    }\n\n    .dataframe tbody tr th {\n        vertical-align: top;\n    }\n\n    .dataframe thead th {\n        text-align: right;\n    }\n</style>\n<table border=\"1\" class=\"dataframe\">\n  <thead>\n    <tr style=\"text-align: right;\">\n      <th></th>\n      <th>price</th>\n    </tr>\n    <tr>\n      <th>komoditas</th>\n      <th></th>\n    </tr>\n  </thead>\n  <tbody>\n    <tr>\n      <th>Arwana</th>\n      <td>2.000000e+04</td>\n    </tr>\n    <tr>\n      <th>Asin</th>\n      <td>5.000000e+03</td>\n    </tr>\n    <tr>\n      <th>Bandeng</th>\n      <td>8.600000e+05</td>\n    </tr>\n    <tr>\n      <th>Bandeng Gundala</th>\n      <td>2.000000e+05</td>\n    </tr>\n    <tr>\n      <th>Bandeng Keren</th>\n      <td>1.000000e+05</td>\n    </tr>\n    <tr>\n      <th>...</th>\n      <td>...</td>\n    </tr>\n    <tr>\n      <th>Udang Vannamei</th>\n      <td>2.364089e+06</td>\n    </tr>\n    <tr>\n      <th>Udang Windu</th>\n      <td>2.000000e+04</td>\n    </tr>\n    <tr>\n      <th>asdf</th>\n      <td>0.000000e+00</td>\n    </tr>\n    <tr>\n      <th>ikan indosiar</th>\n      <td>1.222220e+05</td>\n    </tr>\n    <tr>\n      <th>ikan indosiar bakar</th>\n      <td>1.222222e+11</td>\n    </tr>\n  </tbody>\n</table>\n<p>69 rows × 1 columns</p>\n</div>"
     },
     "metadata": {},
     "execution_count": 30
    }
   ],
   "source": [
    "grouped.aggregate(np.sum)"
   ]
  },
  {
   "cell_type": "code",
   "execution_count": 31,
   "metadata": {},
   "outputs": [],
   "source": [
    "import missingno as msno\n",
    "import matplotlib.pyplot as plt"
   ]
  },
  {
   "cell_type": "code",
   "execution_count": null,
   "metadata": {},
   "outputs": [],
   "source": []
  }
 ]
}